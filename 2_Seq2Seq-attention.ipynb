{
 "cells": [
  {
   "cell_type": "markdown",
   "metadata": {},
   "source": [
    "# Seq2Seq with attention\n",
    "By Pranav Goyal"
   ]
  },
  {
   "cell_type": "code",
   "execution_count": 1,
   "metadata": {},
   "outputs": [],
   "source": [
    "import pandas as pd\n",
    "import numpy as np\n",
    "import re\n",
    "from collections import defaultdict\n",
    "import matplotlib.pyplot as plt\n",
    "from tqdm import tqdm\n",
    "from sklearn.model_selection import train_test_split\n",
    "import tensorflow as tf\n",
    "from tensorflow import keras\n",
    "from tensorflow.keras import layers\n",
    "from nltk.translate.bleu_score import sentence_bleu"
   ]
  },
  {
   "cell_type": "markdown",
   "metadata": {},
   "source": [
    "### GPU Configuration"
   ]
  },
  {
   "cell_type": "code",
   "execution_count": 2,
   "metadata": {},
   "outputs": [
    {
     "data": {
      "text/plain": [
       "[PhysicalDevice(name='/physical_device:CPU:0', device_type='CPU'),\n",
       " PhysicalDevice(name='/physical_device:XLA_CPU:0', device_type='XLA_CPU'),\n",
       " PhysicalDevice(name='/physical_device:XLA_GPU:0', device_type='XLA_GPU'),\n",
       " PhysicalDevice(name='/physical_device:GPU:0', device_type='GPU')]"
      ]
     },
     "execution_count": 2,
     "metadata": {},
     "output_type": "execute_result"
    }
   ],
   "source": [
    "tf.config.experimental.list_physical_devices()"
   ]
  },
  {
   "cell_type": "code",
   "execution_count": 3,
   "metadata": {},
   "outputs": [],
   "source": [
    "gpus = tf.config.experimental.list_physical_devices(device_type='GPU')\n",
    "tf.config.experimental.set_visible_devices(devices=gpus[0], device_type='GPU')\n",
    "tf.config.experimental.set_memory_growth(device=gpus[0], enable=True)"
   ]
  },
  {
   "cell_type": "markdown",
   "metadata": {},
   "source": [
    "### Data Preprocessing"
   ]
  },
  {
   "cell_type": "code",
   "execution_count": 4,
   "metadata": {},
   "outputs": [],
   "source": [
    "df = pd.read_pickle('en_hi_data/en_hi.pkl')"
   ]
  },
  {
   "cell_type": "code",
   "execution_count": 5,
   "metadata": {},
   "outputs": [
    {
     "data": {
      "text/html": [
       "<div>\n",
       "<style scoped>\n",
       "    .dataframe tbody tr th:only-of-type {\n",
       "        vertical-align: middle;\n",
       "    }\n",
       "\n",
       "    .dataframe tbody tr th {\n",
       "        vertical-align: top;\n",
       "    }\n",
       "\n",
       "    .dataframe thead th {\n",
       "        text-align: right;\n",
       "    }\n",
       "</style>\n",
       "<table border=\"1\" class=\"dataframe\">\n",
       "  <thead>\n",
       "    <tr style=\"text-align: right;\">\n",
       "      <th></th>\n",
       "      <th>english</th>\n",
       "      <th>hindi</th>\n",
       "    </tr>\n",
       "  </thead>\n",
       "  <tbody>\n",
       "    <tr>\n",
       "      <th>57382</th>\n",
       "      <td>Who is this man?\\n</td>\n",
       "      <td>-ये आदमी कौन है ?\\n</td>\n",
       "    </tr>\n",
       "    <tr>\n",
       "      <th>28149</th>\n",
       "      <td>And the other brother?\\n</td>\n",
       "      <td>और दूसरे भाई?\\n</td>\n",
       "    </tr>\n",
       "    <tr>\n",
       "      <th>80284</th>\n",
       "      <td>- Greetings, Mustakeen bhai.\\n</td>\n",
       "      <td>नमस्ते, Mustakeen भाई।\\n</td>\n",
       "    </tr>\n",
       "    <tr>\n",
       "      <th>63596</th>\n",
       "      <td>Please, reason with them.\\n</td>\n",
       "      <td>कृपया, उन लोगों के साथ कारण.\\n</td>\n",
       "    </tr>\n",
       "    <tr>\n",
       "      <th>9459</th>\n",
       "      <td>There's a howling gale.\\n</td>\n",
       "      <td>तेज़ हवा आ रही है।\\n</td>\n",
       "    </tr>\n",
       "    <tr>\n",
       "      <th>...</th>\n",
       "      <td>...</td>\n",
       "      <td>...</td>\n",
       "    </tr>\n",
       "    <tr>\n",
       "      <th>80140</th>\n",
       "      <td>\"Let's enjoy this life, sweetheart.\"\\n</td>\n",
       "      <td>\"हम इस जीवन, जानेमन का आनंद लें।\"\\n</td>\n",
       "    </tr>\n",
       "    <tr>\n",
       "      <th>66651</th>\n",
       "      <td>Let's get out of here.\\n</td>\n",
       "      <td>चलो अब चलो यहाँ से .\\n</td>\n",
       "    </tr>\n",
       "    <tr>\n",
       "      <th>35946</th>\n",
       "      <td>WE'RE GOING TO THE GARAGE.\\n</td>\n",
       "      <td>हम गेराज के लिए जा रहे हैं.\\n</td>\n",
       "    </tr>\n",
       "    <tr>\n",
       "      <th>44917</th>\n",
       "      <td>It's gonna be dark soon.\\n</td>\n",
       "      <td>यह जल्द ही अंधेरा होने वाला है.\\n</td>\n",
       "    </tr>\n",
       "    <tr>\n",
       "      <th>15083</th>\n",
       "      <td>I don't know, Frau Junge.\\n</td>\n",
       "      <td>मैं नहीं जानता, फ्रॉ जुंग.\\n</td>\n",
       "    </tr>\n",
       "  </tbody>\n",
       "</table>\n",
       "<p>10000 rows × 2 columns</p>\n",
       "</div>"
      ],
      "text/plain": [
       "                                      english  \\\n",
       "57382                      Who is this man?\\n   \n",
       "28149                And the other brother?\\n   \n",
       "80284          - Greetings, Mustakeen bhai.\\n   \n",
       "63596             Please, reason with them.\\n   \n",
       "9459                There's a howling gale.\\n   \n",
       "...                                       ...   \n",
       "80140  \"Let's enjoy this life, sweetheart.\"\\n   \n",
       "66651                Let's get out of here.\\n   \n",
       "35946            WE'RE GOING TO THE GARAGE.\\n   \n",
       "44917              It's gonna be dark soon.\\n   \n",
       "15083             I don't know, Frau Junge.\\n   \n",
       "\n",
       "                                     hindi  \n",
       "57382                  -ये आदमी कौन है ?\\n  \n",
       "28149                      और दूसरे भाई?\\n  \n",
       "80284             नमस्ते, Mustakeen भाई।\\n  \n",
       "63596       कृपया, उन लोगों के साथ कारण.\\n  \n",
       "9459                   तेज़ हवा आ रही है।\\n  \n",
       "...                                    ...  \n",
       "80140  \"हम इस जीवन, जानेमन का आनंद लें।\"\\n  \n",
       "66651               चलो अब चलो यहाँ से .\\n  \n",
       "35946        हम गेराज के लिए जा रहे हैं.\\n  \n",
       "44917    यह जल्द ही अंधेरा होने वाला है.\\n  \n",
       "15083         मैं नहीं जानता, फ्रॉ जुंग.\\n  \n",
       "\n",
       "[10000 rows x 2 columns]"
      ]
     },
     "execution_count": 5,
     "metadata": {},
     "output_type": "execute_result"
    }
   ],
   "source": [
    "df"
   ]
  },
  {
   "cell_type": "code",
   "execution_count": 6,
   "metadata": {},
   "outputs": [],
   "source": [
    "def clean_text(text):\n",
    "    '''Clean text by removing unnecessary characters and altering the format of words.'''\n",
    "    \n",
    "    text = text.lower()\n",
    "    \n",
    "    text = re.sub(r\"\\\\n\", \"\", text)\n",
    "    text = re.sub(r\"i'm\", \"i am\", text)\n",
    "    text = re.sub(r\"he's\", \"he is\", text)\n",
    "    text = re.sub(r\"she's\", \"she is\", text)\n",
    "    text = re.sub(r\"it's\", \"it is\", text)\n",
    "    text = re.sub(r\"let's\", \"let us\", text)\n",
    "    text = re.sub(r\"that's\", \"that is\", text)\n",
    "    text = re.sub(r\"what's\", \"that is\", text)\n",
    "    text = re.sub(r\"where's\", \"where is\", text)\n",
    "    text = re.sub(r\"how's\", \"how is\", text)\n",
    "    text = re.sub(r\"there's\", \"there is\", text)\n",
    "    text = re.sub(r\"'s\", \" 's\", text)\n",
    "    text = re.sub(r\"\\'ll\", \" will\", text)\n",
    "    text = re.sub(r\"\\'ve\", \" have\", text)\n",
    "    text = re.sub(r\"\\'re\", \" are\", text)\n",
    "    text = re.sub(r\"\\'d\", \" would\", text)\n",
    "    text = re.sub(r\"\\'re\", \" are\", text)\n",
    "    text = re.sub(r\"won't\", \"will not\", text)\n",
    "    text = re.sub(r\"can't\", \"cannot\", text)\n",
    "    text = re.sub(r\"n't\", \" not\", text)\n",
    "    text = re.sub(r\"n'\", \"ng\", text)\n",
    "    text = re.sub(r\"'bout\", \"about\", text)\n",
    "    text = re.sub(r\"'til\", \"until\", text)\n",
    "    # removing the punctuations\n",
    "    text = re.sub(r'([-()\\\"#/@;:<>{}`।+=~|.!?\\\",])', r\"\", text)\n",
    "    text = re.sub(r\" [ ]*\", \" \", text)\n",
    "    text = text.strip()\n",
    "    \n",
    "    text = text.split(' ')\n",
    "    return text"
   ]
  },
  {
   "cell_type": "code",
   "execution_count": 7,
   "metadata": {},
   "outputs": [],
   "source": [
    "df['cleaned_english'] = df['english'].apply(clean_text)\n",
    "df['english_len'] = df['cleaned_english'].apply(lambda x: len(x))\n",
    "df['cleaned_hindi'] = df['hindi'].apply(clean_text)\n",
    "df['hindi_len'] = df['cleaned_hindi'].apply(lambda x: len(x))\n",
    "df['cleaned_hindi'] = df['cleaned_hindi'].apply(lambda x: ['<begin>']+x+['<end>'])"
   ]
  },
  {
   "cell_type": "code",
   "execution_count": 8,
   "metadata": {},
   "outputs": [
    {
     "data": {
      "text/html": [
       "<div>\n",
       "<style scoped>\n",
       "    .dataframe tbody tr th:only-of-type {\n",
       "        vertical-align: middle;\n",
       "    }\n",
       "\n",
       "    .dataframe tbody tr th {\n",
       "        vertical-align: top;\n",
       "    }\n",
       "\n",
       "    .dataframe thead th {\n",
       "        text-align: right;\n",
       "    }\n",
       "</style>\n",
       "<table border=\"1\" class=\"dataframe\">\n",
       "  <thead>\n",
       "    <tr style=\"text-align: right;\">\n",
       "      <th></th>\n",
       "      <th>english</th>\n",
       "      <th>hindi</th>\n",
       "      <th>cleaned_english</th>\n",
       "      <th>english_len</th>\n",
       "      <th>cleaned_hindi</th>\n",
       "      <th>hindi_len</th>\n",
       "    </tr>\n",
       "  </thead>\n",
       "  <tbody>\n",
       "    <tr>\n",
       "      <th>57382</th>\n",
       "      <td>Who is this man?\\n</td>\n",
       "      <td>-ये आदमी कौन है ?\\n</td>\n",
       "      <td>[who, is, this, man]</td>\n",
       "      <td>4</td>\n",
       "      <td>[&lt;begin&gt;, ये, आदमी, कौन, है, &lt;end&gt;]</td>\n",
       "      <td>4</td>\n",
       "    </tr>\n",
       "    <tr>\n",
       "      <th>28149</th>\n",
       "      <td>And the other brother?\\n</td>\n",
       "      <td>और दूसरे भाई?\\n</td>\n",
       "      <td>[and, the, other, brother]</td>\n",
       "      <td>4</td>\n",
       "      <td>[&lt;begin&gt;, और, दूसरे, भाई, &lt;end&gt;]</td>\n",
       "      <td>3</td>\n",
       "    </tr>\n",
       "    <tr>\n",
       "      <th>80284</th>\n",
       "      <td>- Greetings, Mustakeen bhai.\\n</td>\n",
       "      <td>नमस्ते, Mustakeen भाई।\\n</td>\n",
       "      <td>[greetings, mustakeen, bhai]</td>\n",
       "      <td>3</td>\n",
       "      <td>[&lt;begin&gt;, नमस्ते, mustakeen, भाई, &lt;end&gt;]</td>\n",
       "      <td>3</td>\n",
       "    </tr>\n",
       "    <tr>\n",
       "      <th>63596</th>\n",
       "      <td>Please, reason with them.\\n</td>\n",
       "      <td>कृपया, उन लोगों के साथ कारण.\\n</td>\n",
       "      <td>[please, reason, with, them]</td>\n",
       "      <td>4</td>\n",
       "      <td>[&lt;begin&gt;, कृपया, उन, लोगों, के, साथ, कारण, &lt;end&gt;]</td>\n",
       "      <td>6</td>\n",
       "    </tr>\n",
       "    <tr>\n",
       "      <th>9459</th>\n",
       "      <td>There's a howling gale.\\n</td>\n",
       "      <td>तेज़ हवा आ रही है।\\n</td>\n",
       "      <td>[there, is, a, howling, gale]</td>\n",
       "      <td>5</td>\n",
       "      <td>[&lt;begin&gt;, तेज़, हवा, आ, रही, है, &lt;end&gt;]</td>\n",
       "      <td>5</td>\n",
       "    </tr>\n",
       "    <tr>\n",
       "      <th>...</th>\n",
       "      <td>...</td>\n",
       "      <td>...</td>\n",
       "      <td>...</td>\n",
       "      <td>...</td>\n",
       "      <td>...</td>\n",
       "      <td>...</td>\n",
       "    </tr>\n",
       "    <tr>\n",
       "      <th>80140</th>\n",
       "      <td>\"Let's enjoy this life, sweetheart.\"\\n</td>\n",
       "      <td>\"हम इस जीवन, जानेमन का आनंद लें।\"\\n</td>\n",
       "      <td>[let, us, enjoy, this, life, sweetheart]</td>\n",
       "      <td>6</td>\n",
       "      <td>[&lt;begin&gt;, हम, इस, जीवन, जानेमन, का, आनंद, लें,...</td>\n",
       "      <td>7</td>\n",
       "    </tr>\n",
       "    <tr>\n",
       "      <th>66651</th>\n",
       "      <td>Let's get out of here.\\n</td>\n",
       "      <td>चलो अब चलो यहाँ से .\\n</td>\n",
       "      <td>[let, us, get, out, of, here]</td>\n",
       "      <td>6</td>\n",
       "      <td>[&lt;begin&gt;, चलो, अब, चलो, यहाँ, से, &lt;end&gt;]</td>\n",
       "      <td>5</td>\n",
       "    </tr>\n",
       "    <tr>\n",
       "      <th>35946</th>\n",
       "      <td>WE'RE GOING TO THE GARAGE.\\n</td>\n",
       "      <td>हम गेराज के लिए जा रहे हैं.\\n</td>\n",
       "      <td>[we, are, going, to, the, garage]</td>\n",
       "      <td>6</td>\n",
       "      <td>[&lt;begin&gt;, हम, गेराज, के, लिए, जा, रहे, हैं, &lt;e...</td>\n",
       "      <td>7</td>\n",
       "    </tr>\n",
       "    <tr>\n",
       "      <th>44917</th>\n",
       "      <td>It's gonna be dark soon.\\n</td>\n",
       "      <td>यह जल्द ही अंधेरा होने वाला है.\\n</td>\n",
       "      <td>[it, is, gonna, be, dark, soon]</td>\n",
       "      <td>6</td>\n",
       "      <td>[&lt;begin&gt;, यह, जल्द, ही, अंधेरा, होने, वाला, है...</td>\n",
       "      <td>7</td>\n",
       "    </tr>\n",
       "    <tr>\n",
       "      <th>15083</th>\n",
       "      <td>I don't know, Frau Junge.\\n</td>\n",
       "      <td>मैं नहीं जानता, फ्रॉ जुंग.\\n</td>\n",
       "      <td>[i, do, not, know, frau, junge]</td>\n",
       "      <td>6</td>\n",
       "      <td>[&lt;begin&gt;, मैं, नहीं, जानता, फ्रॉ, जुंग, &lt;end&gt;]</td>\n",
       "      <td>5</td>\n",
       "    </tr>\n",
       "  </tbody>\n",
       "</table>\n",
       "<p>10000 rows × 6 columns</p>\n",
       "</div>"
      ],
      "text/plain": [
       "                                      english  \\\n",
       "57382                      Who is this man?\\n   \n",
       "28149                And the other brother?\\n   \n",
       "80284          - Greetings, Mustakeen bhai.\\n   \n",
       "63596             Please, reason with them.\\n   \n",
       "9459                There's a howling gale.\\n   \n",
       "...                                       ...   \n",
       "80140  \"Let's enjoy this life, sweetheart.\"\\n   \n",
       "66651                Let's get out of here.\\n   \n",
       "35946            WE'RE GOING TO THE GARAGE.\\n   \n",
       "44917              It's gonna be dark soon.\\n   \n",
       "15083             I don't know, Frau Junge.\\n   \n",
       "\n",
       "                                     hindi  \\\n",
       "57382                  -ये आदमी कौन है ?\\n   \n",
       "28149                      और दूसरे भाई?\\n   \n",
       "80284             नमस्ते, Mustakeen भाई।\\n   \n",
       "63596       कृपया, उन लोगों के साथ कारण.\\n   \n",
       "9459                   तेज़ हवा आ रही है।\\n   \n",
       "...                                    ...   \n",
       "80140  \"हम इस जीवन, जानेमन का आनंद लें।\"\\n   \n",
       "66651               चलो अब चलो यहाँ से .\\n   \n",
       "35946        हम गेराज के लिए जा रहे हैं.\\n   \n",
       "44917    यह जल्द ही अंधेरा होने वाला है.\\n   \n",
       "15083         मैं नहीं जानता, फ्रॉ जुंग.\\n   \n",
       "\n",
       "                                cleaned_english  english_len  \\\n",
       "57382                      [who, is, this, man]            4   \n",
       "28149                [and, the, other, brother]            4   \n",
       "80284              [greetings, mustakeen, bhai]            3   \n",
       "63596              [please, reason, with, them]            4   \n",
       "9459              [there, is, a, howling, gale]            5   \n",
       "...                                         ...          ...   \n",
       "80140  [let, us, enjoy, this, life, sweetheart]            6   \n",
       "66651             [let, us, get, out, of, here]            6   \n",
       "35946         [we, are, going, to, the, garage]            6   \n",
       "44917           [it, is, gonna, be, dark, soon]            6   \n",
       "15083           [i, do, not, know, frau, junge]            6   \n",
       "\n",
       "                                           cleaned_hindi  hindi_len  \n",
       "57382                [<begin>, ये, आदमी, कौन, है, <end>]          4  \n",
       "28149                   [<begin>, और, दूसरे, भाई, <end>]          3  \n",
       "80284           [<begin>, नमस्ते, mustakeen, भाई, <end>]          3  \n",
       "63596  [<begin>, कृपया, उन, लोगों, के, साथ, कारण, <end>]          6  \n",
       "9459              [<begin>, तेज़, हवा, आ, रही, है, <end>]          5  \n",
       "...                                                  ...        ...  \n",
       "80140  [<begin>, हम, इस, जीवन, जानेमन, का, आनंद, लें,...          7  \n",
       "66651           [<begin>, चलो, अब, चलो, यहाँ, से, <end>]          5  \n",
       "35946  [<begin>, हम, गेराज, के, लिए, जा, रहे, हैं, <e...          7  \n",
       "44917  [<begin>, यह, जल्द, ही, अंधेरा, होने, वाला, है...          7  \n",
       "15083     [<begin>, मैं, नहीं, जानता, फ्रॉ, जुंग, <end>]          5  \n",
       "\n",
       "[10000 rows x 6 columns]"
      ]
     },
     "execution_count": 8,
     "metadata": {},
     "output_type": "execute_result"
    }
   ],
   "source": [
    "df"
   ]
  },
  {
   "cell_type": "code",
   "execution_count": 9,
   "metadata": {},
   "outputs": [
    {
     "data": {
      "text/html": [
       "<div>\n",
       "<style scoped>\n",
       "    .dataframe tbody tr th:only-of-type {\n",
       "        vertical-align: middle;\n",
       "    }\n",
       "\n",
       "    .dataframe tbody tr th {\n",
       "        vertical-align: top;\n",
       "    }\n",
       "\n",
       "    .dataframe thead th {\n",
       "        text-align: right;\n",
       "    }\n",
       "</style>\n",
       "<table border=\"1\" class=\"dataframe\">\n",
       "  <thead>\n",
       "    <tr style=\"text-align: right;\">\n",
       "      <th></th>\n",
       "      <th>english_len</th>\n",
       "      <th>hindi_len</th>\n",
       "    </tr>\n",
       "  </thead>\n",
       "  <tbody>\n",
       "    <tr>\n",
       "      <th>count</th>\n",
       "      <td>10000.000000</td>\n",
       "      <td>10000.000000</td>\n",
       "    </tr>\n",
       "    <tr>\n",
       "      <th>mean</th>\n",
       "      <td>4.657800</td>\n",
       "      <td>5.117600</td>\n",
       "    </tr>\n",
       "    <tr>\n",
       "      <th>std</th>\n",
       "      <td>0.819491</td>\n",
       "      <td>1.782607</td>\n",
       "    </tr>\n",
       "    <tr>\n",
       "      <th>min</th>\n",
       "      <td>1.000000</td>\n",
       "      <td>1.000000</td>\n",
       "    </tr>\n",
       "    <tr>\n",
       "      <th>25%</th>\n",
       "      <td>4.000000</td>\n",
       "      <td>4.000000</td>\n",
       "    </tr>\n",
       "    <tr>\n",
       "      <th>50%</th>\n",
       "      <td>5.000000</td>\n",
       "      <td>5.000000</td>\n",
       "    </tr>\n",
       "    <tr>\n",
       "      <th>75%</th>\n",
       "      <td>5.000000</td>\n",
       "      <td>6.000000</td>\n",
       "    </tr>\n",
       "    <tr>\n",
       "      <th>max</th>\n",
       "      <td>8.000000</td>\n",
       "      <td>28.000000</td>\n",
       "    </tr>\n",
       "  </tbody>\n",
       "</table>\n",
       "</div>"
      ],
      "text/plain": [
       "        english_len     hindi_len\n",
       "count  10000.000000  10000.000000\n",
       "mean       4.657800      5.117600\n",
       "std        0.819491      1.782607\n",
       "min        1.000000      1.000000\n",
       "25%        4.000000      4.000000\n",
       "50%        5.000000      5.000000\n",
       "75%        5.000000      6.000000\n",
       "max        8.000000     28.000000"
      ]
     },
     "execution_count": 9,
     "metadata": {},
     "output_type": "execute_result"
    }
   ],
   "source": [
    "df.describe()"
   ]
  },
  {
   "cell_type": "code",
   "execution_count": 10,
   "metadata": {},
   "outputs": [
    {
     "name": "stdout",
     "output_type": "stream",
     "text": [
      "12\n"
     ]
    }
   ],
   "source": [
    "print(len(df[df['hindi_len']>14]))"
   ]
  },
  {
   "cell_type": "code",
   "execution_count": 11,
   "metadata": {},
   "outputs": [],
   "source": [
    "english_max_len = 8\n",
    "hindi_max_len = 30"
   ]
  },
  {
   "cell_type": "code",
   "execution_count": 12,
   "metadata": {},
   "outputs": [
    {
     "data": {
      "text/html": [
       "<div>\n",
       "<style scoped>\n",
       "    .dataframe tbody tr th:only-of-type {\n",
       "        vertical-align: middle;\n",
       "    }\n",
       "\n",
       "    .dataframe tbody tr th {\n",
       "        vertical-align: top;\n",
       "    }\n",
       "\n",
       "    .dataframe thead th {\n",
       "        text-align: right;\n",
       "    }\n",
       "</style>\n",
       "<table border=\"1\" class=\"dataframe\">\n",
       "  <thead>\n",
       "    <tr style=\"text-align: right;\">\n",
       "      <th></th>\n",
       "      <th>english</th>\n",
       "      <th>hindi</th>\n",
       "      <th>cleaned_english</th>\n",
       "      <th>english_len</th>\n",
       "      <th>cleaned_hindi</th>\n",
       "      <th>hindi_len</th>\n",
       "    </tr>\n",
       "  </thead>\n",
       "  <tbody>\n",
       "    <tr>\n",
       "      <th>68992</th>\n",
       "      <td>Start anywhere you like.\\n</td>\n",
       "      <td>विनाश का दिवस जहाँ से चाहो शुरू कर सकते हो।\\n</td>\n",
       "      <td>[start, anywhere, you, like]</td>\n",
       "      <td>4</td>\n",
       "      <td>[&lt;begin&gt;, विनाश, का, दिवस, जहाँ, से, चाहो, शुर...</td>\n",
       "      <td>10</td>\n",
       "    </tr>\n",
       "    <tr>\n",
       "      <th>32941</th>\n",
       "      <td>A little unfinished business.\\n</td>\n",
       "      <td>वह बेबी जैक पाया और वह उसे सुरक्षित रखने के लि...</td>\n",
       "      <td>[a, little, unfinished, business]</td>\n",
       "      <td>4</td>\n",
       "      <td>[&lt;begin&gt;, वह, बेबी, जैक, पाया, और, वह, उसे, सु...</td>\n",
       "      <td>28</td>\n",
       "    </tr>\n",
       "    <tr>\n",
       "      <th>91719</th>\n",
       "      <td>I can't remember. Really?\\n</td>\n",
       "      <td>और तकनीकी तौर पर तुम एक मूर्ख हो, नहीं हो क्या?\\n</td>\n",
       "      <td>[i, cannot, remember, really]</td>\n",
       "      <td>4</td>\n",
       "      <td>[&lt;begin&gt;, और, तकनीकी, तौर, पर, तुम, एक, मूर्ख,...</td>\n",
       "      <td>11</td>\n",
       "    </tr>\n",
       "    <tr>\n",
       "      <th>66849</th>\n",
       "      <td>Hard to know. Years?\\n</td>\n",
       "      <td>कहना जरा कठिन है, फिर भी कुछ साल तो जरुर लगेंग...</td>\n",
       "      <td>[hard, to, know, years]</td>\n",
       "      <td>4</td>\n",
       "      <td>[&lt;begin&gt;, कहना, जरा, कठिन, है, फिर, भी, कुछ, स...</td>\n",
       "      <td>11</td>\n",
       "    </tr>\n",
       "    <tr>\n",
       "      <th>19117</th>\n",
       "      <td>Track ahead looks good.\\n</td>\n",
       "      <td>मैं ऐसा नहीं करोगे. लगता है एल एल कुछ देखना.\\n</td>\n",
       "      <td>[track, ahead, looks, good]</td>\n",
       "      <td>4</td>\n",
       "      <td>[&lt;begin&gt;, मैं, ऐसा, नहीं, करोगे, लगता, है, एल,...</td>\n",
       "      <td>10</td>\n",
       "    </tr>\n",
       "    <tr>\n",
       "      <th>...</th>\n",
       "      <td>...</td>\n",
       "      <td>...</td>\n",
       "      <td>...</td>\n",
       "      <td>...</td>\n",
       "      <td>...</td>\n",
       "      <td>...</td>\n",
       "    </tr>\n",
       "    <tr>\n",
       "      <th>2529</th>\n",
       "      <td>KDK 1 calling KDK 12.\\n</td>\n",
       "      <td>के डी के 1बुला रहा है के डी के 12 को.\\n</td>\n",
       "      <td>[kdk, 1, calling, kdk, 12]</td>\n",
       "      <td>5</td>\n",
       "      <td>[&lt;begin&gt;, के, डी, के, 1बुला, रहा, है, के, डी, ...</td>\n",
       "      <td>11</td>\n",
       "    </tr>\n",
       "    <tr>\n",
       "      <th>90490</th>\n",
       "      <td>Well, that's very flattering, Andy.\\n</td>\n",
       "      <td>तो यह इंटरव्यू ख़त्म हुआ समझो। यह बहुत ख़ुशी देन...</td>\n",
       "      <td>[well, that, is, very, flattering, andy]</td>\n",
       "      <td>6</td>\n",
       "      <td>[&lt;begin&gt;, तो, यह, इंटरव्यू, ख़त्म, हुआ, समझो, य...</td>\n",
       "      <td>13</td>\n",
       "    </tr>\n",
       "    <tr>\n",
       "      <th>78153</th>\n",
       "      <td>I can't feel my legs.\\n</td>\n",
       "      <td>मैं अपने पैरों को महसूस नहीं कर सकते हैं कर सक...</td>\n",
       "      <td>[i, cannot, feel, my, legs]</td>\n",
       "      <td>5</td>\n",
       "      <td>[&lt;begin&gt;, मैं, अपने, पैरों, को, महसूस, नहीं, क...</td>\n",
       "      <td>12</td>\n",
       "    </tr>\n",
       "    <tr>\n",
       "      <th>2538</th>\n",
       "      <td>KDK 1 calling KDK 12.\\n</td>\n",
       "      <td>के डी के 1 बुला रहा है के डी के 12 को.\\n</td>\n",
       "      <td>[kdk, 1, calling, kdk, 12]</td>\n",
       "      <td>5</td>\n",
       "      <td>[&lt;begin&gt;, के, डी, के, 1, बुला, रहा, है, के, डी...</td>\n",
       "      <td>12</td>\n",
       "    </tr>\n",
       "    <tr>\n",
       "      <th>12675</th>\n",
       "      <td>You are nothing to him.\\n</td>\n",
       "      <td>आप उसे करने के लिए कुछ भी नहीं कर रहे हैं.\\n</td>\n",
       "      <td>[you, are, nothing, to, him]</td>\n",
       "      <td>5</td>\n",
       "      <td>[&lt;begin&gt;, आप, उसे, करने, के, लिए, कुछ, भी, नही...</td>\n",
       "      <td>11</td>\n",
       "    </tr>\n",
       "  </tbody>\n",
       "</table>\n",
       "<p>67 rows × 6 columns</p>\n",
       "</div>"
      ],
      "text/plain": [
       "                                     english  \\\n",
       "68992             Start anywhere you like.\\n   \n",
       "32941        A little unfinished business.\\n   \n",
       "91719            I can't remember. Really?\\n   \n",
       "66849                 Hard to know. Years?\\n   \n",
       "19117              Track ahead looks good.\\n   \n",
       "...                                      ...   \n",
       "2529                 KDK 1 calling KDK 12.\\n   \n",
       "90490  Well, that's very flattering, Andy.\\n   \n",
       "78153                I can't feel my legs.\\n   \n",
       "2538                 KDK 1 calling KDK 12.\\n   \n",
       "12675              You are nothing to him.\\n   \n",
       "\n",
       "                                                   hindi  \\\n",
       "68992      विनाश का दिवस जहाँ से चाहो शुरू कर सकते हो।\\n   \n",
       "32941  वह बेबी जैक पाया और वह उसे सुरक्षित रखने के लि...   \n",
       "91719  और तकनीकी तौर पर तुम एक मूर्ख हो, नहीं हो क्या?\\n   \n",
       "66849  कहना जरा कठिन है, फिर भी कुछ साल तो जरुर लगेंग...   \n",
       "19117     मैं ऐसा नहीं करोगे. लगता है एल एल कुछ देखना.\\n   \n",
       "...                                                  ...   \n",
       "2529             के डी के 1बुला रहा है के डी के 12 को.\\n   \n",
       "90490  तो यह इंटरव्यू ख़त्म हुआ समझो। यह बहुत ख़ुशी देन...   \n",
       "78153  मैं अपने पैरों को महसूस नहीं कर सकते हैं कर सक...   \n",
       "2538            के डी के 1 बुला रहा है के डी के 12 को.\\n   \n",
       "12675       आप उसे करने के लिए कुछ भी नहीं कर रहे हैं.\\n   \n",
       "\n",
       "                                cleaned_english  english_len  \\\n",
       "68992              [start, anywhere, you, like]            4   \n",
       "32941         [a, little, unfinished, business]            4   \n",
       "91719             [i, cannot, remember, really]            4   \n",
       "66849                   [hard, to, know, years]            4   \n",
       "19117               [track, ahead, looks, good]            4   \n",
       "...                                         ...          ...   \n",
       "2529                 [kdk, 1, calling, kdk, 12]            5   \n",
       "90490  [well, that, is, very, flattering, andy]            6   \n",
       "78153               [i, cannot, feel, my, legs]            5   \n",
       "2538                 [kdk, 1, calling, kdk, 12]            5   \n",
       "12675              [you, are, nothing, to, him]            5   \n",
       "\n",
       "                                           cleaned_hindi  hindi_len  \n",
       "68992  [<begin>, विनाश, का, दिवस, जहाँ, से, चाहो, शुर...         10  \n",
       "32941  [<begin>, वह, बेबी, जैक, पाया, और, वह, उसे, सु...         28  \n",
       "91719  [<begin>, और, तकनीकी, तौर, पर, तुम, एक, मूर्ख,...         11  \n",
       "66849  [<begin>, कहना, जरा, कठिन, है, फिर, भी, कुछ, स...         11  \n",
       "19117  [<begin>, मैं, ऐसा, नहीं, करोगे, लगता, है, एल,...         10  \n",
       "...                                                  ...        ...  \n",
       "2529   [<begin>, के, डी, के, 1बुला, रहा, है, के, डी, ...         11  \n",
       "90490  [<begin>, तो, यह, इंटरव्यू, ख़त्म, हुआ, समझो, य...         13  \n",
       "78153  [<begin>, मैं, अपने, पैरों, को, महसूस, नहीं, क...         12  \n",
       "2538   [<begin>, के, डी, के, 1, बुला, रहा, है, के, डी...         12  \n",
       "12675  [<begin>, आप, उसे, करने, के, लिए, कुछ, भी, नही...         11  \n",
       "\n",
       "[67 rows x 6 columns]"
      ]
     },
     "execution_count": 12,
     "metadata": {},
     "output_type": "execute_result"
    }
   ],
   "source": [
    "# examples of bad translations\n",
    "df[(df['hindi_len']-df['english_len'])>5]"
   ]
  },
  {
   "cell_type": "code",
   "execution_count": 13,
   "metadata": {},
   "outputs": [],
   "source": [
    "def make_vocab(all_sentences):\n",
    "    vocab = defaultdict(int)\n",
    "    for sent in all_sentences:\n",
    "        for word in sent:\n",
    "            vocab[word] += 1\n",
    "    return vocab\n",
    "\n",
    "english_vocab = make_vocab(df['cleaned_english'])\n",
    "hindi_vocab = make_vocab(df['cleaned_hindi'])"
   ]
  },
  {
   "cell_type": "code",
   "execution_count": 14,
   "metadata": {},
   "outputs": [
    {
     "data": {
      "text/plain": [
       "5499"
      ]
     },
     "execution_count": 14,
     "metadata": {},
     "output_type": "execute_result"
    }
   ],
   "source": [
    "len(english_vocab)"
   ]
  },
  {
   "cell_type": "code",
   "execution_count": 15,
   "metadata": {},
   "outputs": [
    {
     "data": {
      "text/plain": [
       "6539"
      ]
     },
     "execution_count": 15,
     "metadata": {},
     "output_type": "execute_result"
    }
   ],
   "source": [
    "len(hindi_vocab)"
   ]
  },
  {
   "cell_type": "code",
   "execution_count": 16,
   "metadata": {},
   "outputs": [
    {
     "data": {
      "text/plain": [
       "2357"
      ]
     },
     "execution_count": 16,
     "metadata": {},
     "output_type": "execute_result"
    }
   ],
   "source": [
    "sum(value > 1 for value in english_vocab.values())"
   ]
  },
  {
   "cell_type": "code",
   "execution_count": 17,
   "metadata": {},
   "outputs": [
    {
     "data": {
      "text/plain": [
       "2701"
      ]
     },
     "execution_count": 17,
     "metadata": {},
     "output_type": "execute_result"
    }
   ],
   "source": [
    "sum(value > 1 for value in hindi_vocab.values())"
   ]
  },
  {
   "cell_type": "markdown",
   "metadata": {},
   "source": [
    "was planning to convert non-frequent words to UNK but the dataset has too many of those and therefore would result in unnecessary high bleu score."
   ]
  },
  {
   "cell_type": "code",
   "execution_count": 18,
   "metadata": {},
   "outputs": [
    {
     "name": "stderr",
     "output_type": "stream",
     "text": [
      "400000it [00:28, 13935.51it/s]"
     ]
    },
    {
     "name": "stdout",
     "output_type": "stream",
     "text": [
      "400000  words loaded!\n"
     ]
    },
    {
     "name": "stderr",
     "output_type": "stream",
     "text": [
      "\n"
     ]
    }
   ],
   "source": [
    "# Loading Glove model ebeddings for input to encoder\n",
    "with open('glove.6B.300d.txt','r') as f:\n",
    "    gloveModel = {}\n",
    "    for line in tqdm(f):\n",
    "        splitLines = line.split()\n",
    "        word = splitLines[0]\n",
    "        wordEmbedding = np.array([float(value) for value in splitLines[1:]])\n",
    "        gloveModel[word] = wordEmbedding\n",
    "print(len(gloveModel),\" words loaded!\")"
   ]
  },
  {
   "cell_type": "code",
   "execution_count": 19,
   "metadata": {},
   "outputs": [],
   "source": [
    "embedding_dim = 300"
   ]
  },
  {
   "cell_type": "code",
   "execution_count": 20,
   "metadata": {},
   "outputs": [
    {
     "name": "stdout",
     "output_type": "stream",
     "text": [
      "5172 327\n"
     ]
    }
   ],
   "source": [
    "hits = 0\n",
    "misses = 0\n",
    "for word in english_vocab.keys():\n",
    "    if word in gloveModel:\n",
    "        hits+=1\n",
    "    else:\n",
    "        misses+=1\n",
    "print(hits,misses)"
   ]
  },
  {
   "cell_type": "markdown",
   "metadata": {},
   "source": [
    "so most of the words do have the embeddings"
   ]
  },
  {
   "cell_type": "code",
   "execution_count": 21,
   "metadata": {},
   "outputs": [],
   "source": [
    "# # Loading Glove model ebeddings for input to encoder\n",
    "# f = open('hi/hi_new.tsv','r')\n",
    "# hindi_embeddings = {}\n",
    "# for line in tqdm(f):\n",
    "#     try:\n",
    "#         splitLines = line.split('\\t')\n",
    "#         word = splitLines[1]\n",
    "#         emb = re.sub('\\n','',splitLines[2].strip())\n",
    "#         emb = re.sub(r' [ ]*',' ',emb)\n",
    "#         emb= emb.split(' ')\n",
    "#         wordEmbedding = np.array([float(value) for value in emb])\n",
    "#         hindi_embeddings[word] = wordEmbedding\n",
    "#     except Exception as e:\n",
    "#         pass\n",
    "# print(len(hindi_embeddings),\" words loaded!\")"
   ]
  },
  {
   "cell_type": "code",
   "execution_count": 22,
   "metadata": {},
   "outputs": [],
   "source": [
    "# hits = 0\n",
    "# misses = 0\n",
    "# for word in hindi_vocab.keys():\n",
    "#     if word in hindi_embeddings:\n",
    "#         hits+=1\n",
    "#     else:\n",
    "#         misses+=1\n",
    "# print(hits,misses)"
   ]
  },
  {
   "cell_type": "code",
   "execution_count": 23,
   "metadata": {},
   "outputs": [],
   "source": [
    "# hits = 0\n",
    "# misses = 0\n",
    "# for word in hindi_vocab.keys():\n",
    "#     if word in hindi_embeddings:\n",
    "#         hits+=hindi_vocab[word]\n",
    "#     else:\n",
    "#         misses+=hindi_vocab[word]\n",
    "# print(hits,misses)"
   ]
  },
  {
   "cell_type": "markdown",
   "metadata": {},
   "source": [
    "Large amount of misses, so sticking to one-hot encoding"
   ]
  },
  {
   "cell_type": "code",
   "execution_count": 24,
   "metadata": {
    "scrolled": true
   },
   "outputs": [
    {
     "data": {
      "text/plain": [
       "True"
      ]
     },
     "execution_count": 24,
     "metadata": {},
     "output_type": "execute_result"
    }
   ],
   "source": [
    "'unk' in gloveModel"
   ]
  },
  {
   "cell_type": "code",
   "execution_count": 25,
   "metadata": {},
   "outputs": [],
   "source": [
    "index2word = ['<padding>'] + list(english_vocab.keys())\n",
    "word2index = {}\n",
    "for i,word in enumerate(index2word):\n",
    "    word2index[word]=i"
   ]
  },
  {
   "cell_type": "code",
   "execution_count": 26,
   "metadata": {},
   "outputs": [],
   "source": [
    "hi_index2word = ['<padding>'] + list(hindi_vocab.keys())\n",
    "hi_word2index = {}\n",
    "for i,word in enumerate(hi_index2word):\n",
    "    hi_word2index[word]=i"
   ]
  },
  {
   "cell_type": "code",
   "execution_count": 27,
   "metadata": {},
   "outputs": [],
   "source": [
    "def convert_eng(sentence, max_size=english_max_len):\n",
    "    result = [0]*max_size\n",
    "    for i,word in enumerate(sentence):\n",
    "        result[i] = word2index[word]\n",
    "    result.reverse()\n",
    "    return result"
   ]
  },
  {
   "cell_type": "code",
   "execution_count": 28,
   "metadata": {},
   "outputs": [],
   "source": [
    "def convert_hin(sentence, max_size=hindi_max_len):\n",
    "    result = [0]*max_size\n",
    "    for i,word in enumerate(sentence):\n",
    "        result[i] = hi_word2index[word]\n",
    "    return result"
   ]
  },
  {
   "cell_type": "code",
   "execution_count": 29,
   "metadata": {},
   "outputs": [
    {
     "data": {
      "text/html": [
       "<div>\n",
       "<style scoped>\n",
       "    .dataframe tbody tr th:only-of-type {\n",
       "        vertical-align: middle;\n",
       "    }\n",
       "\n",
       "    .dataframe tbody tr th {\n",
       "        vertical-align: top;\n",
       "    }\n",
       "\n",
       "    .dataframe thead th {\n",
       "        text-align: right;\n",
       "    }\n",
       "</style>\n",
       "<table border=\"1\" class=\"dataframe\">\n",
       "  <thead>\n",
       "    <tr style=\"text-align: right;\">\n",
       "      <th></th>\n",
       "      <th>english</th>\n",
       "      <th>hindi</th>\n",
       "      <th>cleaned_english</th>\n",
       "      <th>english_len</th>\n",
       "      <th>cleaned_hindi</th>\n",
       "      <th>hindi_len</th>\n",
       "      <th>encoder_input</th>\n",
       "      <th>decoder_input</th>\n",
       "      <th>decoder_output</th>\n",
       "    </tr>\n",
       "  </thead>\n",
       "  <tbody>\n",
       "    <tr>\n",
       "      <th>57382</th>\n",
       "      <td>Who is this man?\\n</td>\n",
       "      <td>-ये आदमी कौन है ?\\n</td>\n",
       "      <td>[who, is, this, man]</td>\n",
       "      <td>4</td>\n",
       "      <td>[&lt;begin&gt;, ये, आदमी, कौन, है, &lt;end&gt;]</td>\n",
       "      <td>4</td>\n",
       "      <td>[0, 0, 0, 0, 4, 3, 2, 1]</td>\n",
       "      <td>[1, 2, 3, 4, 5, 6, 0, 0, 0, 0, 0, 0, 0, 0, 0, ...</td>\n",
       "      <td>[2, 3, 4, 5, 6, 0, 0, 0, 0, 0, 0, 0, 0, 0, 0, ...</td>\n",
       "    </tr>\n",
       "    <tr>\n",
       "      <th>28149</th>\n",
       "      <td>And the other brother?\\n</td>\n",
       "      <td>और दूसरे भाई?\\n</td>\n",
       "      <td>[and, the, other, brother]</td>\n",
       "      <td>4</td>\n",
       "      <td>[&lt;begin&gt;, और, दूसरे, भाई, &lt;end&gt;]</td>\n",
       "      <td>3</td>\n",
       "      <td>[0, 0, 0, 0, 8, 7, 6, 5]</td>\n",
       "      <td>[1, 7, 8, 9, 6, 0, 0, 0, 0, 0, 0, 0, 0, 0, 0, ...</td>\n",
       "      <td>[7, 8, 9, 6, 0, 0, 0, 0, 0, 0, 0, 0, 0, 0, 0, ...</td>\n",
       "    </tr>\n",
       "    <tr>\n",
       "      <th>80284</th>\n",
       "      <td>- Greetings, Mustakeen bhai.\\n</td>\n",
       "      <td>नमस्ते, Mustakeen भाई।\\n</td>\n",
       "      <td>[greetings, mustakeen, bhai]</td>\n",
       "      <td>3</td>\n",
       "      <td>[&lt;begin&gt;, नमस्ते, mustakeen, भाई, &lt;end&gt;]</td>\n",
       "      <td>3</td>\n",
       "      <td>[0, 0, 0, 0, 0, 11, 10, 9]</td>\n",
       "      <td>[1, 10, 11, 9, 6, 0, 0, 0, 0, 0, 0, 0, 0, 0, 0...</td>\n",
       "      <td>[10, 11, 9, 6, 0, 0, 0, 0, 0, 0, 0, 0, 0, 0, 0...</td>\n",
       "    </tr>\n",
       "    <tr>\n",
       "      <th>63596</th>\n",
       "      <td>Please, reason with them.\\n</td>\n",
       "      <td>कृपया, उन लोगों के साथ कारण.\\n</td>\n",
       "      <td>[please, reason, with, them]</td>\n",
       "      <td>4</td>\n",
       "      <td>[&lt;begin&gt;, कृपया, उन, लोगों, के, साथ, कारण, &lt;end&gt;]</td>\n",
       "      <td>6</td>\n",
       "      <td>[0, 0, 0, 0, 15, 14, 13, 12]</td>\n",
       "      <td>[1, 12, 13, 14, 15, 16, 17, 6, 0, 0, 0, 0, 0, ...</td>\n",
       "      <td>[12, 13, 14, 15, 16, 17, 6, 0, 0, 0, 0, 0, 0, ...</td>\n",
       "    </tr>\n",
       "    <tr>\n",
       "      <th>9459</th>\n",
       "      <td>There's a howling gale.\\n</td>\n",
       "      <td>तेज़ हवा आ रही है।\\n</td>\n",
       "      <td>[there, is, a, howling, gale]</td>\n",
       "      <td>5</td>\n",
       "      <td>[&lt;begin&gt;, तेज़, हवा, आ, रही, है, &lt;end&gt;]</td>\n",
       "      <td>5</td>\n",
       "      <td>[0, 0, 0, 19, 18, 17, 2, 16]</td>\n",
       "      <td>[1, 18, 19, 20, 21, 5, 6, 0, 0, 0, 0, 0, 0, 0,...</td>\n",
       "      <td>[18, 19, 20, 21, 5, 6, 0, 0, 0, 0, 0, 0, 0, 0,...</td>\n",
       "    </tr>\n",
       "    <tr>\n",
       "      <th>...</th>\n",
       "      <td>...</td>\n",
       "      <td>...</td>\n",
       "      <td>...</td>\n",
       "      <td>...</td>\n",
       "      <td>...</td>\n",
       "      <td>...</td>\n",
       "      <td>...</td>\n",
       "      <td>...</td>\n",
       "      <td>...</td>\n",
       "    </tr>\n",
       "    <tr>\n",
       "      <th>80140</th>\n",
       "      <td>\"Let's enjoy this life, sweetheart.\"\\n</td>\n",
       "      <td>\"हम इस जीवन, जानेमन का आनंद लें।\"\\n</td>\n",
       "      <td>[let, us, enjoy, this, life, sweetheart]</td>\n",
       "      <td>6</td>\n",
       "      <td>[&lt;begin&gt;, हम, इस, जीवन, जानेमन, का, आनंद, लें,...</td>\n",
       "      <td>7</td>\n",
       "      <td>[0, 0, 2198, 360, 3, 2152, 51, 50]</td>\n",
       "      <td>[1, 161, 109, 411, 2574, 62, 2522, 2804, 6, 0,...</td>\n",
       "      <td>[161, 109, 411, 2574, 62, 2522, 2804, 6, 0, 0,...</td>\n",
       "    </tr>\n",
       "    <tr>\n",
       "      <th>66651</th>\n",
       "      <td>Let's get out of here.\\n</td>\n",
       "      <td>चलो अब चलो यहाँ से .\\n</td>\n",
       "      <td>[let, us, get, out, of, here]</td>\n",
       "      <td>6</td>\n",
       "      <td>[&lt;begin&gt;, चलो, अब, चलो, यहाँ, से, &lt;end&gt;]</td>\n",
       "      <td>5</td>\n",
       "      <td>[0, 0, 66, 54, 234, 167, 51, 50]</td>\n",
       "      <td>[1, 58, 40, 58, 74, 71, 6, 0, 0, 0, 0, 0, 0, 0...</td>\n",
       "      <td>[58, 40, 58, 74, 71, 6, 0, 0, 0, 0, 0, 0, 0, 0...</td>\n",
       "    </tr>\n",
       "    <tr>\n",
       "      <th>35946</th>\n",
       "      <td>WE'RE GOING TO THE GARAGE.\\n</td>\n",
       "      <td>हम गेराज के लिए जा रहे हैं.\\n</td>\n",
       "      <td>[we, are, going, to, the, garage]</td>\n",
       "      <td>6</td>\n",
       "      <td>[&lt;begin&gt;, हम, गेराज, के, लिए, जा, रहे, हैं, &lt;e...</td>\n",
       "      <td>7</td>\n",
       "      <td>[0, 0, 128, 6, 149, 572, 95, 134]</td>\n",
       "      <td>[1, 161, 6539, 15, 122, 434, 190, 54, 6, 0, 0,...</td>\n",
       "      <td>[161, 6539, 15, 122, 434, 190, 54, 6, 0, 0, 0,...</td>\n",
       "    </tr>\n",
       "    <tr>\n",
       "      <th>44917</th>\n",
       "      <td>It's gonna be dark soon.\\n</td>\n",
       "      <td>यह जल्द ही अंधेरा होने वाला है.\\n</td>\n",
       "      <td>[it, is, gonna, be, dark, soon]</td>\n",
       "      <td>6</td>\n",
       "      <td>[&lt;begin&gt;, यह, जल्द, ही, अंधेरा, होने, वाला, है...</td>\n",
       "      <td>7</td>\n",
       "      <td>[0, 0, 1567, 2306, 251, 366, 2, 43]</td>\n",
       "      <td>[1, 41, 2578, 119, 3210, 418, 155, 5, 6, 0, 0,...</td>\n",
       "      <td>[41, 2578, 119, 3210, 418, 155, 5, 6, 0, 0, 0,...</td>\n",
       "    </tr>\n",
       "    <tr>\n",
       "      <th>15083</th>\n",
       "      <td>I don't know, Frau Junge.\\n</td>\n",
       "      <td>मैं नहीं जानता, फ्रॉ जुंग.\\n</td>\n",
       "      <td>[i, do, not, know, frau, junge]</td>\n",
       "      <td>6</td>\n",
       "      <td>[&lt;begin&gt;, मैं, नहीं, जानता, फ्रॉ, जुंग, &lt;end&gt;]</td>\n",
       "      <td>5</td>\n",
       "      <td>[0, 0, 2634, 2633, 223, 23, 22, 73]</td>\n",
       "      <td>[1, 81, 22, 260, 3126, 3127, 6, 0, 0, 0, 0, 0,...</td>\n",
       "      <td>[81, 22, 260, 3126, 3127, 6, 0, 0, 0, 0, 0, 0,...</td>\n",
       "    </tr>\n",
       "  </tbody>\n",
       "</table>\n",
       "<p>10000 rows × 9 columns</p>\n",
       "</div>"
      ],
      "text/plain": [
       "                                      english  \\\n",
       "57382                      Who is this man?\\n   \n",
       "28149                And the other brother?\\n   \n",
       "80284          - Greetings, Mustakeen bhai.\\n   \n",
       "63596             Please, reason with them.\\n   \n",
       "9459                There's a howling gale.\\n   \n",
       "...                                       ...   \n",
       "80140  \"Let's enjoy this life, sweetheart.\"\\n   \n",
       "66651                Let's get out of here.\\n   \n",
       "35946            WE'RE GOING TO THE GARAGE.\\n   \n",
       "44917              It's gonna be dark soon.\\n   \n",
       "15083             I don't know, Frau Junge.\\n   \n",
       "\n",
       "                                     hindi  \\\n",
       "57382                  -ये आदमी कौन है ?\\n   \n",
       "28149                      और दूसरे भाई?\\n   \n",
       "80284             नमस्ते, Mustakeen भाई।\\n   \n",
       "63596       कृपया, उन लोगों के साथ कारण.\\n   \n",
       "9459                   तेज़ हवा आ रही है।\\n   \n",
       "...                                    ...   \n",
       "80140  \"हम इस जीवन, जानेमन का आनंद लें।\"\\n   \n",
       "66651               चलो अब चलो यहाँ से .\\n   \n",
       "35946        हम गेराज के लिए जा रहे हैं.\\n   \n",
       "44917    यह जल्द ही अंधेरा होने वाला है.\\n   \n",
       "15083         मैं नहीं जानता, फ्रॉ जुंग.\\n   \n",
       "\n",
       "                                cleaned_english  english_len  \\\n",
       "57382                      [who, is, this, man]            4   \n",
       "28149                [and, the, other, brother]            4   \n",
       "80284              [greetings, mustakeen, bhai]            3   \n",
       "63596              [please, reason, with, them]            4   \n",
       "9459              [there, is, a, howling, gale]            5   \n",
       "...                                         ...          ...   \n",
       "80140  [let, us, enjoy, this, life, sweetheart]            6   \n",
       "66651             [let, us, get, out, of, here]            6   \n",
       "35946         [we, are, going, to, the, garage]            6   \n",
       "44917           [it, is, gonna, be, dark, soon]            6   \n",
       "15083           [i, do, not, know, frau, junge]            6   \n",
       "\n",
       "                                           cleaned_hindi  hindi_len  \\\n",
       "57382                [<begin>, ये, आदमी, कौन, है, <end>]          4   \n",
       "28149                   [<begin>, और, दूसरे, भाई, <end>]          3   \n",
       "80284           [<begin>, नमस्ते, mustakeen, भाई, <end>]          3   \n",
       "63596  [<begin>, कृपया, उन, लोगों, के, साथ, कारण, <end>]          6   \n",
       "9459              [<begin>, तेज़, हवा, आ, रही, है, <end>]          5   \n",
       "...                                                  ...        ...   \n",
       "80140  [<begin>, हम, इस, जीवन, जानेमन, का, आनंद, लें,...          7   \n",
       "66651           [<begin>, चलो, अब, चलो, यहाँ, से, <end>]          5   \n",
       "35946  [<begin>, हम, गेराज, के, लिए, जा, रहे, हैं, <e...          7   \n",
       "44917  [<begin>, यह, जल्द, ही, अंधेरा, होने, वाला, है...          7   \n",
       "15083     [<begin>, मैं, नहीं, जानता, फ्रॉ, जुंग, <end>]          5   \n",
       "\n",
       "                             encoder_input  \\\n",
       "57382             [0, 0, 0, 0, 4, 3, 2, 1]   \n",
       "28149             [0, 0, 0, 0, 8, 7, 6, 5]   \n",
       "80284           [0, 0, 0, 0, 0, 11, 10, 9]   \n",
       "63596         [0, 0, 0, 0, 15, 14, 13, 12]   \n",
       "9459          [0, 0, 0, 19, 18, 17, 2, 16]   \n",
       "...                                    ...   \n",
       "80140   [0, 0, 2198, 360, 3, 2152, 51, 50]   \n",
       "66651     [0, 0, 66, 54, 234, 167, 51, 50]   \n",
       "35946    [0, 0, 128, 6, 149, 572, 95, 134]   \n",
       "44917  [0, 0, 1567, 2306, 251, 366, 2, 43]   \n",
       "15083  [0, 0, 2634, 2633, 223, 23, 22, 73]   \n",
       "\n",
       "                                           decoder_input  \\\n",
       "57382  [1, 2, 3, 4, 5, 6, 0, 0, 0, 0, 0, 0, 0, 0, 0, ...   \n",
       "28149  [1, 7, 8, 9, 6, 0, 0, 0, 0, 0, 0, 0, 0, 0, 0, ...   \n",
       "80284  [1, 10, 11, 9, 6, 0, 0, 0, 0, 0, 0, 0, 0, 0, 0...   \n",
       "63596  [1, 12, 13, 14, 15, 16, 17, 6, 0, 0, 0, 0, 0, ...   \n",
       "9459   [1, 18, 19, 20, 21, 5, 6, 0, 0, 0, 0, 0, 0, 0,...   \n",
       "...                                                  ...   \n",
       "80140  [1, 161, 109, 411, 2574, 62, 2522, 2804, 6, 0,...   \n",
       "66651  [1, 58, 40, 58, 74, 71, 6, 0, 0, 0, 0, 0, 0, 0...   \n",
       "35946  [1, 161, 6539, 15, 122, 434, 190, 54, 6, 0, 0,...   \n",
       "44917  [1, 41, 2578, 119, 3210, 418, 155, 5, 6, 0, 0,...   \n",
       "15083  [1, 81, 22, 260, 3126, 3127, 6, 0, 0, 0, 0, 0,...   \n",
       "\n",
       "                                          decoder_output  \n",
       "57382  [2, 3, 4, 5, 6, 0, 0, 0, 0, 0, 0, 0, 0, 0, 0, ...  \n",
       "28149  [7, 8, 9, 6, 0, 0, 0, 0, 0, 0, 0, 0, 0, 0, 0, ...  \n",
       "80284  [10, 11, 9, 6, 0, 0, 0, 0, 0, 0, 0, 0, 0, 0, 0...  \n",
       "63596  [12, 13, 14, 15, 16, 17, 6, 0, 0, 0, 0, 0, 0, ...  \n",
       "9459   [18, 19, 20, 21, 5, 6, 0, 0, 0, 0, 0, 0, 0, 0,...  \n",
       "...                                                  ...  \n",
       "80140  [161, 109, 411, 2574, 62, 2522, 2804, 6, 0, 0,...  \n",
       "66651  [58, 40, 58, 74, 71, 6, 0, 0, 0, 0, 0, 0, 0, 0...  \n",
       "35946  [161, 6539, 15, 122, 434, 190, 54, 6, 0, 0, 0,...  \n",
       "44917  [41, 2578, 119, 3210, 418, 155, 5, 6, 0, 0, 0,...  \n",
       "15083  [81, 22, 260, 3126, 3127, 6, 0, 0, 0, 0, 0, 0,...  \n",
       "\n",
       "[10000 rows x 9 columns]"
      ]
     },
     "execution_count": 29,
     "metadata": {},
     "output_type": "execute_result"
    }
   ],
   "source": [
    "df['encoder_input'] = df['cleaned_english'].apply(convert_eng)\n",
    "df['decoder_input'] = df['cleaned_hindi'].apply(convert_hin)\n",
    "df['decoder_output'] = df['decoder_input'].apply(lambda x: x[1:]+[0])\n",
    "df"
   ]
  },
  {
   "cell_type": "code",
   "execution_count": 30,
   "metadata": {},
   "outputs": [],
   "source": [
    "def hi_sentences_to_onehot(decoder_input_data, max_len=hindi_max_len, vocab_size=len(hi_index2word)):\n",
    "    num_samples = decoder_input_data.shape[0]\n",
    "    decoder_output_data = np.zeros((num_samples, max_len, vocab_size), dtype=\"float32\")\n",
    "\n",
    "    for i, sents in enumerate(decoder_input_data):\n",
    "        for j, word in enumerate(sents):\n",
    "            decoder_output_data[i][j][word] = 1.\n",
    "    return decoder_output_data"
   ]
  },
  {
   "cell_type": "code",
   "execution_count": 31,
   "metadata": {},
   "outputs": [],
   "source": [
    "def get_inputs(temp):\n",
    "    encoder_input = np.stack(temp['encoder_input'].to_numpy(),axis=1).T\n",
    "    decoder_input = hi_sentences_to_onehot(np.stack(temp['decoder_input'].to_numpy(),axis=1).T)\n",
    "    decoder_output = hi_sentences_to_onehot(np.stack(temp['decoder_output'].to_numpy(),axis=1).T)\n",
    "    return encoder_input,decoder_input,decoder_output"
   ]
  },
  {
   "cell_type": "code",
   "execution_count": 32,
   "metadata": {},
   "outputs": [],
   "source": [
    "train, validate, test = np.split(df.sample(frac=1,random_state=0), [int(.7*len(df)), int(.8*len(df))])"
   ]
  },
  {
   "cell_type": "code",
   "execution_count": 33,
   "metadata": {},
   "outputs": [],
   "source": [
    "train_x1,train_x2,train_y = get_inputs(train)\n",
    "val_x1,val_x2,val_y = get_inputs(validate)"
   ]
  },
  {
   "cell_type": "code",
   "execution_count": 34,
   "metadata": {},
   "outputs": [],
   "source": [
    "embedding_matrix = np.zeros((len(index2word), embedding_dim))\n",
    "for word, i in word2index.items():\n",
    "    embedding_vector = gloveModel.get(word)\n",
    "    if embedding_vector is not None:\n",
    "        embedding_matrix[i] = embedding_vector\n",
    "    elif i!=0:\n",
    "        embedding_matrix[i] = gloveModel.get('unk')"
   ]
  },
  {
   "cell_type": "markdown",
   "metadata": {},
   "source": [
    "## Build Model"
   ]
  },
  {
   "cell_type": "code",
   "execution_count": 35,
   "metadata": {},
   "outputs": [],
   "source": [
    "eng_sequences_input = keras.Input(shape=(None,), dtype=\"int64\")\n",
    "embedding_layer = layers.Embedding(\n",
    "    len(index2word),\n",
    "    embedding_dim,\n",
    "    embeddings_initializer=keras.initializers.Constant(embedding_matrix),\n",
    "    trainable=False,\n",
    "#     mask_zero=True\n",
    ")\n",
    "embedded_sequences = embedding_layer(eng_sequences_input)"
   ]
  },
  {
   "cell_type": "code",
   "execution_count": 36,
   "metadata": {},
   "outputs": [],
   "source": [
    "lstm_dim = 50\n",
    "encoder_lstm_layer = layers.Bidirectional(layers.LSTM(lstm_dim,return_sequences=True, return_state=True))\n",
    "encoder_lstm, encoder_lstm_state,_,_,_ = encoder_lstm_layer(embedded_sequences)\n",
    "state_initializer = layers.Dense(lstm_dim,activation='tanh',use_bias=False)\n",
    "init_state_decoder = state_initializer(encoder_lstm_state)"
   ]
  },
  {
   "cell_type": "code",
   "execution_count": 37,
   "metadata": {},
   "outputs": [],
   "source": [
    "class CustomRNNCell_with_attention(keras.layers.Layer):\n",
    "    def __init__(self, units=lstm_dim, attention_dim=25, **kwargs):\n",
    "        self.units = units\n",
    "        self.state_size = units\n",
    "        self.enc_size = units\n",
    "        self.attention_dim = attention_dim\n",
    "        super(CustomRNNCell_with_attention, self).__init__(**kwargs)\n",
    "\n",
    "    def build(self, input_shape):\n",
    "        self.u_a = self.add_weight(shape=(self.attention_dim, 2*self.enc_size),initializer='random_normal',name=\"ua\")\n",
    "        self.w_a = self.add_weight(shape=(self.attention_dim, self.state_size),initializer='random_normal',name=\"wa\")\n",
    "        self.v_a = self.add_weight(shape=(self.attention_dim,),initializer='random_normal',name=\"va\")\n",
    "        \n",
    "        self.w_z = self.add_weight(shape=(input_shape[-1],self.units),initializer='random_normal',name=\"wz\")\n",
    "        self.u_z = self.add_weight(shape=(self.state_size,self.units),initializer='random_normal',name=\"uz\")\n",
    "        self.c_z = self.add_weight(shape=(2*self.enc_size,self.units),initializer='random_normal',name=\"cz\")\n",
    "        self.b_z = self.add_weight(shape=(self.units,),initializer='zeros',name=\"bz\")\n",
    "        \n",
    "        self.w_r = self.add_weight(shape=(input_shape[-1],self.units),initializer='random_normal',name=\"wr\")\n",
    "        self.u_r = self.add_weight(shape=(self.state_size,self.units),initializer='random_normal',name=\"ur\")\n",
    "        self.c_r = self.add_weight(shape=(2*self.enc_size,self.units),initializer='random_normal',name=\"cr\")\n",
    "        self.b_r = self.add_weight(shape=(self.units,),initializer='zeros',name=\"br\")\n",
    "        \n",
    "        self.w_s = self.add_weight(shape=(input_shape[-1],self.units),initializer='random_normal',name=\"ws\")\n",
    "        self.u_s = self.add_weight(shape=(self.state_size,self.units),initializer='random_normal',name=\"us\")\n",
    "        self.c_s = self.add_weight(shape=(2*self.enc_size,self.units),initializer='random_normal',name=\"cs\")\n",
    "        self.b_s = self.add_weight(shape=(self.units,),initializer='zeros',name=\"bs\")\n",
    "        \n",
    "        self.w_o = self.add_weight(shape=(input_shape[-1],self.units),initializer='random_normal',name=\"wo\")\n",
    "        self.u_o = self.add_weight(shape=(self.state_size,self.units),initializer='random_normal',name=\"uo\")\n",
    "        self.c_o = self.add_weight(shape=(2*self.enc_size,self.units),initializer='random_normal',name=\"co\")\n",
    "        self.b_o = self.add_weight(shape=(self.units,),initializer='zeros',name=\"bo\")\n",
    "        \n",
    "        self.built = True\n",
    "\n",
    "    def call(self, inputs, states, constants):\n",
    "        encoder_embeddings = constants[0]\n",
    "        prev_state = states[0]\n",
    "        attentions = tf.einsum('ij,bkj->bki', self.u_a, encoder_embeddings) + tf.expand_dims(tf.einsum('ij,bj->bi', self.w_a, prev_state),axis=1)\n",
    "        attentions = tf.einsum('bjk,k->bj', attentions,self.v_a)\n",
    "        attentions = keras.activations.softmax(attentions, axis=-1)\n",
    "        ci = tf.einsum('bj,bjk->bk', attentions,encoder_embeddings)\n",
    "        zi = keras.activations.sigmoid(tf.matmul(inputs,self.w_z) + tf.matmul(prev_state,self.u_z) + tf.matmul(ci,self.c_z) + self.b_z)\n",
    "        ri = keras.activations.sigmoid(tf.matmul(inputs,self.w_r) + tf.matmul(prev_state,self.u_r) + tf.matmul(ci,self.c_r) + self.b_r)\n",
    "        si_new = keras.activations.tanh(tf.matmul(inputs,self.w_s) + tf.matmul(prev_state*ri,self.u_s) + tf.matmul(ci,self.c_s) + self.b_s)\n",
    "        new_state = ((1-zi)*prev_state)+(zi*si_new)\n",
    "        prediction = tf.matmul(inputs,self.w_o) + tf.matmul(prev_state,self.u_o) + tf.matmul(ci,self.c_o) + self.b_o\n",
    "        return [prediction,attentions], [new_state]\n",
    "    \n",
    "    def get_config(self):\n",
    "        config = super(CustomRNNCell_with_attention, self).get_config()\n",
    "        config.update({\"units\": self.units})\n",
    "        config.update({\"state_size\": self.state_size})\n",
    "        config.update({\"enc_size\": self.enc_size})\n",
    "        config.update({\"attention_dim\": self.attention_dim})\n",
    "        return config"
   ]
  },
  {
   "cell_type": "code",
   "execution_count": 38,
   "metadata": {
    "scrolled": false
   },
   "outputs": [],
   "source": [
    "hi_sequences_input = keras.Input(shape=(None,len(hi_index2word)), dtype=\"float32\")\n",
    "my_custom_cell = CustomRNNCell_with_attention()\n",
    "decoder_lstm_layer = layers.RNN(my_custom_cell,return_sequences=True, return_state=True)\n",
    "decoder_outputs,attentions,_ = decoder_lstm_layer(hi_sequences_input,constants=encoder_lstm,initial_state=init_state_decoder)\n",
    "prediction_layer = layers.Dense(len(hi_index2word), activation='softmax')\n",
    "hi_sequences_output = prediction_layer(decoder_outputs)"
   ]
  },
  {
   "cell_type": "code",
   "execution_count": 39,
   "metadata": {},
   "outputs": [
    {
     "name": "stdout",
     "output_type": "stream",
     "text": [
      "Model: \"functional_1\"\n",
      "__________________________________________________________________________________________________\n",
      "Layer (type)                    Output Shape         Param #     Connected to                     \n",
      "==================================================================================================\n",
      "input_1 (InputLayer)            [(None, None)]       0                                            \n",
      "__________________________________________________________________________________________________\n",
      "embedding (Embedding)           (None, None, 300)    1650000     input_1[0][0]                    \n",
      "__________________________________________________________________________________________________\n",
      "bidirectional (Bidirectional)   [(None, None, 100),  140400      embedding[0][0]                  \n",
      "__________________________________________________________________________________________________\n",
      "input_2 (InputLayer)            [(None, None, 6540)] 0                                            \n",
      "__________________________________________________________________________________________________\n",
      "dense (Dense)                   (None, 50)           2500        bidirectional[0][1]              \n",
      "__________________________________________________________________________________________________\n",
      "rnn (RNN)                       [(None, None, 50), ( 1341975     input_2[0][0]                    \n",
      "                                                                 dense[0][0]                      \n",
      "                                                                 bidirectional[0][0]              \n",
      "__________________________________________________________________________________________________\n",
      "dense_1 (Dense)                 (None, None, 6540)   333540      rnn[0][0]                        \n",
      "==================================================================================================\n",
      "Total params: 3,468,415\n",
      "Trainable params: 1,818,415\n",
      "Non-trainable params: 1,650,000\n",
      "__________________________________________________________________________________________________\n"
     ]
    }
   ],
   "source": [
    "model = keras.Model([eng_sequences_input, hi_sequences_input], hi_sequences_output)\n",
    "model.summary()"
   ]
  },
  {
   "cell_type": "code",
   "execution_count": 40,
   "metadata": {},
   "outputs": [
    {
     "data": {
      "image/png": "[encoded data removed]",
      "text/plain": [
       "<IPython.core.display.Image object>"
      ]
     },
     "execution_count": 40,
     "metadata": {},
     "output_type": "execute_result"
    }
   ],
   "source": [
    "keras.utils.plot_model(model, \"seq2seq_with_attention.png\", show_shapes=True)"
   ]
  },
  {
   "cell_type": "code",
   "execution_count": 41,
   "metadata": {},
   "outputs": [],
   "source": [
    "model.compile(optimizer='rmsprop', loss='categorical_crossentropy',metrics=['accuracy'])"
   ]
  },
  {
   "cell_type": "code",
   "execution_count": 42,
   "metadata": {
    "scrolled": false
   },
   "outputs": [
    {
     "name": "stdout",
     "output_type": "stream",
     "text": [
      "Epoch 1/10\n",
      "700/700 [==============================] - 34s 48ms/step - loss: 1.3004 - accuracy: 0.8167 - val_loss: 1.0905 - val_accuracy: 0.8381\n",
      "Epoch 2/10\n",
      "700/700 [==============================] - 28s 40ms/step - loss: 1.0443 - accuracy: 0.8442 - val_loss: 1.0208 - val_accuracy: 0.8515\n",
      "Epoch 3/10\n",
      "700/700 [==============================] - 28s 40ms/step - loss: 0.9840 - accuracy: 0.8542 - val_loss: 0.9815 - val_accuracy: 0.8579\n",
      "Epoch 4/10\n",
      "700/700 [==============================] - 28s 40ms/step - loss: 0.9467 - accuracy: 0.8601 - val_loss: 0.9595 - val_accuracy: 0.8623\n",
      "Epoch 5/10\n",
      "700/700 [==============================] - 28s 40ms/step - loss: 0.9159 - accuracy: 0.8644 - val_loss: 0.9401 - val_accuracy: 0.8651\n",
      "Epoch 6/10\n",
      "700/700 [==============================] - 28s 40ms/step - loss: 0.8901 - accuracy: 0.8681 - val_loss: 0.9311 - val_accuracy: 0.8676\n",
      "Epoch 7/10\n",
      "700/700 [==============================] - 28s 40ms/step - loss: 0.8675 - accuracy: 0.8713 - val_loss: 0.9250 - val_accuracy: 0.8680\n",
      "Epoch 8/10\n",
      "700/700 [==============================] - 28s 40ms/step - loss: 0.8461 - accuracy: 0.8744 - val_loss: 0.9115 - val_accuracy: 0.8700\n",
      "Epoch 9/10\n",
      "700/700 [==============================] - 28s 40ms/step - loss: 0.8256 - accuracy: 0.8771 - val_loss: 0.9127 - val_accuracy: 0.8711\n",
      "Epoch 10/10\n",
      "700/700 [==============================] - 28s 40ms/step - loss: 0.8084 - accuracy: 0.8796 - val_loss: 0.9046 - val_accuracy: 0.8713\n"
     ]
    }
   ],
   "source": [
    "hist = model.fit([train_x1, train_x2], train_y, batch_size=10, epochs=10,\n",
    "                            validation_data=([val_x1, val_x2], val_y))"
   ]
  },
  {
   "cell_type": "code",
   "execution_count": 43,
   "metadata": {},
   "outputs": [
    {
     "data": {
      "image/png": "[encoded data removed]",
      "text/plain": [
       "<Figure size 432x288 with 1 Axes>"
      ]
     },
     "metadata": {
      "needs_background": "light"
     },
     "output_type": "display_data"
    },
    {
     "data": {
      "image/png": "[encoded data removed]",
      "text/plain": [
       "<Figure size 432x288 with 1 Axes>"
      ]
     },
     "metadata": {
      "needs_background": "light"
     },
     "output_type": "display_data"
    }
   ],
   "source": [
    "# Plot accuracy\n",
    "plt.plot(hist.history['accuracy'])\n",
    "plt.plot(hist.history['val_accuracy'])\n",
    "plt.title('Model Accuracy')\n",
    "plt.ylabel('Accuracy')\n",
    "plt.xlabel('Epoch')\n",
    "plt.legend(['Train', 'Validation'], loc='upper left')\n",
    "plt.show()\n",
    "\n",
    "# Plot loss\n",
    "plt.plot(hist.history['loss'])\n",
    "plt.plot(hist.history['val_loss'])\n",
    "plt.title('Model Loss')\n",
    "plt.ylabel('Loss')\n",
    "plt.xlabel('Epoch')\n",
    "plt.legend(['Train', 'Validation'], loc='upper right')\n",
    "plt.show()"
   ]
  },
  {
   "cell_type": "code",
   "execution_count": 44,
   "metadata": {
    "scrolled": false
   },
   "outputs": [],
   "source": [
    "model.save(\"results/seq2seq_with_attention\",save_format= \"h5\")"
   ]
  },
  {
   "cell_type": "markdown",
   "metadata": {},
   "source": [
    "### Inference"
   ]
  },
  {
   "cell_type": "code",
   "execution_count": 75,
   "metadata": {},
   "outputs": [],
   "source": [
    "test = pd.read_csv('results/test_seq2seq.csv',converters={\n",
    "    'cleaned_hindi': eval,\n",
    "    'encoder_input': eval,\n",
    "    'generated_translation': eval,\n",
    "})"
   ]
  },
  {
   "cell_type": "code",
   "execution_count": 76,
   "metadata": {},
   "outputs": [
    {
     "name": "stdout",
     "output_type": "stream",
     "text": [
      "Model: \"functional_7\"\n",
      "_________________________________________________________________\n",
      "Layer (type)                 Output Shape              Param #   \n",
      "=================================================================\n",
      "input_1 (InputLayer)         [(None, None)]            0         \n",
      "_________________________________________________________________\n",
      "embedding (Embedding)        (None, None, 300)         1650000   \n",
      "_________________________________________________________________\n",
      "bidirectional (Bidirectional [(None, None, 100), (None 140400    \n",
      "_________________________________________________________________\n",
      "dense (Dense)                (None, 50)                2500      \n",
      "=================================================================\n",
      "Total params: 1,792,900\n",
      "Trainable params: 142,900\n",
      "Non-trainable params: 1,650,000\n",
      "_________________________________________________________________\n"
     ]
    }
   ],
   "source": [
    "encoder_model = keras.Model(eng_sequences_input,[encoder_lstm,init_state_decoder])\n",
    "encoder_model.summary()"
   ]
  },
  {
   "cell_type": "code",
   "execution_count": 77,
   "metadata": {
    "scrolled": false
   },
   "outputs": [
    {
     "name": "stdout",
     "output_type": "stream",
     "text": [
      "Model: \"functional_9\"\n",
      "__________________________________________________________________________________________________\n",
      "Layer (type)                    Output Shape         Param #     Connected to                     \n",
      "==================================================================================================\n",
      "input_2 (InputLayer)            [(None, None, 6540)] 0                                            \n",
      "__________________________________________________________________________________________________\n",
      "input_6 (InputLayer)            [(None, 50)]         0                                            \n",
      "__________________________________________________________________________________________________\n",
      "input_5 (InputLayer)            [(None, None, 100)]  0                                            \n",
      "__________________________________________________________________________________________________\n",
      "rnn (RNN)                       [(None, None, 50), ( 1341975     input_2[0][0]                    \n",
      "                                                                 input_6[0][0]                    \n",
      "                                                                 input_5[0][0]                    \n",
      "__________________________________________________________________________________________________\n",
      "dense_1 (Dense)                 (None, None, 6540)   333540      rnn[2][0]                        \n",
      "==================================================================================================\n",
      "Total params: 1,675,515\n",
      "Trainable params: 1,675,515\n",
      "Non-trainable params: 0\n",
      "__________________________________________________________________________________________________\n"
     ]
    }
   ],
   "source": [
    "decoder_context_input = layers.Input(shape=(None,2*lstm_dim,))\n",
    "decoder_states_input = layers.Input(shape=(lstm_dim,))\n",
    "decoder_outputs_1,attentions,new_state = decoder_lstm_layer(hi_sequences_input,constants=decoder_context_input,initial_state=decoder_states_input)\n",
    "# decoder_outputs, state_h, state_c = decoder_lstm(hi_sequences_input, initial_state=decoder_states_inputs)\n",
    "# decoder_states = [state_h, state_c]\n",
    "decoder_outputs_1 = prediction_layer(decoder_outputs_1)\n",
    "decoder_model = keras.Model(\n",
    "    [hi_sequences_input,decoder_context_input,decoder_states_input],\n",
    "    [decoder_outputs_1,attentions,new_state]\n",
    ")\n",
    "decoder_model.summary()"
   ]
  },
  {
   "cell_type": "code",
   "execution_count": 78,
   "metadata": {},
   "outputs": [],
   "source": [
    "def to_one_hot(predicted_word):\n",
    "    hi_sent_input = np.zeros((1,1,len(hi_index2word)))\n",
    "    hi_sent_input[0][0][hi_word2index[predicted_word]]=1\n",
    "    return hi_sent_input\n",
    "    \n",
    "def translate_sentence(eng_sent):\n",
    "    context,state1 = encoder_model.predict([eng_sent])\n",
    "    predicted_word = '<begin>'\n",
    "    hi_sent_input = to_one_hot(predicted_word)\n",
    "    generated_translation = [predicted_word]\n",
    "    attention_vector = []\n",
    "    while predicted_word != '<end>' and len(generated_translation)<hindi_max_len:            \n",
    "        new_word,attn,state1 = decoder_model.predict([hi_sent_input,context,state1])\n",
    "        attention_vector.append(attn[0][0])\n",
    "        predicted_word = np.argmax(new_word[0, -1, :])\n",
    "        predicted_word = hi_index2word[predicted_word]\n",
    "        generated_translation.append(predicted_word)\n",
    "        hi_sent_input = to_one_hot(predicted_word)\n",
    "    attention_vector = np.stack(attention_vector,axis=0)\n",
    "#     print(attention_vector.shape)\n",
    "    return generated_translation,attention_vector"
   ]
  },
  {
   "cell_type": "code",
   "execution_count": 79,
   "metadata": {},
   "outputs": [
    {
     "name": "stdout",
     "output_type": "stream",
     "text": [
      "(['<begin>', 'ये', 'कौन', 'है', '<end>'], array([[0.00047929, 0.00059394, 0.00104282, 0.00289015, 0.01110778,\n",
      "        0.46554205, 0.4359544 , 0.04943635, 0.03295331],\n",
      "       [0.00047929, 0.00059394, 0.00104282, 0.00289015, 0.01110779,\n",
      "        0.46554196, 0.4359545 , 0.04943633, 0.03295333],\n",
      "       [0.00047929, 0.00059394, 0.00104282, 0.00289015, 0.01110779,\n",
      "        0.46554196, 0.4359545 , 0.04943636, 0.03295333],\n",
      "       [0.00047929, 0.00059394, 0.00104282, 0.00289015, 0.01110778,\n",
      "        0.46554217, 0.43595427, 0.04943631, 0.03295331]], dtype=float32))\n"
     ]
    }
   ],
   "source": [
    "print(translate_sentence([0,0,0,0,0,4,3,2,1]))"
   ]
  },
  {
   "cell_type": "code",
   "execution_count": 81,
   "metadata": {},
   "outputs": [
    {
     "data": {
      "text/plain": [
       "[0, 0, 0, 0, 2679, 1390, 624, 366]"
      ]
     },
     "execution_count": 81,
     "metadata": {},
     "output_type": "execute_result"
    }
   ],
   "source": [
    "test['encoder_input'][0]"
   ]
  },
  {
   "cell_type": "code",
   "execution_count": 83,
   "metadata": {
    "scrolled": false
   },
   "outputs": [
    {
     "name": "stderr",
     "output_type": "stream",
     "text": [
      "\r",
      "  0%|          | 0/2000 [00:00<?, ?it/s]"
     ]
    },
    {
     "name": "stdout",
     "output_type": "stream",
     "text": [
      "WARNING:tensorflow:5 out of the last 2130 calls to <function Model.make_predict_function.<locals>.predict_function at 0x7f2df8445c10> triggered tf.function retracing. Tracing is expensive and the excessive number of tracings could be due to (1) creating @tf.function repeatedly in a loop, (2) passing tensors with different shapes, (3) passing Python objects instead of tensors. For (1), please define your @tf.function outside of the loop. For (2), @tf.function has experimental_relax_shapes=True option that relaxes argument shapes that can avoid unnecessary retracing. For (3), please refer to https://www.tensorflow.org/tutorials/customization/performance#python_or_tensor_args and https://www.tensorflow.org/api_docs/python/tf/function for  more details.\n"
     ]
    },
    {
     "name": "stderr",
     "output_type": "stream",
     "text": [
      "100%|██████████| 2000/2000 [08:22<00:00,  3.98it/s]\n"
     ]
    }
   ],
   "source": [
    "tqdm.pandas()\n",
    "test['generated_translation_attention'],test['attention_matrix'] = zip(*test['encoder_input'].progress_apply(translate_sentence))\n",
    "# test['generated_translation','attention_matrix'] = test['encoder_input'].progress_apply(lambda x: translate_sentence(x))"
   ]
  },
  {
   "cell_type": "code",
   "execution_count": 84,
   "metadata": {},
   "outputs": [
    {
     "data": {
      "text/plain": [
       "0                         [<begin>, अपने, दूर, हो, <end>]\n",
       "1            [<begin>, वह, कहा, कि, कहा, कि, किया, <end>]\n",
       "2         [<begin>, तुम, बहुत, बहुत, हो, रहे, हैं, <end>]\n",
       "3                         [<begin>, चलो, जाओ, जाओ, <end>]\n",
       "4               [<begin>, अपने, पास, को, जाना, है, <end>]\n",
       "                              ...                        \n",
       "1995               [<begin>, अब, आप, को, को, क्या, <end>]\n",
       "1996      [<begin>, तुम, मुझे, नहीं, कर, रहे, हैं, <end>]\n",
       "1997               [<begin>, सब, अच्छा, अच्छा, है, <end>]\n",
       "1998    [<begin>, यह, एक, अच्छा, है, कि, अच्छा, है, <e...\n",
       "1999              [<begin>, हम, हम, कर, सकते, हैं, <end>]\n",
       "Name: generated_translation_attention, Length: 2000, dtype: object"
      ]
     },
     "execution_count": 84,
     "metadata": {},
     "output_type": "execute_result"
    }
   ],
   "source": [
    "test['generated_translation_attention']"
   ]
  },
  {
   "cell_type": "code",
   "execution_count": 85,
   "metadata": {},
   "outputs": [
    {
     "name": "stderr",
     "output_type": "stream",
     "text": [
      "  0%|          | 0/2000 [00:00<?, ?it/s]/home/pranav/.local/lib/python3.8/site-packages/nltk/translate/bleu_score.py:516: UserWarning: \n",
      "The hypothesis contains 0 counts of 4-gram overlaps.\n",
      "Therefore the BLEU score evaluates to 0, independently of\n",
      "how many N-gram overlaps of lower order it contains.\n",
      "Consider using lower n-gram order or use SmoothingFunction()\n",
      "  warnings.warn(_msg)\n",
      "/home/pranav/.local/lib/python3.8/site-packages/nltk/translate/bleu_score.py:516: UserWarning: \n",
      "The hypothesis contains 0 counts of 3-gram overlaps.\n",
      "Therefore the BLEU score evaluates to 0, independently of\n",
      "how many N-gram overlaps of lower order it contains.\n",
      "Consider using lower n-gram order or use SmoothingFunction()\n",
      "  warnings.warn(_msg)\n",
      "/home/pranav/.local/lib/python3.8/site-packages/nltk/translate/bleu_score.py:516: UserWarning: \n",
      "The hypothesis contains 0 counts of 2-gram overlaps.\n",
      "Therefore the BLEU score evaluates to 0, independently of\n",
      "how many N-gram overlaps of lower order it contains.\n",
      "Consider using lower n-gram order or use SmoothingFunction()\n",
      "  warnings.warn(_msg)\n",
      "100%|██████████| 2000/2000 [00:00<00:00, 5097.00it/s]\n"
     ]
    }
   ],
   "source": [
    "def get_score_bleu(x):\n",
    "    sent1 = ' '.join(x['cleaned_hindi'][1:-1])\n",
    "    sent2 = ' '.join(x['generated_translation_attention'][1:-1])\n",
    "    return sentence_bleu([sent1],sent2)\n",
    "test['bleu_score'] = test.progress_apply(get_score_bleu,axis=1)"
   ]
  },
  {
   "cell_type": "code",
   "execution_count": 86,
   "metadata": {
    "scrolled": true
   },
   "outputs": [
    {
     "data": {
      "text/html": [
       "<div>\n",
       "<style scoped>\n",
       "    .dataframe tbody tr th:only-of-type {\n",
       "        vertical-align: middle;\n",
       "    }\n",
       "\n",
       "    .dataframe tbody tr th {\n",
       "        vertical-align: top;\n",
       "    }\n",
       "\n",
       "    .dataframe thead th {\n",
       "        text-align: right;\n",
       "    }\n",
       "</style>\n",
       "<table border=\"1\" class=\"dataframe\">\n",
       "  <thead>\n",
       "    <tr style=\"text-align: right;\">\n",
       "      <th></th>\n",
       "      <th>Unnamed: 0</th>\n",
       "      <th>english</th>\n",
       "      <th>hindi</th>\n",
       "      <th>cleaned_english</th>\n",
       "      <th>english_len</th>\n",
       "      <th>cleaned_hindi</th>\n",
       "      <th>hindi_len</th>\n",
       "      <th>encoder_input</th>\n",
       "      <th>decoder_input</th>\n",
       "      <th>decoder_output</th>\n",
       "      <th>generated_translation</th>\n",
       "      <th>bleu_score</th>\n",
       "      <th>generated_translation_attention</th>\n",
       "      <th>attention_matrix</th>\n",
       "    </tr>\n",
       "  </thead>\n",
       "  <tbody>\n",
       "    <tr>\n",
       "      <th>204</th>\n",
       "      <td>63324</td>\n",
       "      <td>Come on, come on.\\n</td>\n",
       "      <td>चलो, चलो.\\n</td>\n",
       "      <td>['come', 'on', 'come', 'on']</td>\n",
       "      <td>4</td>\n",
       "      <td>[&lt;begin&gt;, चलो, चलो, &lt;end&gt;]</td>\n",
       "      <td>2</td>\n",
       "      <td>[0, 0, 0, 0, 49, 31, 49, 31]</td>\n",
       "      <td>[1, 58, 58, 6, 0, 0, 0, 0, 0, 0, 0, 0, 0, 0, 0...</td>\n",
       "      <td>[58, 58, 6, 0, 0, 0, 0, 0, 0, 0, 0, 0, 0, 0, 0...</td>\n",
       "      <td>[&lt;begin&gt;, चलो, चलो, &lt;end&gt;]</td>\n",
       "      <td>1.0</td>\n",
       "      <td>[&lt;begin&gt;, चलो, चलो, &lt;end&gt;]</td>\n",
       "      <td>[[0.005453037, 0.00660029, 0.008098363, 0.0108...</td>\n",
       "    </tr>\n",
       "    <tr>\n",
       "      <th>299</th>\n",
       "      <td>78317</td>\n",
       "      <td>No, no, no... ma'am.\\n</td>\n",
       "      <td>नहीं, नहीं, नहीं ...\\n</td>\n",
       "      <td>['no', 'no', 'no', \"ma'am\"]</td>\n",
       "      <td>4</td>\n",
       "      <td>[&lt;begin&gt;, नहीं, नहीं, नहीं, &lt;end&gt;]</td>\n",
       "      <td>3</td>\n",
       "      <td>[0, 0, 0, 0, 106, 20, 20, 20]</td>\n",
       "      <td>[1, 22, 22, 22, 6, 0, 0, 0, 0, 0, 0, 0, 0, 0, ...</td>\n",
       "      <td>[22, 22, 22, 6, 0, 0, 0, 0, 0, 0, 0, 0, 0, 0, ...</td>\n",
       "      <td>[&lt;begin&gt;, नहीं, नहीं, नहीं, &lt;end&gt;]</td>\n",
       "      <td>1.0</td>\n",
       "      <td>[&lt;begin&gt;, नहीं, नहीं, नहीं, &lt;end&gt;]</td>\n",
       "      <td>[[0.0003414412, 0.00055207516, 0.0012373755, 0...</td>\n",
       "    </tr>\n",
       "    <tr>\n",
       "      <th>691</th>\n",
       "      <td>75487</td>\n",
       "      <td>- What are you doing?\\n</td>\n",
       "      <td>- तुम क्या कर रहे हो?\\n</td>\n",
       "      <td>['what', 'are', 'you', 'doing']</td>\n",
       "      <td>4</td>\n",
       "      <td>[&lt;begin&gt;, तुम, क्या, कर, रहे, हो, &lt;end&gt;]</td>\n",
       "      <td>5</td>\n",
       "      <td>[0, 0, 0, 0, 37, 21, 95, 90]</td>\n",
       "      <td>[1, 30, 176, 45, 190, 36, 6, 0, 0, 0, 0, 0, 0,...</td>\n",
       "      <td>[30, 176, 45, 190, 36, 6, 0, 0, 0, 0, 0, 0, 0,...</td>\n",
       "      <td>[&lt;begin&gt;, तुम, क्या, कर, रहे, हो, &lt;end&gt;]</td>\n",
       "      <td>1.0</td>\n",
       "      <td>[&lt;begin&gt;, तुम, क्या, कर, रहे, हो, &lt;end&gt;]</td>\n",
       "      <td>[[0.00025405205, 0.00031290535, 0.0005947447, ...</td>\n",
       "    </tr>\n",
       "    <tr>\n",
       "      <th>766</th>\n",
       "      <td>11420</td>\n",
       "      <td>Are you all right?\\n</td>\n",
       "      <td>तुम ठीक हो?\\n</td>\n",
       "      <td>['are', 'you', 'all', 'right']</td>\n",
       "      <td>4</td>\n",
       "      <td>[&lt;begin&gt;, तुम, ठीक, हो, &lt;end&gt;]</td>\n",
       "      <td>3</td>\n",
       "      <td>[0, 0, 0, 0, 274, 309, 21, 95]</td>\n",
       "      <td>[1, 30, 98, 36, 6, 0, 0, 0, 0, 0, 0, 0, 0, 0, ...</td>\n",
       "      <td>[30, 98, 36, 6, 0, 0, 0, 0, 0, 0, 0, 0, 0, 0, ...</td>\n",
       "      <td>[&lt;begin&gt;, क्या, तुम, ठीक, हो, &lt;end&gt;]</td>\n",
       "      <td>1.0</td>\n",
       "      <td>[&lt;begin&gt;, तुम, ठीक, हो, &lt;end&gt;]</td>\n",
       "      <td>[[0.00027544843, 0.00037248537, 0.00092363893,...</td>\n",
       "    </tr>\n",
       "    <tr>\n",
       "      <th>799</th>\n",
       "      <td>372</td>\n",
       "      <td>- No, I don't.\\n</td>\n",
       "      <td>- नहीं, मैं नहीं.\\n</td>\n",
       "      <td>['no', 'i', 'do', 'not']</td>\n",
       "      <td>4</td>\n",
       "      <td>[&lt;begin&gt;, नहीं, मैं, नहीं, &lt;end&gt;]</td>\n",
       "      <td>3</td>\n",
       "      <td>[0, 0, 0, 0, 23, 22, 73, 20]</td>\n",
       "      <td>[1, 22, 81, 22, 6, 0, 0, 0, 0, 0, 0, 0, 0, 0, ...</td>\n",
       "      <td>[22, 81, 22, 6, 0, 0, 0, 0, 0, 0, 0, 0, 0, 0, ...</td>\n",
       "      <td>[&lt;begin&gt;, नहीं, मैं, नहीं, &lt;end&gt;]</td>\n",
       "      <td>1.0</td>\n",
       "      <td>[&lt;begin&gt;, नहीं, मैं, नहीं, &lt;end&gt;]</td>\n",
       "      <td>[[0.0003254961, 0.00090118975, 0.0031194463, 0...</td>\n",
       "    </tr>\n",
       "    <tr>\n",
       "      <th>928</th>\n",
       "      <td>87924</td>\n",
       "      <td>- What are you doing?\\n</td>\n",
       "      <td>- तुम क्या कर रहे हो?\\n</td>\n",
       "      <td>['what', 'are', 'you', 'doing']</td>\n",
       "      <td>4</td>\n",
       "      <td>[&lt;begin&gt;, तुम, क्या, कर, रहे, हो, &lt;end&gt;]</td>\n",
       "      <td>5</td>\n",
       "      <td>[0, 0, 0, 0, 37, 21, 95, 90]</td>\n",
       "      <td>[1, 30, 176, 45, 190, 36, 6, 0, 0, 0, 0, 0, 0,...</td>\n",
       "      <td>[30, 176, 45, 190, 36, 6, 0, 0, 0, 0, 0, 0, 0,...</td>\n",
       "      <td>[&lt;begin&gt;, तुम, क्या, कर, रहे, हो, &lt;end&gt;]</td>\n",
       "      <td>1.0</td>\n",
       "      <td>[&lt;begin&gt;, तुम, क्या, कर, रहे, हो, &lt;end&gt;]</td>\n",
       "      <td>[[0.00025405205, 0.00031290535, 0.0005947447, ...</td>\n",
       "    </tr>\n",
       "    <tr>\n",
       "      <th>1447</th>\n",
       "      <td>44196</td>\n",
       "      <td>- What are you doing?\\n</td>\n",
       "      <td>- तुम क्या कर रहे हो?\\n</td>\n",
       "      <td>['what', 'are', 'you', 'doing']</td>\n",
       "      <td>4</td>\n",
       "      <td>[&lt;begin&gt;, तुम, क्या, कर, रहे, हो, &lt;end&gt;]</td>\n",
       "      <td>5</td>\n",
       "      <td>[0, 0, 0, 0, 37, 21, 95, 90]</td>\n",
       "      <td>[1, 30, 176, 45, 190, 36, 6, 0, 0, 0, 0, 0, 0,...</td>\n",
       "      <td>[30, 176, 45, 190, 36, 6, 0, 0, 0, 0, 0, 0, 0,...</td>\n",
       "      <td>[&lt;begin&gt;, तुम, क्या, कर, रहे, हो, &lt;end&gt;]</td>\n",
       "      <td>1.0</td>\n",
       "      <td>[&lt;begin&gt;, तुम, क्या, कर, रहे, हो, &lt;end&gt;]</td>\n",
       "      <td>[[0.00025405205, 0.00031290535, 0.0005947447, ...</td>\n",
       "    </tr>\n",
       "    <tr>\n",
       "      <th>1790</th>\n",
       "      <td>41151</td>\n",
       "      <td>Come on, come on.\\n</td>\n",
       "      <td>चलो, चलो.\\n</td>\n",
       "      <td>['come', 'on', 'come', 'on']</td>\n",
       "      <td>4</td>\n",
       "      <td>[&lt;begin&gt;, चलो, चलो, &lt;end&gt;]</td>\n",
       "      <td>2</td>\n",
       "      <td>[0, 0, 0, 0, 49, 31, 49, 31]</td>\n",
       "      <td>[1, 58, 58, 6, 0, 0, 0, 0, 0, 0, 0, 0, 0, 0, 0...</td>\n",
       "      <td>[58, 58, 6, 0, 0, 0, 0, 0, 0, 0, 0, 0, 0, 0, 0...</td>\n",
       "      <td>[&lt;begin&gt;, चलो, चलो, &lt;end&gt;]</td>\n",
       "      <td>1.0</td>\n",
       "      <td>[&lt;begin&gt;, चलो, चलो, &lt;end&gt;]</td>\n",
       "      <td>[[0.005453037, 0.00660029, 0.008098363, 0.0108...</td>\n",
       "    </tr>\n",
       "    <tr>\n",
       "      <th>1806</th>\n",
       "      <td>26009</td>\n",
       "      <td>- No, I'm not.\\n</td>\n",
       "      <td>- नहीं, मैं नहीं हूँ.\\n</td>\n",
       "      <td>['no', 'i', 'am', 'not']</td>\n",
       "      <td>4</td>\n",
       "      <td>[&lt;begin&gt;, नहीं, मैं, नहीं, हूँ, &lt;end&gt;]</td>\n",
       "      <td>4</td>\n",
       "      <td>[0, 0, 0, 0, 23, 74, 73, 20]</td>\n",
       "      <td>[1, 22, 81, 22, 86, 6, 0, 0, 0, 0, 0, 0, 0, 0,...</td>\n",
       "      <td>[22, 81, 22, 86, 6, 0, 0, 0, 0, 0, 0, 0, 0, 0,...</td>\n",
       "      <td>[&lt;begin&gt;, नहीं, मैं, नहीं, हूँ, &lt;end&gt;]</td>\n",
       "      <td>1.0</td>\n",
       "      <td>[&lt;begin&gt;, नहीं, मैं, नहीं, हूँ, &lt;end&gt;]</td>\n",
       "      <td>[[0.00010831433, 0.00034958625, 0.0013024218, ...</td>\n",
       "    </tr>\n",
       "  </tbody>\n",
       "</table>\n",
       "</div>"
      ],
      "text/plain": [
       "      Unnamed: 0                  english                    hindi  \\\n",
       "204        63324      Come on, come on.\\n              चलो, चलो.\\n   \n",
       "299        78317   No, no, no... ma'am.\\n   नहीं, नहीं, नहीं ...\\n   \n",
       "691        75487  - What are you doing?\\n  - तुम क्या कर रहे हो?\\n   \n",
       "766        11420     Are you all right?\\n            तुम ठीक हो?\\n   \n",
       "799          372         - No, I don't.\\n      - नहीं, मैं नहीं.\\n   \n",
       "928        87924  - What are you doing?\\n  - तुम क्या कर रहे हो?\\n   \n",
       "1447       44196  - What are you doing?\\n  - तुम क्या कर रहे हो?\\n   \n",
       "1790       41151      Come on, come on.\\n              चलो, चलो.\\n   \n",
       "1806       26009         - No, I'm not.\\n  - नहीं, मैं नहीं हूँ.\\n   \n",
       "\n",
       "                      cleaned_english  english_len  \\\n",
       "204      ['come', 'on', 'come', 'on']            4   \n",
       "299       ['no', 'no', 'no', \"ma'am\"]            4   \n",
       "691   ['what', 'are', 'you', 'doing']            4   \n",
       "766    ['are', 'you', 'all', 'right']            4   \n",
       "799          ['no', 'i', 'do', 'not']            4   \n",
       "928   ['what', 'are', 'you', 'doing']            4   \n",
       "1447  ['what', 'are', 'you', 'doing']            4   \n",
       "1790     ['come', 'on', 'come', 'on']            4   \n",
       "1806         ['no', 'i', 'am', 'not']            4   \n",
       "\n",
       "                                 cleaned_hindi  hindi_len  \\\n",
       "204                 [<begin>, चलो, चलो, <end>]          2   \n",
       "299         [<begin>, नहीं, नहीं, नहीं, <end>]          3   \n",
       "691   [<begin>, तुम, क्या, कर, रहे, हो, <end>]          5   \n",
       "766             [<begin>, तुम, ठीक, हो, <end>]          3   \n",
       "799          [<begin>, नहीं, मैं, नहीं, <end>]          3   \n",
       "928   [<begin>, तुम, क्या, कर, रहे, हो, <end>]          5   \n",
       "1447  [<begin>, तुम, क्या, कर, रहे, हो, <end>]          5   \n",
       "1790                [<begin>, चलो, चलो, <end>]          2   \n",
       "1806    [<begin>, नहीं, मैं, नहीं, हूँ, <end>]          4   \n",
       "\n",
       "                       encoder_input  \\\n",
       "204     [0, 0, 0, 0, 49, 31, 49, 31]   \n",
       "299    [0, 0, 0, 0, 106, 20, 20, 20]   \n",
       "691     [0, 0, 0, 0, 37, 21, 95, 90]   \n",
       "766   [0, 0, 0, 0, 274, 309, 21, 95]   \n",
       "799     [0, 0, 0, 0, 23, 22, 73, 20]   \n",
       "928     [0, 0, 0, 0, 37, 21, 95, 90]   \n",
       "1447    [0, 0, 0, 0, 37, 21, 95, 90]   \n",
       "1790    [0, 0, 0, 0, 49, 31, 49, 31]   \n",
       "1806    [0, 0, 0, 0, 23, 74, 73, 20]   \n",
       "\n",
       "                                          decoder_input  \\\n",
       "204   [1, 58, 58, 6, 0, 0, 0, 0, 0, 0, 0, 0, 0, 0, 0...   \n",
       "299   [1, 22, 22, 22, 6, 0, 0, 0, 0, 0, 0, 0, 0, 0, ...   \n",
       "691   [1, 30, 176, 45, 190, 36, 6, 0, 0, 0, 0, 0, 0,...   \n",
       "766   [1, 30, 98, 36, 6, 0, 0, 0, 0, 0, 0, 0, 0, 0, ...   \n",
       "799   [1, 22, 81, 22, 6, 0, 0, 0, 0, 0, 0, 0, 0, 0, ...   \n",
       "928   [1, 30, 176, 45, 190, 36, 6, 0, 0, 0, 0, 0, 0,...   \n",
       "1447  [1, 30, 176, 45, 190, 36, 6, 0, 0, 0, 0, 0, 0,...   \n",
       "1790  [1, 58, 58, 6, 0, 0, 0, 0, 0, 0, 0, 0, 0, 0, 0...   \n",
       "1806  [1, 22, 81, 22, 86, 6, 0, 0, 0, 0, 0, 0, 0, 0,...   \n",
       "\n",
       "                                         decoder_output  \\\n",
       "204   [58, 58, 6, 0, 0, 0, 0, 0, 0, 0, 0, 0, 0, 0, 0...   \n",
       "299   [22, 22, 22, 6, 0, 0, 0, 0, 0, 0, 0, 0, 0, 0, ...   \n",
       "691   [30, 176, 45, 190, 36, 6, 0, 0, 0, 0, 0, 0, 0,...   \n",
       "766   [30, 98, 36, 6, 0, 0, 0, 0, 0, 0, 0, 0, 0, 0, ...   \n",
       "799   [22, 81, 22, 6, 0, 0, 0, 0, 0, 0, 0, 0, 0, 0, ...   \n",
       "928   [30, 176, 45, 190, 36, 6, 0, 0, 0, 0, 0, 0, 0,...   \n",
       "1447  [30, 176, 45, 190, 36, 6, 0, 0, 0, 0, 0, 0, 0,...   \n",
       "1790  [58, 58, 6, 0, 0, 0, 0, 0, 0, 0, 0, 0, 0, 0, 0...   \n",
       "1806  [22, 81, 22, 86, 6, 0, 0, 0, 0, 0, 0, 0, 0, 0,...   \n",
       "\n",
       "                         generated_translation  bleu_score  \\\n",
       "204                 [<begin>, चलो, चलो, <end>]         1.0   \n",
       "299         [<begin>, नहीं, नहीं, नहीं, <end>]         1.0   \n",
       "691   [<begin>, तुम, क्या, कर, रहे, हो, <end>]         1.0   \n",
       "766       [<begin>, क्या, तुम, ठीक, हो, <end>]         1.0   \n",
       "799          [<begin>, नहीं, मैं, नहीं, <end>]         1.0   \n",
       "928   [<begin>, तुम, क्या, कर, रहे, हो, <end>]         1.0   \n",
       "1447  [<begin>, तुम, क्या, कर, रहे, हो, <end>]         1.0   \n",
       "1790                [<begin>, चलो, चलो, <end>]         1.0   \n",
       "1806    [<begin>, नहीं, मैं, नहीं, हूँ, <end>]         1.0   \n",
       "\n",
       "               generated_translation_attention  \\\n",
       "204                 [<begin>, चलो, चलो, <end>]   \n",
       "299         [<begin>, नहीं, नहीं, नहीं, <end>]   \n",
       "691   [<begin>, तुम, क्या, कर, रहे, हो, <end>]   \n",
       "766             [<begin>, तुम, ठीक, हो, <end>]   \n",
       "799          [<begin>, नहीं, मैं, नहीं, <end>]   \n",
       "928   [<begin>, तुम, क्या, कर, रहे, हो, <end>]   \n",
       "1447  [<begin>, तुम, क्या, कर, रहे, हो, <end>]   \n",
       "1790                [<begin>, चलो, चलो, <end>]   \n",
       "1806    [<begin>, नहीं, मैं, नहीं, हूँ, <end>]   \n",
       "\n",
       "                                       attention_matrix  \n",
       "204   [[0.005453037, 0.00660029, 0.008098363, 0.0108...  \n",
       "299   [[0.0003414412, 0.00055207516, 0.0012373755, 0...  \n",
       "691   [[0.00025405205, 0.00031290535, 0.0005947447, ...  \n",
       "766   [[0.00027544843, 0.00037248537, 0.00092363893,...  \n",
       "799   [[0.0003254961, 0.00090118975, 0.0031194463, 0...  \n",
       "928   [[0.00025405205, 0.00031290535, 0.0005947447, ...  \n",
       "1447  [[0.00025405205, 0.00031290535, 0.0005947447, ...  \n",
       "1790  [[0.005453037, 0.00660029, 0.008098363, 0.0108...  \n",
       "1806  [[0.00010831433, 0.00034958625, 0.0013024218, ...  "
      ]
     },
     "execution_count": 86,
     "metadata": {},
     "output_type": "execute_result"
    }
   ],
   "source": [
    "test[test['bleu_score']>0.9]"
   ]
  },
  {
   "cell_type": "code",
   "execution_count": 87,
   "metadata": {},
   "outputs": [
    {
     "data": {
      "text/html": [
       "<div>\n",
       "<style scoped>\n",
       "    .dataframe tbody tr th:only-of-type {\n",
       "        vertical-align: middle;\n",
       "    }\n",
       "\n",
       "    .dataframe tbody tr th {\n",
       "        vertical-align: top;\n",
       "    }\n",
       "\n",
       "    .dataframe thead th {\n",
       "        text-align: right;\n",
       "    }\n",
       "</style>\n",
       "<table border=\"1\" class=\"dataframe\">\n",
       "  <thead>\n",
       "    <tr style=\"text-align: right;\">\n",
       "      <th></th>\n",
       "      <th>Unnamed: 0</th>\n",
       "      <th>english_len</th>\n",
       "      <th>hindi_len</th>\n",
       "      <th>bleu_score</th>\n",
       "    </tr>\n",
       "  </thead>\n",
       "  <tbody>\n",
       "    <tr>\n",
       "      <th>count</th>\n",
       "      <td>2000.000000</td>\n",
       "      <td>2000.000000</td>\n",
       "      <td>2000.000000</td>\n",
       "      <td>2.000000e+03</td>\n",
       "    </tr>\n",
       "    <tr>\n",
       "      <th>mean</th>\n",
       "      <td>44830.008500</td>\n",
       "      <td>4.652500</td>\n",
       "      <td>5.072000</td>\n",
       "      <td>2.121373e-01</td>\n",
       "    </tr>\n",
       "    <tr>\n",
       "      <th>std</th>\n",
       "      <td>26791.997205</td>\n",
       "      <td>0.860299</td>\n",
       "      <td>1.877652</td>\n",
       "      <td>2.035392e-01</td>\n",
       "    </tr>\n",
       "    <tr>\n",
       "      <th>min</th>\n",
       "      <td>55.000000</td>\n",
       "      <td>1.000000</td>\n",
       "      <td>1.000000</td>\n",
       "      <td>0.000000e+00</td>\n",
       "    </tr>\n",
       "    <tr>\n",
       "      <th>25%</th>\n",
       "      <td>21326.500000</td>\n",
       "      <td>4.000000</td>\n",
       "      <td>4.000000</td>\n",
       "      <td>2.751110e-78</td>\n",
       "    </tr>\n",
       "    <tr>\n",
       "      <th>50%</th>\n",
       "      <td>42900.000000</td>\n",
       "      <td>5.000000</td>\n",
       "      <td>5.000000</td>\n",
       "      <td>1.905771e-01</td>\n",
       "    </tr>\n",
       "    <tr>\n",
       "      <th>75%</th>\n",
       "      <td>67456.000000</td>\n",
       "      <td>5.000000</td>\n",
       "      <td>6.000000</td>\n",
       "      <td>3.424209e-01</td>\n",
       "    </tr>\n",
       "    <tr>\n",
       "      <th>max</th>\n",
       "      <td>92943.000000</td>\n",
       "      <td>8.000000</td>\n",
       "      <td>28.000000</td>\n",
       "      <td>1.000000e+00</td>\n",
       "    </tr>\n",
       "  </tbody>\n",
       "</table>\n",
       "</div>"
      ],
      "text/plain": [
       "         Unnamed: 0  english_len    hindi_len    bleu_score\n",
       "count   2000.000000  2000.000000  2000.000000  2.000000e+03\n",
       "mean   44830.008500     4.652500     5.072000  2.121373e-01\n",
       "std    26791.997205     0.860299     1.877652  2.035392e-01\n",
       "min       55.000000     1.000000     1.000000  0.000000e+00\n",
       "25%    21326.500000     4.000000     4.000000  2.751110e-78\n",
       "50%    42900.000000     5.000000     5.000000  1.905771e-01\n",
       "75%    67456.000000     5.000000     6.000000  3.424209e-01\n",
       "max    92943.000000     8.000000    28.000000  1.000000e+00"
      ]
     },
     "execution_count": 87,
     "metadata": {},
     "output_type": "execute_result"
    }
   ],
   "source": [
    "test.describe()"
   ]
  },
  {
   "cell_type": "code",
   "execution_count": 88,
   "metadata": {},
   "outputs": [],
   "source": [
    "test.to_csv('results/test_seq2seq_with_attention.csv')"
   ]
  }
 ],
 "metadata": {
  "kernelspec": {
   "display_name": "Python 3",
   "language": "python",
   "name": "python3"
  },
  "language_info": {
   "codemirror_mode": {
    "name": "ipython",
    "version": 3
   },
   "file_extension": ".py",
   "mimetype": "text/x-python",
   "name": "python",
   "nbconvert_exporter": "python",
   "pygments_lexer": "ipython3",
   "version": "3.8.5"
  }
 },
 "nbformat": 4,
 "nbformat_minor": 4
}
