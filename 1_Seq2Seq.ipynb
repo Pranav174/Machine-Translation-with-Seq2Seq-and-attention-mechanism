{
 "cells": [
  {
   "cell_type": "markdown",
   "metadata": {},
   "source": [
    "# Seq2Seq\n",
    "By Pranav Goyal"
   ]
  },
  {
   "cell_type": "code",
   "execution_count": 1,
   "metadata": {},
   "outputs": [],
   "source": [
    "import pandas as pd\n",
    "import numpy as np\n",
    "import re\n",
    "from collections import defaultdict\n",
    "import matplotlib.pyplot as plt\n",
    "from tqdm import tqdm\n",
    "from sklearn.model_selection import train_test_split\n",
    "import tensorflow as tf\n",
    "from tensorflow import keras\n",
    "from tensorflow.keras import layers\n",
    "from nltk.translate.bleu_score import sentence_bleu"
   ]
  },
  {
   "cell_type": "markdown",
   "metadata": {},
   "source": [
    "### GPU Configuration"
   ]
  },
  {
   "cell_type": "code",
   "execution_count": 2,
   "metadata": {},
   "outputs": [
    {
     "data": {
      "text/plain": [
       "[PhysicalDevice(name='/physical_device:CPU:0', device_type='CPU'),\n",
       " PhysicalDevice(name='/physical_device:XLA_CPU:0', device_type='XLA_CPU'),\n",
       " PhysicalDevice(name='/physical_device:XLA_GPU:0', device_type='XLA_GPU'),\n",
       " PhysicalDevice(name='/physical_device:GPU:0', device_type='GPU')]"
      ]
     },
     "execution_count": 2,
     "metadata": {},
     "output_type": "execute_result"
    }
   ],
   "source": [
    "tf.config.experimental.list_physical_devices()"
   ]
  },
  {
   "cell_type": "code",
   "execution_count": 3,
   "metadata": {},
   "outputs": [],
   "source": [
    "gpus = tf.config.experimental.list_physical_devices(device_type='GPU')\n",
    "tf.config.experimental.set_visible_devices(devices=gpus[0], device_type='GPU')\n",
    "tf.config.experimental.set_memory_growth(device=gpus[0], enable=True)"
   ]
  },
  {
   "cell_type": "markdown",
   "metadata": {},
   "source": [
    "### Data Preprocessing"
   ]
  },
  {
   "cell_type": "code",
   "execution_count": 4,
   "metadata": {},
   "outputs": [],
   "source": [
    "df = pd.read_pickle('en_hi_data/en_hi.pkl')"
   ]
  },
  {
   "cell_type": "code",
   "execution_count": 5,
   "metadata": {},
   "outputs": [
    {
     "data": {
      "text/html": [
       "<div>\n",
       "<style scoped>\n",
       "    .dataframe tbody tr th:only-of-type {\n",
       "        vertical-align: middle;\n",
       "    }\n",
       "\n",
       "    .dataframe tbody tr th {\n",
       "        vertical-align: top;\n",
       "    }\n",
       "\n",
       "    .dataframe thead th {\n",
       "        text-align: right;\n",
       "    }\n",
       "</style>\n",
       "<table border=\"1\" class=\"dataframe\">\n",
       "  <thead>\n",
       "    <tr style=\"text-align: right;\">\n",
       "      <th></th>\n",
       "      <th>english</th>\n",
       "      <th>hindi</th>\n",
       "    </tr>\n",
       "  </thead>\n",
       "  <tbody>\n",
       "    <tr>\n",
       "      <th>57382</th>\n",
       "      <td>Who is this man?\\n</td>\n",
       "      <td>-ये आदमी कौन है ?\\n</td>\n",
       "    </tr>\n",
       "    <tr>\n",
       "      <th>28149</th>\n",
       "      <td>And the other brother?\\n</td>\n",
       "      <td>और दूसरे भाई?\\n</td>\n",
       "    </tr>\n",
       "    <tr>\n",
       "      <th>80284</th>\n",
       "      <td>- Greetings, Mustakeen bhai.\\n</td>\n",
       "      <td>नमस्ते, Mustakeen भाई।\\n</td>\n",
       "    </tr>\n",
       "    <tr>\n",
       "      <th>63596</th>\n",
       "      <td>Please, reason with them.\\n</td>\n",
       "      <td>कृपया, उन लोगों के साथ कारण.\\n</td>\n",
       "    </tr>\n",
       "    <tr>\n",
       "      <th>9459</th>\n",
       "      <td>There's a howling gale.\\n</td>\n",
       "      <td>तेज़ हवा आ रही है।\\n</td>\n",
       "    </tr>\n",
       "    <tr>\n",
       "      <th>...</th>\n",
       "      <td>...</td>\n",
       "      <td>...</td>\n",
       "    </tr>\n",
       "    <tr>\n",
       "      <th>80140</th>\n",
       "      <td>\"Let's enjoy this life, sweetheart.\"\\n</td>\n",
       "      <td>\"हम इस जीवन, जानेमन का आनंद लें।\"\\n</td>\n",
       "    </tr>\n",
       "    <tr>\n",
       "      <th>66651</th>\n",
       "      <td>Let's get out of here.\\n</td>\n",
       "      <td>चलो अब चलो यहाँ से .\\n</td>\n",
       "    </tr>\n",
       "    <tr>\n",
       "      <th>35946</th>\n",
       "      <td>WE'RE GOING TO THE GARAGE.\\n</td>\n",
       "      <td>हम गेराज के लिए जा रहे हैं.\\n</td>\n",
       "    </tr>\n",
       "    <tr>\n",
       "      <th>44917</th>\n",
       "      <td>It's gonna be dark soon.\\n</td>\n",
       "      <td>यह जल्द ही अंधेरा होने वाला है.\\n</td>\n",
       "    </tr>\n",
       "    <tr>\n",
       "      <th>15083</th>\n",
       "      <td>I don't know, Frau Junge.\\n</td>\n",
       "      <td>मैं नहीं जानता, फ्रॉ जुंग.\\n</td>\n",
       "    </tr>\n",
       "  </tbody>\n",
       "</table>\n",
       "<p>10000 rows × 2 columns</p>\n",
       "</div>"
      ],
      "text/plain": [
       "                                      english  \\\n",
       "57382                      Who is this man?\\n   \n",
       "28149                And the other brother?\\n   \n",
       "80284          - Greetings, Mustakeen bhai.\\n   \n",
       "63596             Please, reason with them.\\n   \n",
       "9459                There's a howling gale.\\n   \n",
       "...                                       ...   \n",
       "80140  \"Let's enjoy this life, sweetheart.\"\\n   \n",
       "66651                Let's get out of here.\\n   \n",
       "35946            WE'RE GOING TO THE GARAGE.\\n   \n",
       "44917              It's gonna be dark soon.\\n   \n",
       "15083             I don't know, Frau Junge.\\n   \n",
       "\n",
       "                                     hindi  \n",
       "57382                  -ये आदमी कौन है ?\\n  \n",
       "28149                      और दूसरे भाई?\\n  \n",
       "80284             नमस्ते, Mustakeen भाई।\\n  \n",
       "63596       कृपया, उन लोगों के साथ कारण.\\n  \n",
       "9459                   तेज़ हवा आ रही है।\\n  \n",
       "...                                    ...  \n",
       "80140  \"हम इस जीवन, जानेमन का आनंद लें।\"\\n  \n",
       "66651               चलो अब चलो यहाँ से .\\n  \n",
       "35946        हम गेराज के लिए जा रहे हैं.\\n  \n",
       "44917    यह जल्द ही अंधेरा होने वाला है.\\n  \n",
       "15083         मैं नहीं जानता, फ्रॉ जुंग.\\n  \n",
       "\n",
       "[10000 rows x 2 columns]"
      ]
     },
     "execution_count": 5,
     "metadata": {},
     "output_type": "execute_result"
    }
   ],
   "source": [
    "df"
   ]
  },
  {
   "cell_type": "code",
   "execution_count": 6,
   "metadata": {},
   "outputs": [],
   "source": [
    "def clean_text(text):\n",
    "    '''Clean text by removing unnecessary characters and altering the format of words.'''\n",
    "    \n",
    "    text = text.lower()\n",
    "    \n",
    "    text = re.sub(r\"\\\\n\", \"\", text)\n",
    "    text = re.sub(r\"i'm\", \"i am\", text)\n",
    "    text = re.sub(r\"he's\", \"he is\", text)\n",
    "    text = re.sub(r\"she's\", \"she is\", text)\n",
    "    text = re.sub(r\"it's\", \"it is\", text)\n",
    "    text = re.sub(r\"let's\", \"let us\", text)\n",
    "    text = re.sub(r\"that's\", \"that is\", text)\n",
    "    text = re.sub(r\"what's\", \"that is\", text)\n",
    "    text = re.sub(r\"where's\", \"where is\", text)\n",
    "    text = re.sub(r\"how's\", \"how is\", text)\n",
    "    text = re.sub(r\"there's\", \"there is\", text)\n",
    "    text = re.sub(r\"'s\", \" 's\", text)\n",
    "    text = re.sub(r\"\\'ll\", \" will\", text)\n",
    "    text = re.sub(r\"\\'ve\", \" have\", text)\n",
    "    text = re.sub(r\"\\'re\", \" are\", text)\n",
    "    text = re.sub(r\"\\'d\", \" would\", text)\n",
    "    text = re.sub(r\"\\'re\", \" are\", text)\n",
    "    text = re.sub(r\"won't\", \"will not\", text)\n",
    "    text = re.sub(r\"can't\", \"cannot\", text)\n",
    "    text = re.sub(r\"n't\", \" not\", text)\n",
    "    text = re.sub(r\"n'\", \"ng\", text)\n",
    "    text = re.sub(r\"'bout\", \"about\", text)\n",
    "    text = re.sub(r\"'til\", \"until\", text)\n",
    "    # removing the punctuations\n",
    "    text = re.sub(r'([-()\\\"#/@;:<>{}`।+=~|.!?\\\",])', r\"\", text)\n",
    "    text = re.sub(r\" [ ]*\", \" \", text)\n",
    "    text = text.strip()\n",
    "    \n",
    "    text = text.split(' ')\n",
    "    return text"
   ]
  },
  {
   "cell_type": "code",
   "execution_count": 7,
   "metadata": {},
   "outputs": [],
   "source": [
    "df['cleaned_english'] = df['english'].apply(clean_text)\n",
    "df['english_len'] = df['cleaned_english'].apply(lambda x: len(x))\n",
    "df['cleaned_hindi'] = df['hindi'].apply(clean_text)\n",
    "df['hindi_len'] = df['cleaned_hindi'].apply(lambda x: len(x))\n",
    "df['cleaned_hindi'] = df['cleaned_hindi'].apply(lambda x: ['<begin>']+x+['<end>'])"
   ]
  },
  {
   "cell_type": "code",
   "execution_count": 8,
   "metadata": {},
   "outputs": [
    {
     "data": {
      "text/html": [
       "<div>\n",
       "<style scoped>\n",
       "    .dataframe tbody tr th:only-of-type {\n",
       "        vertical-align: middle;\n",
       "    }\n",
       "\n",
       "    .dataframe tbody tr th {\n",
       "        vertical-align: top;\n",
       "    }\n",
       "\n",
       "    .dataframe thead th {\n",
       "        text-align: right;\n",
       "    }\n",
       "</style>\n",
       "<table border=\"1\" class=\"dataframe\">\n",
       "  <thead>\n",
       "    <tr style=\"text-align: right;\">\n",
       "      <th></th>\n",
       "      <th>english</th>\n",
       "      <th>hindi</th>\n",
       "      <th>cleaned_english</th>\n",
       "      <th>english_len</th>\n",
       "      <th>cleaned_hindi</th>\n",
       "      <th>hindi_len</th>\n",
       "    </tr>\n",
       "  </thead>\n",
       "  <tbody>\n",
       "    <tr>\n",
       "      <th>57382</th>\n",
       "      <td>Who is this man?\\n</td>\n",
       "      <td>-ये आदमी कौन है ?\\n</td>\n",
       "      <td>[who, is, this, man]</td>\n",
       "      <td>4</td>\n",
       "      <td>[&lt;begin&gt;, ये, आदमी, कौन, है, &lt;end&gt;]</td>\n",
       "      <td>4</td>\n",
       "    </tr>\n",
       "    <tr>\n",
       "      <th>28149</th>\n",
       "      <td>And the other brother?\\n</td>\n",
       "      <td>और दूसरे भाई?\\n</td>\n",
       "      <td>[and, the, other, brother]</td>\n",
       "      <td>4</td>\n",
       "      <td>[&lt;begin&gt;, और, दूसरे, भाई, &lt;end&gt;]</td>\n",
       "      <td>3</td>\n",
       "    </tr>\n",
       "    <tr>\n",
       "      <th>80284</th>\n",
       "      <td>- Greetings, Mustakeen bhai.\\n</td>\n",
       "      <td>नमस्ते, Mustakeen भाई।\\n</td>\n",
       "      <td>[greetings, mustakeen, bhai]</td>\n",
       "      <td>3</td>\n",
       "      <td>[&lt;begin&gt;, नमस्ते, mustakeen, भाई, &lt;end&gt;]</td>\n",
       "      <td>3</td>\n",
       "    </tr>\n",
       "    <tr>\n",
       "      <th>63596</th>\n",
       "      <td>Please, reason with them.\\n</td>\n",
       "      <td>कृपया, उन लोगों के साथ कारण.\\n</td>\n",
       "      <td>[please, reason, with, them]</td>\n",
       "      <td>4</td>\n",
       "      <td>[&lt;begin&gt;, कृपया, उन, लोगों, के, साथ, कारण, &lt;end&gt;]</td>\n",
       "      <td>6</td>\n",
       "    </tr>\n",
       "    <tr>\n",
       "      <th>9459</th>\n",
       "      <td>There's a howling gale.\\n</td>\n",
       "      <td>तेज़ हवा आ रही है।\\n</td>\n",
       "      <td>[there, is, a, howling, gale]</td>\n",
       "      <td>5</td>\n",
       "      <td>[&lt;begin&gt;, तेज़, हवा, आ, रही, है, &lt;end&gt;]</td>\n",
       "      <td>5</td>\n",
       "    </tr>\n",
       "    <tr>\n",
       "      <th>...</th>\n",
       "      <td>...</td>\n",
       "      <td>...</td>\n",
       "      <td>...</td>\n",
       "      <td>...</td>\n",
       "      <td>...</td>\n",
       "      <td>...</td>\n",
       "    </tr>\n",
       "    <tr>\n",
       "      <th>80140</th>\n",
       "      <td>\"Let's enjoy this life, sweetheart.\"\\n</td>\n",
       "      <td>\"हम इस जीवन, जानेमन का आनंद लें।\"\\n</td>\n",
       "      <td>[let, us, enjoy, this, life, sweetheart]</td>\n",
       "      <td>6</td>\n",
       "      <td>[&lt;begin&gt;, हम, इस, जीवन, जानेमन, का, आनंद, लें,...</td>\n",
       "      <td>7</td>\n",
       "    </tr>\n",
       "    <tr>\n",
       "      <th>66651</th>\n",
       "      <td>Let's get out of here.\\n</td>\n",
       "      <td>चलो अब चलो यहाँ से .\\n</td>\n",
       "      <td>[let, us, get, out, of, here]</td>\n",
       "      <td>6</td>\n",
       "      <td>[&lt;begin&gt;, चलो, अब, चलो, यहाँ, से, &lt;end&gt;]</td>\n",
       "      <td>5</td>\n",
       "    </tr>\n",
       "    <tr>\n",
       "      <th>35946</th>\n",
       "      <td>WE'RE GOING TO THE GARAGE.\\n</td>\n",
       "      <td>हम गेराज के लिए जा रहे हैं.\\n</td>\n",
       "      <td>[we, are, going, to, the, garage]</td>\n",
       "      <td>6</td>\n",
       "      <td>[&lt;begin&gt;, हम, गेराज, के, लिए, जा, रहे, हैं, &lt;e...</td>\n",
       "      <td>7</td>\n",
       "    </tr>\n",
       "    <tr>\n",
       "      <th>44917</th>\n",
       "      <td>It's gonna be dark soon.\\n</td>\n",
       "      <td>यह जल्द ही अंधेरा होने वाला है.\\n</td>\n",
       "      <td>[it, is, gonna, be, dark, soon]</td>\n",
       "      <td>6</td>\n",
       "      <td>[&lt;begin&gt;, यह, जल्द, ही, अंधेरा, होने, वाला, है...</td>\n",
       "      <td>7</td>\n",
       "    </tr>\n",
       "    <tr>\n",
       "      <th>15083</th>\n",
       "      <td>I don't know, Frau Junge.\\n</td>\n",
       "      <td>मैं नहीं जानता, फ्रॉ जुंग.\\n</td>\n",
       "      <td>[i, do, not, know, frau, junge]</td>\n",
       "      <td>6</td>\n",
       "      <td>[&lt;begin&gt;, मैं, नहीं, जानता, फ्रॉ, जुंग, &lt;end&gt;]</td>\n",
       "      <td>5</td>\n",
       "    </tr>\n",
       "  </tbody>\n",
       "</table>\n",
       "<p>10000 rows × 6 columns</p>\n",
       "</div>"
      ],
      "text/plain": [
       "                                      english  \\\n",
       "57382                      Who is this man?\\n   \n",
       "28149                And the other brother?\\n   \n",
       "80284          - Greetings, Mustakeen bhai.\\n   \n",
       "63596             Please, reason with them.\\n   \n",
       "9459                There's a howling gale.\\n   \n",
       "...                                       ...   \n",
       "80140  \"Let's enjoy this life, sweetheart.\"\\n   \n",
       "66651                Let's get out of here.\\n   \n",
       "35946            WE'RE GOING TO THE GARAGE.\\n   \n",
       "44917              It's gonna be dark soon.\\n   \n",
       "15083             I don't know, Frau Junge.\\n   \n",
       "\n",
       "                                     hindi  \\\n",
       "57382                  -ये आदमी कौन है ?\\n   \n",
       "28149                      और दूसरे भाई?\\n   \n",
       "80284             नमस्ते, Mustakeen भाई।\\n   \n",
       "63596       कृपया, उन लोगों के साथ कारण.\\n   \n",
       "9459                   तेज़ हवा आ रही है।\\n   \n",
       "...                                    ...   \n",
       "80140  \"हम इस जीवन, जानेमन का आनंद लें।\"\\n   \n",
       "66651               चलो अब चलो यहाँ से .\\n   \n",
       "35946        हम गेराज के लिए जा रहे हैं.\\n   \n",
       "44917    यह जल्द ही अंधेरा होने वाला है.\\n   \n",
       "15083         मैं नहीं जानता, फ्रॉ जुंग.\\n   \n",
       "\n",
       "                                cleaned_english  english_len  \\\n",
       "57382                      [who, is, this, man]            4   \n",
       "28149                [and, the, other, brother]            4   \n",
       "80284              [greetings, mustakeen, bhai]            3   \n",
       "63596              [please, reason, with, them]            4   \n",
       "9459              [there, is, a, howling, gale]            5   \n",
       "...                                         ...          ...   \n",
       "80140  [let, us, enjoy, this, life, sweetheart]            6   \n",
       "66651             [let, us, get, out, of, here]            6   \n",
       "35946         [we, are, going, to, the, garage]            6   \n",
       "44917           [it, is, gonna, be, dark, soon]            6   \n",
       "15083           [i, do, not, know, frau, junge]            6   \n",
       "\n",
       "                                           cleaned_hindi  hindi_len  \n",
       "57382                [<begin>, ये, आदमी, कौन, है, <end>]          4  \n",
       "28149                   [<begin>, और, दूसरे, भाई, <end>]          3  \n",
       "80284           [<begin>, नमस्ते, mustakeen, भाई, <end>]          3  \n",
       "63596  [<begin>, कृपया, उन, लोगों, के, साथ, कारण, <end>]          6  \n",
       "9459              [<begin>, तेज़, हवा, आ, रही, है, <end>]          5  \n",
       "...                                                  ...        ...  \n",
       "80140  [<begin>, हम, इस, जीवन, जानेमन, का, आनंद, लें,...          7  \n",
       "66651           [<begin>, चलो, अब, चलो, यहाँ, से, <end>]          5  \n",
       "35946  [<begin>, हम, गेराज, के, लिए, जा, रहे, हैं, <e...          7  \n",
       "44917  [<begin>, यह, जल्द, ही, अंधेरा, होने, वाला, है...          7  \n",
       "15083     [<begin>, मैं, नहीं, जानता, फ्रॉ, जुंग, <end>]          5  \n",
       "\n",
       "[10000 rows x 6 columns]"
      ]
     },
     "execution_count": 8,
     "metadata": {},
     "output_type": "execute_result"
    }
   ],
   "source": [
    "df"
   ]
  },
  {
   "cell_type": "code",
   "execution_count": 9,
   "metadata": {},
   "outputs": [
    {
     "data": {
      "text/html": [
       "<div>\n",
       "<style scoped>\n",
       "    .dataframe tbody tr th:only-of-type {\n",
       "        vertical-align: middle;\n",
       "    }\n",
       "\n",
       "    .dataframe tbody tr th {\n",
       "        vertical-align: top;\n",
       "    }\n",
       "\n",
       "    .dataframe thead th {\n",
       "        text-align: right;\n",
       "    }\n",
       "</style>\n",
       "<table border=\"1\" class=\"dataframe\">\n",
       "  <thead>\n",
       "    <tr style=\"text-align: right;\">\n",
       "      <th></th>\n",
       "      <th>english_len</th>\n",
       "      <th>hindi_len</th>\n",
       "    </tr>\n",
       "  </thead>\n",
       "  <tbody>\n",
       "    <tr>\n",
       "      <th>count</th>\n",
       "      <td>10000.000000</td>\n",
       "      <td>10000.000000</td>\n",
       "    </tr>\n",
       "    <tr>\n",
       "      <th>mean</th>\n",
       "      <td>4.657800</td>\n",
       "      <td>5.117600</td>\n",
       "    </tr>\n",
       "    <tr>\n",
       "      <th>std</th>\n",
       "      <td>0.819491</td>\n",
       "      <td>1.782607</td>\n",
       "    </tr>\n",
       "    <tr>\n",
       "      <th>min</th>\n",
       "      <td>1.000000</td>\n",
       "      <td>1.000000</td>\n",
       "    </tr>\n",
       "    <tr>\n",
       "      <th>25%</th>\n",
       "      <td>4.000000</td>\n",
       "      <td>4.000000</td>\n",
       "    </tr>\n",
       "    <tr>\n",
       "      <th>50%</th>\n",
       "      <td>5.000000</td>\n",
       "      <td>5.000000</td>\n",
       "    </tr>\n",
       "    <tr>\n",
       "      <th>75%</th>\n",
       "      <td>5.000000</td>\n",
       "      <td>6.000000</td>\n",
       "    </tr>\n",
       "    <tr>\n",
       "      <th>max</th>\n",
       "      <td>8.000000</td>\n",
       "      <td>28.000000</td>\n",
       "    </tr>\n",
       "  </tbody>\n",
       "</table>\n",
       "</div>"
      ],
      "text/plain": [
       "        english_len     hindi_len\n",
       "count  10000.000000  10000.000000\n",
       "mean       4.657800      5.117600\n",
       "std        0.819491      1.782607\n",
       "min        1.000000      1.000000\n",
       "25%        4.000000      4.000000\n",
       "50%        5.000000      5.000000\n",
       "75%        5.000000      6.000000\n",
       "max        8.000000     28.000000"
      ]
     },
     "execution_count": 9,
     "metadata": {},
     "output_type": "execute_result"
    }
   ],
   "source": [
    "df.describe()"
   ]
  },
  {
   "cell_type": "code",
   "execution_count": 10,
   "metadata": {},
   "outputs": [],
   "source": [
    "english_max_len = 8\n",
    "hindi_max_len = 30"
   ]
  },
  {
   "cell_type": "code",
   "execution_count": 11,
   "metadata": {},
   "outputs": [
    {
     "data": {
      "text/html": [
       "<div>\n",
       "<style scoped>\n",
       "    .dataframe tbody tr th:only-of-type {\n",
       "        vertical-align: middle;\n",
       "    }\n",
       "\n",
       "    .dataframe tbody tr th {\n",
       "        vertical-align: top;\n",
       "    }\n",
       "\n",
       "    .dataframe thead th {\n",
       "        text-align: right;\n",
       "    }\n",
       "</style>\n",
       "<table border=\"1\" class=\"dataframe\">\n",
       "  <thead>\n",
       "    <tr style=\"text-align: right;\">\n",
       "      <th></th>\n",
       "      <th>english</th>\n",
       "      <th>hindi</th>\n",
       "      <th>cleaned_english</th>\n",
       "      <th>english_len</th>\n",
       "      <th>cleaned_hindi</th>\n",
       "      <th>hindi_len</th>\n",
       "    </tr>\n",
       "  </thead>\n",
       "  <tbody>\n",
       "    <tr>\n",
       "      <th>68992</th>\n",
       "      <td>Start anywhere you like.\\n</td>\n",
       "      <td>विनाश का दिवस जहाँ से चाहो शुरू कर सकते हो।\\n</td>\n",
       "      <td>[start, anywhere, you, like]</td>\n",
       "      <td>4</td>\n",
       "      <td>[&lt;begin&gt;, विनाश, का, दिवस, जहाँ, से, चाहो, शुर...</td>\n",
       "      <td>10</td>\n",
       "    </tr>\n",
       "    <tr>\n",
       "      <th>32941</th>\n",
       "      <td>A little unfinished business.\\n</td>\n",
       "      <td>वह बेबी जैक पाया और वह उसे सुरक्षित रखने के लि...</td>\n",
       "      <td>[a, little, unfinished, business]</td>\n",
       "      <td>4</td>\n",
       "      <td>[&lt;begin&gt;, वह, बेबी, जैक, पाया, और, वह, उसे, सु...</td>\n",
       "      <td>28</td>\n",
       "    </tr>\n",
       "    <tr>\n",
       "      <th>91719</th>\n",
       "      <td>I can't remember. Really?\\n</td>\n",
       "      <td>और तकनीकी तौर पर तुम एक मूर्ख हो, नहीं हो क्या?\\n</td>\n",
       "      <td>[i, cannot, remember, really]</td>\n",
       "      <td>4</td>\n",
       "      <td>[&lt;begin&gt;, और, तकनीकी, तौर, पर, तुम, एक, मूर्ख,...</td>\n",
       "      <td>11</td>\n",
       "    </tr>\n",
       "    <tr>\n",
       "      <th>66849</th>\n",
       "      <td>Hard to know. Years?\\n</td>\n",
       "      <td>कहना जरा कठिन है, फिर भी कुछ साल तो जरुर लगेंग...</td>\n",
       "      <td>[hard, to, know, years]</td>\n",
       "      <td>4</td>\n",
       "      <td>[&lt;begin&gt;, कहना, जरा, कठिन, है, फिर, भी, कुछ, स...</td>\n",
       "      <td>11</td>\n",
       "    </tr>\n",
       "    <tr>\n",
       "      <th>19117</th>\n",
       "      <td>Track ahead looks good.\\n</td>\n",
       "      <td>मैं ऐसा नहीं करोगे. लगता है एल एल कुछ देखना.\\n</td>\n",
       "      <td>[track, ahead, looks, good]</td>\n",
       "      <td>4</td>\n",
       "      <td>[&lt;begin&gt;, मैं, ऐसा, नहीं, करोगे, लगता, है, एल,...</td>\n",
       "      <td>10</td>\n",
       "    </tr>\n",
       "    <tr>\n",
       "      <th>...</th>\n",
       "      <td>...</td>\n",
       "      <td>...</td>\n",
       "      <td>...</td>\n",
       "      <td>...</td>\n",
       "      <td>...</td>\n",
       "      <td>...</td>\n",
       "    </tr>\n",
       "    <tr>\n",
       "      <th>2529</th>\n",
       "      <td>KDK 1 calling KDK 12.\\n</td>\n",
       "      <td>के डी के 1बुला रहा है के डी के 12 को.\\n</td>\n",
       "      <td>[kdk, 1, calling, kdk, 12]</td>\n",
       "      <td>5</td>\n",
       "      <td>[&lt;begin&gt;, के, डी, के, 1बुला, रहा, है, के, डी, ...</td>\n",
       "      <td>11</td>\n",
       "    </tr>\n",
       "    <tr>\n",
       "      <th>90490</th>\n",
       "      <td>Well, that's very flattering, Andy.\\n</td>\n",
       "      <td>तो यह इंटरव्यू ख़त्म हुआ समझो। यह बहुत ख़ुशी देन...</td>\n",
       "      <td>[well, that, is, very, flattering, andy]</td>\n",
       "      <td>6</td>\n",
       "      <td>[&lt;begin&gt;, तो, यह, इंटरव्यू, ख़त्म, हुआ, समझो, य...</td>\n",
       "      <td>13</td>\n",
       "    </tr>\n",
       "    <tr>\n",
       "      <th>78153</th>\n",
       "      <td>I can't feel my legs.\\n</td>\n",
       "      <td>मैं अपने पैरों को महसूस नहीं कर सकते हैं कर सक...</td>\n",
       "      <td>[i, cannot, feel, my, legs]</td>\n",
       "      <td>5</td>\n",
       "      <td>[&lt;begin&gt;, मैं, अपने, पैरों, को, महसूस, नहीं, क...</td>\n",
       "      <td>12</td>\n",
       "    </tr>\n",
       "    <tr>\n",
       "      <th>2538</th>\n",
       "      <td>KDK 1 calling KDK 12.\\n</td>\n",
       "      <td>के डी के 1 बुला रहा है के डी के 12 को.\\n</td>\n",
       "      <td>[kdk, 1, calling, kdk, 12]</td>\n",
       "      <td>5</td>\n",
       "      <td>[&lt;begin&gt;, के, डी, के, 1, बुला, रहा, है, के, डी...</td>\n",
       "      <td>12</td>\n",
       "    </tr>\n",
       "    <tr>\n",
       "      <th>12675</th>\n",
       "      <td>You are nothing to him.\\n</td>\n",
       "      <td>आप उसे करने के लिए कुछ भी नहीं कर रहे हैं.\\n</td>\n",
       "      <td>[you, are, nothing, to, him]</td>\n",
       "      <td>5</td>\n",
       "      <td>[&lt;begin&gt;, आप, उसे, करने, के, लिए, कुछ, भी, नही...</td>\n",
       "      <td>11</td>\n",
       "    </tr>\n",
       "  </tbody>\n",
       "</table>\n",
       "<p>67 rows × 6 columns</p>\n",
       "</div>"
      ],
      "text/plain": [
       "                                     english  \\\n",
       "68992             Start anywhere you like.\\n   \n",
       "32941        A little unfinished business.\\n   \n",
       "91719            I can't remember. Really?\\n   \n",
       "66849                 Hard to know. Years?\\n   \n",
       "19117              Track ahead looks good.\\n   \n",
       "...                                      ...   \n",
       "2529                 KDK 1 calling KDK 12.\\n   \n",
       "90490  Well, that's very flattering, Andy.\\n   \n",
       "78153                I can't feel my legs.\\n   \n",
       "2538                 KDK 1 calling KDK 12.\\n   \n",
       "12675              You are nothing to him.\\n   \n",
       "\n",
       "                                                   hindi  \\\n",
       "68992      विनाश का दिवस जहाँ से चाहो शुरू कर सकते हो।\\n   \n",
       "32941  वह बेबी जैक पाया और वह उसे सुरक्षित रखने के लि...   \n",
       "91719  और तकनीकी तौर पर तुम एक मूर्ख हो, नहीं हो क्या?\\n   \n",
       "66849  कहना जरा कठिन है, फिर भी कुछ साल तो जरुर लगेंग...   \n",
       "19117     मैं ऐसा नहीं करोगे. लगता है एल एल कुछ देखना.\\n   \n",
       "...                                                  ...   \n",
       "2529             के डी के 1बुला रहा है के डी के 12 को.\\n   \n",
       "90490  तो यह इंटरव्यू ख़त्म हुआ समझो। यह बहुत ख़ुशी देन...   \n",
       "78153  मैं अपने पैरों को महसूस नहीं कर सकते हैं कर सक...   \n",
       "2538            के डी के 1 बुला रहा है के डी के 12 को.\\n   \n",
       "12675       आप उसे करने के लिए कुछ भी नहीं कर रहे हैं.\\n   \n",
       "\n",
       "                                cleaned_english  english_len  \\\n",
       "68992              [start, anywhere, you, like]            4   \n",
       "32941         [a, little, unfinished, business]            4   \n",
       "91719             [i, cannot, remember, really]            4   \n",
       "66849                   [hard, to, know, years]            4   \n",
       "19117               [track, ahead, looks, good]            4   \n",
       "...                                         ...          ...   \n",
       "2529                 [kdk, 1, calling, kdk, 12]            5   \n",
       "90490  [well, that, is, very, flattering, andy]            6   \n",
       "78153               [i, cannot, feel, my, legs]            5   \n",
       "2538                 [kdk, 1, calling, kdk, 12]            5   \n",
       "12675              [you, are, nothing, to, him]            5   \n",
       "\n",
       "                                           cleaned_hindi  hindi_len  \n",
       "68992  [<begin>, विनाश, का, दिवस, जहाँ, से, चाहो, शुर...         10  \n",
       "32941  [<begin>, वह, बेबी, जैक, पाया, और, वह, उसे, सु...         28  \n",
       "91719  [<begin>, और, तकनीकी, तौर, पर, तुम, एक, मूर्ख,...         11  \n",
       "66849  [<begin>, कहना, जरा, कठिन, है, फिर, भी, कुछ, स...         11  \n",
       "19117  [<begin>, मैं, ऐसा, नहीं, करोगे, लगता, है, एल,...         10  \n",
       "...                                                  ...        ...  \n",
       "2529   [<begin>, के, डी, के, 1बुला, रहा, है, के, डी, ...         11  \n",
       "90490  [<begin>, तो, यह, इंटरव्यू, ख़त्म, हुआ, समझो, य...         13  \n",
       "78153  [<begin>, मैं, अपने, पैरों, को, महसूस, नहीं, क...         12  \n",
       "2538   [<begin>, के, डी, के, 1, बुला, रहा, है, के, डी...         12  \n",
       "12675  [<begin>, आप, उसे, करने, के, लिए, कुछ, भी, नही...         11  \n",
       "\n",
       "[67 rows x 6 columns]"
      ]
     },
     "execution_count": 11,
     "metadata": {},
     "output_type": "execute_result"
    }
   ],
   "source": [
    "# examples of bad translations\n",
    "df[(df['hindi_len']-df['english_len'])>5]"
   ]
  },
  {
   "cell_type": "code",
   "execution_count": 12,
   "metadata": {},
   "outputs": [],
   "source": [
    "def make_vocab(all_sentences):\n",
    "    vocab = defaultdict(int)\n",
    "    for sent in all_sentences:\n",
    "        for word in sent:\n",
    "            vocab[word] += 1\n",
    "    return vocab\n",
    "\n",
    "english_vocab = make_vocab(df['cleaned_english'])\n",
    "hindi_vocab = make_vocab(df['cleaned_hindi'])"
   ]
  },
  {
   "cell_type": "code",
   "execution_count": 13,
   "metadata": {},
   "outputs": [
    {
     "data": {
      "text/plain": [
       "5499"
      ]
     },
     "execution_count": 13,
     "metadata": {},
     "output_type": "execute_result"
    }
   ],
   "source": [
    "len(english_vocab)"
   ]
  },
  {
   "cell_type": "code",
   "execution_count": 14,
   "metadata": {},
   "outputs": [
    {
     "data": {
      "text/plain": [
       "6539"
      ]
     },
     "execution_count": 14,
     "metadata": {},
     "output_type": "execute_result"
    }
   ],
   "source": [
    "len(hindi_vocab)"
   ]
  },
  {
   "cell_type": "code",
   "execution_count": 15,
   "metadata": {},
   "outputs": [
    {
     "data": {
      "text/plain": [
       "2357"
      ]
     },
     "execution_count": 15,
     "metadata": {},
     "output_type": "execute_result"
    }
   ],
   "source": [
    "sum(value > 1 for value in english_vocab.values())"
   ]
  },
  {
   "cell_type": "code",
   "execution_count": 16,
   "metadata": {},
   "outputs": [
    {
     "data": {
      "text/plain": [
       "2701"
      ]
     },
     "execution_count": 16,
     "metadata": {},
     "output_type": "execute_result"
    }
   ],
   "source": [
    "sum(value > 1 for value in hindi_vocab.values())"
   ]
  },
  {
   "cell_type": "markdown",
   "metadata": {},
   "source": [
    "was planning to convert non-frequent words to UNK but the dataset has too many of those and therefore would result in unnecessary high bleu score."
   ]
  },
  {
   "cell_type": "code",
   "execution_count": 17,
   "metadata": {},
   "outputs": [
    {
     "name": "stderr",
     "output_type": "stream",
     "text": [
      "400000it [00:31, 12699.85it/s]"
     ]
    },
    {
     "name": "stdout",
     "output_type": "stream",
     "text": [
      "400000  words loaded!\n"
     ]
    },
    {
     "name": "stderr",
     "output_type": "stream",
     "text": [
      "\n"
     ]
    }
   ],
   "source": [
    "# Loading Glove model ebeddings for input to encoder\n",
    "f = open('glove.6B.300d.txt','r')\n",
    "gloveModel = {}\n",
    "for line in tqdm(f):\n",
    "    splitLines = line.split()\n",
    "    word = splitLines[0]\n",
    "    wordEmbedding = np.array([float(value) for value in splitLines[1:]])\n",
    "    gloveModel[word] = wordEmbedding\n",
    "print(len(gloveModel),\" words loaded!\")"
   ]
  },
  {
   "cell_type": "code",
   "execution_count": 18,
   "metadata": {},
   "outputs": [],
   "source": [
    "embedding_dim = 300"
   ]
  },
  {
   "cell_type": "code",
   "execution_count": 19,
   "metadata": {},
   "outputs": [
    {
     "name": "stdout",
     "output_type": "stream",
     "text": [
      "5172 327\n"
     ]
    }
   ],
   "source": [
    "hits = 0\n",
    "misses = 0\n",
    "for word in english_vocab.keys():\n",
    "    if word in gloveModel:\n",
    "        hits+=1\n",
    "    else:\n",
    "        misses+=1\n",
    "print(hits,misses)"
   ]
  },
  {
   "cell_type": "markdown",
   "metadata": {},
   "source": [
    "so most of the words do have the embeddings"
   ]
  },
  {
   "cell_type": "code",
   "execution_count": 20,
   "metadata": {},
   "outputs": [
    {
     "name": "stderr",
     "output_type": "stream",
     "text": [
      "30394it [00:04, 6579.29it/s]"
     ]
    },
    {
     "name": "stdout",
     "output_type": "stream",
     "text": [
      "30393  words loaded!\n"
     ]
    },
    {
     "name": "stderr",
     "output_type": "stream",
     "text": [
      "\n"
     ]
    }
   ],
   "source": [
    "# Loading Glove model ebeddings for input to encoder\n",
    "f = open('hi/hi_new.tsv','r')\n",
    "hindi_embeddings = {}\n",
    "for line in tqdm(f):\n",
    "    try:\n",
    "        splitLines = line.split('\\t')\n",
    "        word = splitLines[1]\n",
    "        emb = re.sub('\\n','',splitLines[2].strip())\n",
    "        emb = re.sub(r' [ ]*',' ',emb)\n",
    "        emb= emb.split(' ')\n",
    "        wordEmbedding = np.array([float(value) for value in emb])\n",
    "        hindi_embeddings[word] = wordEmbedding\n",
    "    except Exception as e:\n",
    "        pass\n",
    "print(len(hindi_embeddings),\" words loaded!\")"
   ]
  },
  {
   "cell_type": "code",
   "execution_count": 21,
   "metadata": {},
   "outputs": [
    {
     "name": "stdout",
     "output_type": "stream",
     "text": [
      "4246 2293\n"
     ]
    }
   ],
   "source": [
    "hits = 0\n",
    "misses = 0\n",
    "for word in hindi_vocab.keys():\n",
    "    if word in hindi_embeddings:\n",
    "        hits+=1\n",
    "    else:\n",
    "        misses+=1\n",
    "print(hits,misses)"
   ]
  },
  {
   "cell_type": "markdown",
   "metadata": {},
   "source": [
    "Large amount of misses, so sticking to one-hot encoding"
   ]
  },
  {
   "cell_type": "code",
   "execution_count": 22,
   "metadata": {
    "scrolled": true
   },
   "outputs": [
    {
     "data": {
      "text/plain": [
       "True"
      ]
     },
     "execution_count": 22,
     "metadata": {},
     "output_type": "execute_result"
    }
   ],
   "source": [
    "'unk' in gloveModel"
   ]
  },
  {
   "cell_type": "code",
   "execution_count": 23,
   "metadata": {},
   "outputs": [],
   "source": [
    "index2word = ['<padding>'] + list(english_vocab.keys())\n",
    "word2index = {}\n",
    "for i,word in enumerate(index2word):\n",
    "    word2index[word]=i"
   ]
  },
  {
   "cell_type": "code",
   "execution_count": 24,
   "metadata": {},
   "outputs": [],
   "source": [
    "hi_index2word = ['<padding>'] + list(hindi_vocab.keys())\n",
    "hi_word2index = {}\n",
    "for i,word in enumerate(hi_index2word):\n",
    "    hi_word2index[word]=i"
   ]
  },
  {
   "cell_type": "code",
   "execution_count": 25,
   "metadata": {},
   "outputs": [],
   "source": [
    "def convert_eng(sentence, max_size=english_max_len):\n",
    "    result = [0]*max_size\n",
    "    for i,word in enumerate(sentence):\n",
    "        result[i] = word2index[word]\n",
    "    result.reverse()\n",
    "    return result"
   ]
  },
  {
   "cell_type": "code",
   "execution_count": 26,
   "metadata": {},
   "outputs": [],
   "source": [
    "def convert_hin(sentence, max_size=hindi_max_len):\n",
    "    result = [0]*max_size\n",
    "    for i,word in enumerate(sentence):\n",
    "        result[i] = hi_word2index[word]\n",
    "    return result"
   ]
  },
  {
   "cell_type": "code",
   "execution_count": 27,
   "metadata": {},
   "outputs": [
    {
     "data": {
      "text/html": [
       "<div>\n",
       "<style scoped>\n",
       "    .dataframe tbody tr th:only-of-type {\n",
       "        vertical-align: middle;\n",
       "    }\n",
       "\n",
       "    .dataframe tbody tr th {\n",
       "        vertical-align: top;\n",
       "    }\n",
       "\n",
       "    .dataframe thead th {\n",
       "        text-align: right;\n",
       "    }\n",
       "</style>\n",
       "<table border=\"1\" class=\"dataframe\">\n",
       "  <thead>\n",
       "    <tr style=\"text-align: right;\">\n",
       "      <th></th>\n",
       "      <th>english</th>\n",
       "      <th>hindi</th>\n",
       "      <th>cleaned_english</th>\n",
       "      <th>english_len</th>\n",
       "      <th>cleaned_hindi</th>\n",
       "      <th>hindi_len</th>\n",
       "      <th>encoder_input</th>\n",
       "      <th>decoder_input</th>\n",
       "      <th>decoder_output</th>\n",
       "    </tr>\n",
       "  </thead>\n",
       "  <tbody>\n",
       "    <tr>\n",
       "      <th>57382</th>\n",
       "      <td>Who is this man?\\n</td>\n",
       "      <td>-ये आदमी कौन है ?\\n</td>\n",
       "      <td>[who, is, this, man]</td>\n",
       "      <td>4</td>\n",
       "      <td>[&lt;begin&gt;, ये, आदमी, कौन, है, &lt;end&gt;]</td>\n",
       "      <td>4</td>\n",
       "      <td>[0, 0, 0, 0, 4, 3, 2, 1]</td>\n",
       "      <td>[1, 2, 3, 4, 5, 6, 0, 0, 0, 0, 0, 0, 0, 0, 0, ...</td>\n",
       "      <td>[2, 3, 4, 5, 6, 0, 0, 0, 0, 0, 0, 0, 0, 0, 0, ...</td>\n",
       "    </tr>\n",
       "    <tr>\n",
       "      <th>28149</th>\n",
       "      <td>And the other brother?\\n</td>\n",
       "      <td>और दूसरे भाई?\\n</td>\n",
       "      <td>[and, the, other, brother]</td>\n",
       "      <td>4</td>\n",
       "      <td>[&lt;begin&gt;, और, दूसरे, भाई, &lt;end&gt;]</td>\n",
       "      <td>3</td>\n",
       "      <td>[0, 0, 0, 0, 8, 7, 6, 5]</td>\n",
       "      <td>[1, 7, 8, 9, 6, 0, 0, 0, 0, 0, 0, 0, 0, 0, 0, ...</td>\n",
       "      <td>[7, 8, 9, 6, 0, 0, 0, 0, 0, 0, 0, 0, 0, 0, 0, ...</td>\n",
       "    </tr>\n",
       "    <tr>\n",
       "      <th>80284</th>\n",
       "      <td>- Greetings, Mustakeen bhai.\\n</td>\n",
       "      <td>नमस्ते, Mustakeen भाई।\\n</td>\n",
       "      <td>[greetings, mustakeen, bhai]</td>\n",
       "      <td>3</td>\n",
       "      <td>[&lt;begin&gt;, नमस्ते, mustakeen, भाई, &lt;end&gt;]</td>\n",
       "      <td>3</td>\n",
       "      <td>[0, 0, 0, 0, 0, 11, 10, 9]</td>\n",
       "      <td>[1, 10, 11, 9, 6, 0, 0, 0, 0, 0, 0, 0, 0, 0, 0...</td>\n",
       "      <td>[10, 11, 9, 6, 0, 0, 0, 0, 0, 0, 0, 0, 0, 0, 0...</td>\n",
       "    </tr>\n",
       "    <tr>\n",
       "      <th>63596</th>\n",
       "      <td>Please, reason with them.\\n</td>\n",
       "      <td>कृपया, उन लोगों के साथ कारण.\\n</td>\n",
       "      <td>[please, reason, with, them]</td>\n",
       "      <td>4</td>\n",
       "      <td>[&lt;begin&gt;, कृपया, उन, लोगों, के, साथ, कारण, &lt;end&gt;]</td>\n",
       "      <td>6</td>\n",
       "      <td>[0, 0, 0, 0, 15, 14, 13, 12]</td>\n",
       "      <td>[1, 12, 13, 14, 15, 16, 17, 6, 0, 0, 0, 0, 0, ...</td>\n",
       "      <td>[12, 13, 14, 15, 16, 17, 6, 0, 0, 0, 0, 0, 0, ...</td>\n",
       "    </tr>\n",
       "    <tr>\n",
       "      <th>9459</th>\n",
       "      <td>There's a howling gale.\\n</td>\n",
       "      <td>तेज़ हवा आ रही है।\\n</td>\n",
       "      <td>[there, is, a, howling, gale]</td>\n",
       "      <td>5</td>\n",
       "      <td>[&lt;begin&gt;, तेज़, हवा, आ, रही, है, &lt;end&gt;]</td>\n",
       "      <td>5</td>\n",
       "      <td>[0, 0, 0, 19, 18, 17, 2, 16]</td>\n",
       "      <td>[1, 18, 19, 20, 21, 5, 6, 0, 0, 0, 0, 0, 0, 0,...</td>\n",
       "      <td>[18, 19, 20, 21, 5, 6, 0, 0, 0, 0, 0, 0, 0, 0,...</td>\n",
       "    </tr>\n",
       "    <tr>\n",
       "      <th>...</th>\n",
       "      <td>...</td>\n",
       "      <td>...</td>\n",
       "      <td>...</td>\n",
       "      <td>...</td>\n",
       "      <td>...</td>\n",
       "      <td>...</td>\n",
       "      <td>...</td>\n",
       "      <td>...</td>\n",
       "      <td>...</td>\n",
       "    </tr>\n",
       "    <tr>\n",
       "      <th>80140</th>\n",
       "      <td>\"Let's enjoy this life, sweetheart.\"\\n</td>\n",
       "      <td>\"हम इस जीवन, जानेमन का आनंद लें।\"\\n</td>\n",
       "      <td>[let, us, enjoy, this, life, sweetheart]</td>\n",
       "      <td>6</td>\n",
       "      <td>[&lt;begin&gt;, हम, इस, जीवन, जानेमन, का, आनंद, लें,...</td>\n",
       "      <td>7</td>\n",
       "      <td>[0, 0, 2198, 360, 3, 2152, 51, 50]</td>\n",
       "      <td>[1, 161, 109, 411, 2574, 62, 2522, 2804, 6, 0,...</td>\n",
       "      <td>[161, 109, 411, 2574, 62, 2522, 2804, 6, 0, 0,...</td>\n",
       "    </tr>\n",
       "    <tr>\n",
       "      <th>66651</th>\n",
       "      <td>Let's get out of here.\\n</td>\n",
       "      <td>चलो अब चलो यहाँ से .\\n</td>\n",
       "      <td>[let, us, get, out, of, here]</td>\n",
       "      <td>6</td>\n",
       "      <td>[&lt;begin&gt;, चलो, अब, चलो, यहाँ, से, &lt;end&gt;]</td>\n",
       "      <td>5</td>\n",
       "      <td>[0, 0, 66, 54, 234, 167, 51, 50]</td>\n",
       "      <td>[1, 58, 40, 58, 74, 71, 6, 0, 0, 0, 0, 0, 0, 0...</td>\n",
       "      <td>[58, 40, 58, 74, 71, 6, 0, 0, 0, 0, 0, 0, 0, 0...</td>\n",
       "    </tr>\n",
       "    <tr>\n",
       "      <th>35946</th>\n",
       "      <td>WE'RE GOING TO THE GARAGE.\\n</td>\n",
       "      <td>हम गेराज के लिए जा रहे हैं.\\n</td>\n",
       "      <td>[we, are, going, to, the, garage]</td>\n",
       "      <td>6</td>\n",
       "      <td>[&lt;begin&gt;, हम, गेराज, के, लिए, जा, रहे, हैं, &lt;e...</td>\n",
       "      <td>7</td>\n",
       "      <td>[0, 0, 128, 6, 149, 572, 95, 134]</td>\n",
       "      <td>[1, 161, 6539, 15, 122, 434, 190, 54, 6, 0, 0,...</td>\n",
       "      <td>[161, 6539, 15, 122, 434, 190, 54, 6, 0, 0, 0,...</td>\n",
       "    </tr>\n",
       "    <tr>\n",
       "      <th>44917</th>\n",
       "      <td>It's gonna be dark soon.\\n</td>\n",
       "      <td>यह जल्द ही अंधेरा होने वाला है.\\n</td>\n",
       "      <td>[it, is, gonna, be, dark, soon]</td>\n",
       "      <td>6</td>\n",
       "      <td>[&lt;begin&gt;, यह, जल्द, ही, अंधेरा, होने, वाला, है...</td>\n",
       "      <td>7</td>\n",
       "      <td>[0, 0, 1567, 2306, 251, 366, 2, 43]</td>\n",
       "      <td>[1, 41, 2578, 119, 3210, 418, 155, 5, 6, 0, 0,...</td>\n",
       "      <td>[41, 2578, 119, 3210, 418, 155, 5, 6, 0, 0, 0,...</td>\n",
       "    </tr>\n",
       "    <tr>\n",
       "      <th>15083</th>\n",
       "      <td>I don't know, Frau Junge.\\n</td>\n",
       "      <td>मैं नहीं जानता, फ्रॉ जुंग.\\n</td>\n",
       "      <td>[i, do, not, know, frau, junge]</td>\n",
       "      <td>6</td>\n",
       "      <td>[&lt;begin&gt;, मैं, नहीं, जानता, फ्रॉ, जुंग, &lt;end&gt;]</td>\n",
       "      <td>5</td>\n",
       "      <td>[0, 0, 2634, 2633, 223, 23, 22, 73]</td>\n",
       "      <td>[1, 81, 22, 260, 3126, 3127, 6, 0, 0, 0, 0, 0,...</td>\n",
       "      <td>[81, 22, 260, 3126, 3127, 6, 0, 0, 0, 0, 0, 0,...</td>\n",
       "    </tr>\n",
       "  </tbody>\n",
       "</table>\n",
       "<p>10000 rows × 9 columns</p>\n",
       "</div>"
      ],
      "text/plain": [
       "                                      english  \\\n",
       "57382                      Who is this man?\\n   \n",
       "28149                And the other brother?\\n   \n",
       "80284          - Greetings, Mustakeen bhai.\\n   \n",
       "63596             Please, reason with them.\\n   \n",
       "9459                There's a howling gale.\\n   \n",
       "...                                       ...   \n",
       "80140  \"Let's enjoy this life, sweetheart.\"\\n   \n",
       "66651                Let's get out of here.\\n   \n",
       "35946            WE'RE GOING TO THE GARAGE.\\n   \n",
       "44917              It's gonna be dark soon.\\n   \n",
       "15083             I don't know, Frau Junge.\\n   \n",
       "\n",
       "                                     hindi  \\\n",
       "57382                  -ये आदमी कौन है ?\\n   \n",
       "28149                      और दूसरे भाई?\\n   \n",
       "80284             नमस्ते, Mustakeen भाई।\\n   \n",
       "63596       कृपया, उन लोगों के साथ कारण.\\n   \n",
       "9459                   तेज़ हवा आ रही है।\\n   \n",
       "...                                    ...   \n",
       "80140  \"हम इस जीवन, जानेमन का आनंद लें।\"\\n   \n",
       "66651               चलो अब चलो यहाँ से .\\n   \n",
       "35946        हम गेराज के लिए जा रहे हैं.\\n   \n",
       "44917    यह जल्द ही अंधेरा होने वाला है.\\n   \n",
       "15083         मैं नहीं जानता, फ्रॉ जुंग.\\n   \n",
       "\n",
       "                                cleaned_english  english_len  \\\n",
       "57382                      [who, is, this, man]            4   \n",
       "28149                [and, the, other, brother]            4   \n",
       "80284              [greetings, mustakeen, bhai]            3   \n",
       "63596              [please, reason, with, them]            4   \n",
       "9459              [there, is, a, howling, gale]            5   \n",
       "...                                         ...          ...   \n",
       "80140  [let, us, enjoy, this, life, sweetheart]            6   \n",
       "66651             [let, us, get, out, of, here]            6   \n",
       "35946         [we, are, going, to, the, garage]            6   \n",
       "44917           [it, is, gonna, be, dark, soon]            6   \n",
       "15083           [i, do, not, know, frau, junge]            6   \n",
       "\n",
       "                                           cleaned_hindi  hindi_len  \\\n",
       "57382                [<begin>, ये, आदमी, कौन, है, <end>]          4   \n",
       "28149                   [<begin>, और, दूसरे, भाई, <end>]          3   \n",
       "80284           [<begin>, नमस्ते, mustakeen, भाई, <end>]          3   \n",
       "63596  [<begin>, कृपया, उन, लोगों, के, साथ, कारण, <end>]          6   \n",
       "9459              [<begin>, तेज़, हवा, आ, रही, है, <end>]          5   \n",
       "...                                                  ...        ...   \n",
       "80140  [<begin>, हम, इस, जीवन, जानेमन, का, आनंद, लें,...          7   \n",
       "66651           [<begin>, चलो, अब, चलो, यहाँ, से, <end>]          5   \n",
       "35946  [<begin>, हम, गेराज, के, लिए, जा, रहे, हैं, <e...          7   \n",
       "44917  [<begin>, यह, जल्द, ही, अंधेरा, होने, वाला, है...          7   \n",
       "15083     [<begin>, मैं, नहीं, जानता, फ्रॉ, जुंग, <end>]          5   \n",
       "\n",
       "                             encoder_input  \\\n",
       "57382             [0, 0, 0, 0, 4, 3, 2, 1]   \n",
       "28149             [0, 0, 0, 0, 8, 7, 6, 5]   \n",
       "80284           [0, 0, 0, 0, 0, 11, 10, 9]   \n",
       "63596         [0, 0, 0, 0, 15, 14, 13, 12]   \n",
       "9459          [0, 0, 0, 19, 18, 17, 2, 16]   \n",
       "...                                    ...   \n",
       "80140   [0, 0, 2198, 360, 3, 2152, 51, 50]   \n",
       "66651     [0, 0, 66, 54, 234, 167, 51, 50]   \n",
       "35946    [0, 0, 128, 6, 149, 572, 95, 134]   \n",
       "44917  [0, 0, 1567, 2306, 251, 366, 2, 43]   \n",
       "15083  [0, 0, 2634, 2633, 223, 23, 22, 73]   \n",
       "\n",
       "                                           decoder_input  \\\n",
       "57382  [1, 2, 3, 4, 5, 6, 0, 0, 0, 0, 0, 0, 0, 0, 0, ...   \n",
       "28149  [1, 7, 8, 9, 6, 0, 0, 0, 0, 0, 0, 0, 0, 0, 0, ...   \n",
       "80284  [1, 10, 11, 9, 6, 0, 0, 0, 0, 0, 0, 0, 0, 0, 0...   \n",
       "63596  [1, 12, 13, 14, 15, 16, 17, 6, 0, 0, 0, 0, 0, ...   \n",
       "9459   [1, 18, 19, 20, 21, 5, 6, 0, 0, 0, 0, 0, 0, 0,...   \n",
       "...                                                  ...   \n",
       "80140  [1, 161, 109, 411, 2574, 62, 2522, 2804, 6, 0,...   \n",
       "66651  [1, 58, 40, 58, 74, 71, 6, 0, 0, 0, 0, 0, 0, 0...   \n",
       "35946  [1, 161, 6539, 15, 122, 434, 190, 54, 6, 0, 0,...   \n",
       "44917  [1, 41, 2578, 119, 3210, 418, 155, 5, 6, 0, 0,...   \n",
       "15083  [1, 81, 22, 260, 3126, 3127, 6, 0, 0, 0, 0, 0,...   \n",
       "\n",
       "                                          decoder_output  \n",
       "57382  [2, 3, 4, 5, 6, 0, 0, 0, 0, 0, 0, 0, 0, 0, 0, ...  \n",
       "28149  [7, 8, 9, 6, 0, 0, 0, 0, 0, 0, 0, 0, 0, 0, 0, ...  \n",
       "80284  [10, 11, 9, 6, 0, 0, 0, 0, 0, 0, 0, 0, 0, 0, 0...  \n",
       "63596  [12, 13, 14, 15, 16, 17, 6, 0, 0, 0, 0, 0, 0, ...  \n",
       "9459   [18, 19, 20, 21, 5, 6, 0, 0, 0, 0, 0, 0, 0, 0,...  \n",
       "...                                                  ...  \n",
       "80140  [161, 109, 411, 2574, 62, 2522, 2804, 6, 0, 0,...  \n",
       "66651  [58, 40, 58, 74, 71, 6, 0, 0, 0, 0, 0, 0, 0, 0...  \n",
       "35946  [161, 6539, 15, 122, 434, 190, 54, 6, 0, 0, 0,...  \n",
       "44917  [41, 2578, 119, 3210, 418, 155, 5, 6, 0, 0, 0,...  \n",
       "15083  [81, 22, 260, 3126, 3127, 6, 0, 0, 0, 0, 0, 0,...  \n",
       "\n",
       "[10000 rows x 9 columns]"
      ]
     },
     "execution_count": 27,
     "metadata": {},
     "output_type": "execute_result"
    }
   ],
   "source": [
    "df['encoder_input'] = df['cleaned_english'].apply(convert_eng)\n",
    "df['decoder_input'] = df['cleaned_hindi'].apply(convert_hin)\n",
    "df['decoder_output'] = df['decoder_input'].apply(lambda x: x[1:]+[0])\n",
    "df"
   ]
  },
  {
   "cell_type": "code",
   "execution_count": 28,
   "metadata": {},
   "outputs": [],
   "source": [
    "def hi_sentences_to_onehot(decoder_input_data, max_len=hindi_max_len, vocab_size=len(hi_index2word)):\n",
    "    num_samples = decoder_input_data.shape[0]\n",
    "    decoder_output_data = np.zeros((num_samples, max_len, vocab_size), dtype=\"float32\")\n",
    "\n",
    "    for i, sents in enumerate(decoder_input_data):\n",
    "        for j, word in enumerate(sents):\n",
    "            decoder_output_data[i][j][word] = 1.\n",
    "    return decoder_output_data"
   ]
  },
  {
   "cell_type": "code",
   "execution_count": 29,
   "metadata": {},
   "outputs": [],
   "source": [
    "def get_inputs(temp):\n",
    "    encoder_input = np.stack(temp['encoder_input'].to_numpy(),axis=1).T\n",
    "    decoder_input = hi_sentences_to_onehot(np.stack(temp['decoder_input'].to_numpy(),axis=1).T)\n",
    "    decoder_output = hi_sentences_to_onehot(np.stack(temp['decoder_output'].to_numpy(),axis=1).T)\n",
    "    return encoder_input,decoder_input,decoder_output"
   ]
  },
  {
   "cell_type": "code",
   "execution_count": 30,
   "metadata": {},
   "outputs": [],
   "source": [
    "train, validate, test = np.split(df.sample(frac=1,random_state=0), [int(.7*len(df)), int(.8*len(df))])"
   ]
  },
  {
   "cell_type": "code",
   "execution_count": 31,
   "metadata": {},
   "outputs": [],
   "source": [
    "train_x1,train_x2,train_y = get_inputs(train)\n",
    "val_x1,val_x2,val_y = get_inputs(validate)"
   ]
  },
  {
   "cell_type": "code",
   "execution_count": 32,
   "metadata": {},
   "outputs": [],
   "source": [
    "embedding_matrix = np.zeros((len(index2word), embedding_dim))\n",
    "for word, i in word2index.items():\n",
    "    embedding_vector = gloveModel.get(word)\n",
    "    if embedding_vector is not None:\n",
    "        embedding_matrix[i] = embedding_vector\n",
    "    elif i!=0:\n",
    "        embedding_matrix[i] = gloveModel.get('unk')"
   ]
  },
  {
   "cell_type": "markdown",
   "metadata": {},
   "source": [
    "## Build Model"
   ]
  },
  {
   "cell_type": "code",
   "execution_count": 33,
   "metadata": {},
   "outputs": [],
   "source": [
    "eng_sequences_input = keras.Input(shape=(None,), dtype=\"int64\")\n",
    "embedding_layer = layers.Embedding(\n",
    "    len(index2word),\n",
    "    embedding_dim,\n",
    "    embeddings_initializer=keras.initializers.Constant(embedding_matrix),\n",
    "    trainable=False,\n",
    ")\n",
    "embedded_sequences = embedding_layer(eng_sequences_input)"
   ]
  },
  {
   "cell_type": "code",
   "execution_count": 34,
   "metadata": {},
   "outputs": [],
   "source": [
    "lstm_dim = 100\n",
    "lstm1 = layers.LSTM(lstm_dim,return_sequences=True)(embedded_sequences)\n",
    "encoder_lstm_layer = layers.LSTM(lstm_dim, return_state=True)\n",
    "encoder_lstm,state_h,state_c = encoder_lstm_layer(lstm1)"
   ]
  },
  {
   "cell_type": "code",
   "execution_count": 35,
   "metadata": {
    "scrolled": false
   },
   "outputs": [],
   "source": [
    "hi_sequences_input = keras.Input(shape=(None,len(hi_index2word)), dtype=\"float32\")\n",
    "decoder_lstm = layers.LSTM(lstm_dim, return_state=True, return_sequences=True)\n",
    "decoder_outputs, _, _ = decoder_lstm(hi_sequences_input, initial_state=[state_h, state_c])\n",
    "prediction_layer = layers.Dense(len(hi_index2word), activation='softmax')\n",
    "hi_sequences_output = prediction_layer(decoder_outputs)"
   ]
  },
  {
   "cell_type": "code",
   "execution_count": 36,
   "metadata": {},
   "outputs": [
    {
     "name": "stdout",
     "output_type": "stream",
     "text": [
      "Model: \"functional_1\"\n",
      "__________________________________________________________________________________________________\n",
      "Layer (type)                    Output Shape         Param #     Connected to                     \n",
      "==================================================================================================\n",
      "input_1 (InputLayer)            [(None, None)]       0                                            \n",
      "__________________________________________________________________________________________________\n",
      "embedding (Embedding)           (None, None, 300)    1650000     input_1[0][0]                    \n",
      "__________________________________________________________________________________________________\n",
      "lstm (LSTM)                     (None, None, 100)    160400      embedding[0][0]                  \n",
      "__________________________________________________________________________________________________\n",
      "input_2 (InputLayer)            [(None, None, 6540)] 0                                            \n",
      "__________________________________________________________________________________________________\n",
      "lstm_1 (LSTM)                   [(None, 100), (None, 80400       lstm[0][0]                       \n",
      "__________________________________________________________________________________________________\n",
      "lstm_2 (LSTM)                   [(None, None, 100),  2656400     input_2[0][0]                    \n",
      "                                                                 lstm_1[0][1]                     \n",
      "                                                                 lstm_1[0][2]                     \n",
      "__________________________________________________________________________________________________\n",
      "dense (Dense)                   (None, None, 6540)   660540      lstm_2[0][0]                     \n",
      "==================================================================================================\n",
      "Total params: 5,207,740\n",
      "Trainable params: 3,557,740\n",
      "Non-trainable params: 1,650,000\n",
      "__________________________________________________________________________________________________\n"
     ]
    }
   ],
   "source": [
    "model = keras.Model([eng_sequences_input, hi_sequences_input], hi_sequences_output)\n",
    "model.summary()"
   ]
  },
  {
   "cell_type": "code",
   "execution_count": 37,
   "metadata": {},
   "outputs": [
    {
     "data": {
      "image/png": "[encoded data removed]",
      "text/plain": [
       "<IPython.core.display.Image object>"
      ]
     },
     "execution_count": 37,
     "metadata": {},
     "output_type": "execute_result"
    }
   ],
   "source": [
    "keras.utils.plot_model(model, \"seq2seq.png\", show_shapes=True)"
   ]
  },
  {
   "cell_type": "code",
   "execution_count": 38,
   "metadata": {},
   "outputs": [],
   "source": [
    "model.compile(optimizer='rmsprop', loss='categorical_crossentropy',metrics=['accuracy'])"
   ]
  },
  {
   "cell_type": "code",
   "execution_count": 39,
   "metadata": {},
   "outputs": [
    {
     "name": "stdout",
     "output_type": "stream",
     "text": [
      "Epoch 1/10\n",
      "350/350 [==============================] - 15s 44ms/step - loss: 1.5493 - accuracy: 0.8060 - val_loss: 1.1469 - val_accuracy: 0.8317\n",
      "Epoch 2/10\n",
      "350/350 [==============================] - 12s 35ms/step - loss: 1.0965 - accuracy: 0.8356 - val_loss: 1.0652 - val_accuracy: 0.8408\n",
      "Epoch 3/10\n",
      "350/350 [==============================] - 12s 36ms/step - loss: 1.0240 - accuracy: 0.8451 - val_loss: 1.0186 - val_accuracy: 0.8513\n",
      "Epoch 4/10\n",
      "350/350 [==============================] - 13s 37ms/step - loss: 0.9732 - accuracy: 0.8537 - val_loss: 0.9848 - val_accuracy: 0.8555\n",
      "Epoch 5/10\n",
      "350/350 [==============================] - 13s 38ms/step - loss: 0.9333 - accuracy: 0.8591 - val_loss: 0.9567 - val_accuracy: 0.8606\n",
      "Epoch 6/10\n",
      "350/350 [==============================] - 13s 36ms/step - loss: 0.8990 - accuracy: 0.8637 - val_loss: 0.9366 - val_accuracy: 0.8639\n",
      "Epoch 7/10\n",
      "350/350 [==============================] - 12s 35ms/step - loss: 0.8696 - accuracy: 0.8678 - val_loss: 0.9228 - val_accuracy: 0.8660\n",
      "Epoch 8/10\n",
      "350/350 [==============================] - 13s 36ms/step - loss: 0.8431 - accuracy: 0.8715 - val_loss: 0.9074 - val_accuracy: 0.8699\n",
      "Epoch 9/10\n",
      "350/350 [==============================] - 13s 36ms/step - loss: 0.8187 - accuracy: 0.8752 - val_loss: 0.8991 - val_accuracy: 0.8710\n",
      "Epoch 10/10\n",
      "350/350 [==============================] - 13s 36ms/step - loss: 0.7960 - accuracy: 0.8784 - val_loss: 0.8904 - val_accuracy: 0.8724\n"
     ]
    }
   ],
   "source": [
    "hist = model.fit([train_x1, train_x2], train_y, batch_size=20, epochs=10,\n",
    "                            validation_data=([val_x1, val_x2], val_y))"
   ]
  },
  {
   "cell_type": "code",
   "execution_count": 40,
   "metadata": {},
   "outputs": [
    {
     "data": {
      "image/png": "[encoded data removed]",
      "text/plain": [
       "<Figure size 432x288 with 1 Axes>"
      ]
     },
     "metadata": {
      "needs_background": "light"
     },
     "output_type": "display_data"
    },
    {
     "data": {
      "image/png": "[encoded data removed]",
      "text/plain": [
       "<Figure size 432x288 with 1 Axes>"
      ]
     },
     "metadata": {
      "needs_background": "light"
     },
     "output_type": "display_data"
    }
   ],
   "source": [
    "# Plot accuracy\n",
    "plt.plot(hist.history['accuracy'])\n",
    "plt.plot(hist.history['val_accuracy'])\n",
    "plt.title('Model Accuracy')\n",
    "plt.ylabel('Accuracy')\n",
    "plt.xlabel('Epoch')\n",
    "plt.legend(['Train', 'Validation'], loc='upper left')\n",
    "plt.show()\n",
    "\n",
    "# Plot loss\n",
    "plt.plot(hist.history['loss'])\n",
    "plt.plot(hist.history['val_loss'])\n",
    "plt.title('Model Loss')\n",
    "plt.ylabel('Loss')\n",
    "plt.xlabel('Epoch')\n",
    "plt.legend(['Train', 'Validation'], loc='upper right')\n",
    "plt.show()"
   ]
  },
  {
   "cell_type": "code",
   "execution_count": 41,
   "metadata": {},
   "outputs": [],
   "source": [
    "model.save(\"results/seq2seq\",save_format= \"h5\")"
   ]
  },
  {
   "cell_type": "markdown",
   "metadata": {},
   "source": [
    "### Inference"
   ]
  },
  {
   "cell_type": "code",
   "execution_count": 42,
   "metadata": {},
   "outputs": [
    {
     "name": "stdout",
     "output_type": "stream",
     "text": [
      "Model: \"functional_3\"\n",
      "_________________________________________________________________\n",
      "Layer (type)                 Output Shape              Param #   \n",
      "=================================================================\n",
      "input_1 (InputLayer)         [(None, None)]            0         \n",
      "_________________________________________________________________\n",
      "embedding (Embedding)        (None, None, 300)         1650000   \n",
      "_________________________________________________________________\n",
      "lstm (LSTM)                  (None, None, 100)         160400    \n",
      "_________________________________________________________________\n",
      "lstm_1 (LSTM)                [(None, 100), (None, 100) 80400     \n",
      "=================================================================\n",
      "Total params: 1,890,800\n",
      "Trainable params: 240,800\n",
      "Non-trainable params: 1,650,000\n",
      "_________________________________________________________________\n"
     ]
    }
   ],
   "source": [
    "encoder_model = keras.Model(eng_sequences_input,[state_h, state_c])\n",
    "encoder_model.summary()"
   ]
  },
  {
   "cell_type": "code",
   "execution_count": 43,
   "metadata": {},
   "outputs": [
    {
     "name": "stdout",
     "output_type": "stream",
     "text": [
      "Model: \"functional_5\"\n",
      "__________________________________________________________________________________________________\n",
      "Layer (type)                    Output Shape         Param #     Connected to                     \n",
      "==================================================================================================\n",
      "input_2 (InputLayer)            [(None, None, 6540)] 0                                            \n",
      "__________________________________________________________________________________________________\n",
      "input_3 (InputLayer)            [(None, 100)]        0                                            \n",
      "__________________________________________________________________________________________________\n",
      "input_4 (InputLayer)            [(None, 100)]        0                                            \n",
      "__________________________________________________________________________________________________\n",
      "lstm_2 (LSTM)                   [(None, None, 100),  2656400     input_2[0][0]                    \n",
      "                                                                 input_3[0][0]                    \n",
      "                                                                 input_4[0][0]                    \n",
      "__________________________________________________________________________________________________\n",
      "dense (Dense)                   (None, None, 6540)   660540      lstm_2[1][0]                     \n",
      "==================================================================================================\n",
      "Total params: 3,316,940\n",
      "Trainable params: 3,316,940\n",
      "Non-trainable params: 0\n",
      "__________________________________________________________________________________________________\n"
     ]
    }
   ],
   "source": [
    "decoder_state_input_h = layers.Input(shape=(lstm_dim,))\n",
    "decoder_state_input_c = layers.Input(shape=(lstm_dim,))\n",
    "decoder_states_inputs = [decoder_state_input_h, decoder_state_input_c]\n",
    "decoder_outputs, state_h, state_c = decoder_lstm(hi_sequences_input, initial_state=decoder_states_inputs)\n",
    "decoder_states = [state_h, state_c]\n",
    "decoder_outputs = prediction_layer(decoder_outputs)\n",
    "decoder_model = keras.Model(\n",
    "    [hi_sequences_input] + decoder_states_inputs,\n",
    "    [decoder_outputs] + decoder_states\n",
    ")\n",
    "decoder_model.summary()"
   ]
  },
  {
   "cell_type": "code",
   "execution_count": 44,
   "metadata": {},
   "outputs": [],
   "source": [
    "def to_one_hot(predicted_word):\n",
    "    hi_sent_input = np.zeros((1,1,len(hi_index2word)))\n",
    "    hi_sent_input[0][0][hi_word2index[predicted_word]]=1\n",
    "    return hi_sent_input\n",
    "    \n",
    "def translate_sentence(eng_sent):\n",
    "    eng_sent=np.array([eng_sent])\n",
    "    state1,state2 = encoder_model.predict(eng_sent)\n",
    "    predicted_word = '<begin>'\n",
    "    hi_sent_input = to_one_hot(predicted_word)\n",
    "    generated_translation = [predicted_word]\n",
    "    while predicted_word != '<end>' and len(generated_translation)<hindi_max_len:\n",
    "        new_word,state1,state2 = decoder_model.predict([hi_sent_input,state1,state2])\n",
    "        predicted_word = np.argmax(new_word[0, -1, :])\n",
    "        predicted_word = hi_index2word[predicted_word]\n",
    "        generated_translation.append(predicted_word)\n",
    "        hi_sent_input = to_one_hot(predicted_word)\n",
    "    return generated_translation"
   ]
  },
  {
   "cell_type": "code",
   "execution_count": 45,
   "metadata": {},
   "outputs": [
    {
     "name": "stdout",
     "output_type": "stream",
     "text": [
      "['<begin>', 'वह', 'यह', 'है', '<end>']\n"
     ]
    }
   ],
   "source": [
    "print(translate_sentence([0,0,0,0,0,4,3,2,1]))"
   ]
  },
  {
   "cell_type": "code",
   "execution_count": 46,
   "metadata": {},
   "outputs": [
    {
     "name": "stderr",
     "output_type": "stream",
     "text": [
      "/home/pranav/.local/lib/python3.8/site-packages/tqdm/std.py:668: FutureWarning: The Panel class is removed from pandas. Accessing it from the top-level namespace will also be removed in the next version\n",
      "  from pandas import Panel\n",
      "100%|██████████| 2000/2000 [07:52<00:00,  4.23it/s]\n"
     ]
    }
   ],
   "source": [
    "tqdm.pandas()\n",
    "test['generated_translation'] = test['encoder_input'].progress_apply(lambda x: translate_sentence(x))"
   ]
  },
  {
   "cell_type": "code",
   "execution_count": 47,
   "metadata": {},
   "outputs": [
    {
     "name": "stderr",
     "output_type": "stream",
     "text": [
      "  0%|          | 0/2000 [00:00<?, ?it/s]/home/pranav/.local/lib/python3.8/site-packages/nltk/translate/bleu_score.py:516: UserWarning: \n",
      "The hypothesis contains 0 counts of 2-gram overlaps.\n",
      "Therefore the BLEU score evaluates to 0, independently of\n",
      "how many N-gram overlaps of lower order it contains.\n",
      "Consider using lower n-gram order or use SmoothingFunction()\n",
      "  warnings.warn(_msg)\n",
      "/home/pranav/.local/lib/python3.8/site-packages/nltk/translate/bleu_score.py:516: UserWarning: \n",
      "The hypothesis contains 0 counts of 3-gram overlaps.\n",
      "Therefore the BLEU score evaluates to 0, independently of\n",
      "how many N-gram overlaps of lower order it contains.\n",
      "Consider using lower n-gram order or use SmoothingFunction()\n",
      "  warnings.warn(_msg)\n",
      "/home/pranav/.local/lib/python3.8/site-packages/nltk/translate/bleu_score.py:516: UserWarning: \n",
      "The hypothesis contains 0 counts of 4-gram overlaps.\n",
      "Therefore the BLEU score evaluates to 0, independently of\n",
      "how many N-gram overlaps of lower order it contains.\n",
      "Consider using lower n-gram order or use SmoothingFunction()\n",
      "  warnings.warn(_msg)\n",
      "100%|██████████| 2000/2000 [00:00<00:00, 4946.48it/s]\n"
     ]
    }
   ],
   "source": [
    "def get_score_bleu(x):\n",
    "    sent1 = ' '.join(x['cleaned_hindi'][1:-1])\n",
    "    sent2 = ' '.join(x['generated_translation'][1:-1])\n",
    "    return sentence_bleu([sent1],sent2)\n",
    "test['bleu_score'] = test.progress_apply(get_score_bleu,axis=1)"
   ]
  },
  {
   "cell_type": "code",
   "execution_count": 48,
   "metadata": {
    "scrolled": true
   },
   "outputs": [
    {
     "data": {
      "text/html": [
       "<div>\n",
       "<style scoped>\n",
       "    .dataframe tbody tr th:only-of-type {\n",
       "        vertical-align: middle;\n",
       "    }\n",
       "\n",
       "    .dataframe tbody tr th {\n",
       "        vertical-align: top;\n",
       "    }\n",
       "\n",
       "    .dataframe thead th {\n",
       "        text-align: right;\n",
       "    }\n",
       "</style>\n",
       "<table border=\"1\" class=\"dataframe\">\n",
       "  <thead>\n",
       "    <tr style=\"text-align: right;\">\n",
       "      <th></th>\n",
       "      <th>english</th>\n",
       "      <th>hindi</th>\n",
       "      <th>cleaned_english</th>\n",
       "      <th>english_len</th>\n",
       "      <th>cleaned_hindi</th>\n",
       "      <th>hindi_len</th>\n",
       "      <th>encoder_input</th>\n",
       "      <th>decoder_input</th>\n",
       "      <th>decoder_output</th>\n",
       "      <th>generated_translation</th>\n",
       "      <th>bleu_score</th>\n",
       "    </tr>\n",
       "  </thead>\n",
       "  <tbody>\n",
       "    <tr>\n",
       "      <th>56225</th>\n",
       "      <td>- Oh, my God.\\n</td>\n",
       "      <td>- ओह, मेरे भगवान.\\n</td>\n",
       "      <td>[oh, my, god]</td>\n",
       "      <td>3</td>\n",
       "      <td>[&lt;begin&gt;, ओह, मेरे, भगवान, &lt;end&gt;]</td>\n",
       "      <td>3</td>\n",
       "      <td>[0, 0, 0, 0, 0, 185, 76, 184]</td>\n",
       "      <td>[1, 216, 99, 217, 6, 0, 0, 0, 0, 0, 0, 0, 0, 0...</td>\n",
       "      <td>[216, 99, 217, 6, 0, 0, 0, 0, 0, 0, 0, 0, 0, 0...</td>\n",
       "      <td>[&lt;begin&gt;, ओह, मेरे, भगवान, &lt;end&gt;]</td>\n",
       "      <td>1.0</td>\n",
       "    </tr>\n",
       "    <tr>\n",
       "      <th>78317</th>\n",
       "      <td>No, no, no... ma'am.\\n</td>\n",
       "      <td>नहीं, नहीं, नहीं ...\\n</td>\n",
       "      <td>[no, no, no, ma'am]</td>\n",
       "      <td>4</td>\n",
       "      <td>[&lt;begin&gt;, नहीं, नहीं, नहीं, &lt;end&gt;]</td>\n",
       "      <td>3</td>\n",
       "      <td>[0, 0, 0, 0, 106, 20, 20, 20]</td>\n",
       "      <td>[1, 22, 22, 22, 6, 0, 0, 0, 0, 0, 0, 0, 0, 0, ...</td>\n",
       "      <td>[22, 22, 22, 6, 0, 0, 0, 0, 0, 0, 0, 0, 0, 0, ...</td>\n",
       "      <td>[&lt;begin&gt;, नहीं, नहीं, नहीं, &lt;end&gt;]</td>\n",
       "      <td>1.0</td>\n",
       "    </tr>\n",
       "    <tr>\n",
       "      <th>30614</th>\n",
       "      <td>man speaking native language:\\n</td>\n",
       "      <td>पुरुष अपनी मातृभाषा में बोल रहा है:\\n</td>\n",
       "      <td>[man, speaking, native, language]</td>\n",
       "      <td>4</td>\n",
       "      <td>[&lt;begin&gt;, पुरुष, अपनी, मातृभाषा, में, बोल, रहा...</td>\n",
       "      <td>7</td>\n",
       "      <td>[0, 0, 0, 0, 748, 747, 746, 4]</td>\n",
       "      <td>[1, 1072, 82, 849, 28, 555, 46, 5, 6, 0, 0, 0,...</td>\n",
       "      <td>[1072, 82, 849, 28, 555, 46, 5, 6, 0, 0, 0, 0,...</td>\n",
       "      <td>[&lt;begin&gt;, पुरुष, अपनी, मातृभाषा, में, बोल, रहा...</td>\n",
       "      <td>1.0</td>\n",
       "    </tr>\n",
       "    <tr>\n",
       "      <th>30715</th>\n",
       "      <td>man speaking native language:\\n</td>\n",
       "      <td>पुरुष अपनी मातृभाषा में बोल रहा है:\\n</td>\n",
       "      <td>[man, speaking, native, language]</td>\n",
       "      <td>4</td>\n",
       "      <td>[&lt;begin&gt;, पुरुष, अपनी, मातृभाषा, में, बोल, रहा...</td>\n",
       "      <td>7</td>\n",
       "      <td>[0, 0, 0, 0, 748, 747, 746, 4]</td>\n",
       "      <td>[1, 1072, 82, 849, 28, 555, 46, 5, 6, 0, 0, 0,...</td>\n",
       "      <td>[1072, 82, 849, 28, 555, 46, 5, 6, 0, 0, 0, 0,...</td>\n",
       "      <td>[&lt;begin&gt;, पुरुष, अपनी, मातृभाषा, में, बोल, रहा...</td>\n",
       "      <td>1.0</td>\n",
       "    </tr>\n",
       "    <tr>\n",
       "      <th>46357</th>\n",
       "      <td>We gotta get out.\\n</td>\n",
       "      <td>हम बाहर जाना होगा.\\n</td>\n",
       "      <td>[we, gotta, get, out]</td>\n",
       "      <td>4</td>\n",
       "      <td>[&lt;begin&gt;, हम, बाहर, जाना, होगा, &lt;end&gt;]</td>\n",
       "      <td>4</td>\n",
       "      <td>[0, 0, 0, 0, 234, 167, 704, 134]</td>\n",
       "      <td>[1, 161, 185, 804, 203, 6, 0, 0, 0, 0, 0, 0, 0...</td>\n",
       "      <td>[161, 185, 804, 203, 6, 0, 0, 0, 0, 0, 0, 0, 0...</td>\n",
       "      <td>[&lt;begin&gt;, हम, बाहर, जाना, होगा, &lt;end&gt;]</td>\n",
       "      <td>1.0</td>\n",
       "    </tr>\n",
       "    <tr>\n",
       "      <th>75487</th>\n",
       "      <td>- What are you doing?\\n</td>\n",
       "      <td>- तुम क्या कर रहे हो?\\n</td>\n",
       "      <td>[what, are, you, doing]</td>\n",
       "      <td>4</td>\n",
       "      <td>[&lt;begin&gt;, तुम, क्या, कर, रहे, हो, &lt;end&gt;]</td>\n",
       "      <td>5</td>\n",
       "      <td>[0, 0, 0, 0, 37, 21, 95, 90]</td>\n",
       "      <td>[1, 30, 176, 45, 190, 36, 6, 0, 0, 0, 0, 0, 0,...</td>\n",
       "      <td>[30, 176, 45, 190, 36, 6, 0, 0, 0, 0, 0, 0, 0,...</td>\n",
       "      <td>[&lt;begin&gt;, तुम, क्या, कर, रहे, हो, &lt;end&gt;]</td>\n",
       "      <td>1.0</td>\n",
       "    </tr>\n",
       "    <tr>\n",
       "      <th>11420</th>\n",
       "      <td>Are you all right?\\n</td>\n",
       "      <td>तुम ठीक हो?\\n</td>\n",
       "      <td>[are, you, all, right]</td>\n",
       "      <td>4</td>\n",
       "      <td>[&lt;begin&gt;, तुम, ठीक, हो, &lt;end&gt;]</td>\n",
       "      <td>3</td>\n",
       "      <td>[0, 0, 0, 0, 274, 309, 21, 95]</td>\n",
       "      <td>[1, 30, 98, 36, 6, 0, 0, 0, 0, 0, 0, 0, 0, 0, ...</td>\n",
       "      <td>[30, 98, 36, 6, 0, 0, 0, 0, 0, 0, 0, 0, 0, 0, ...</td>\n",
       "      <td>[&lt;begin&gt;, तुम, ठीक, हो, &lt;end&gt;]</td>\n",
       "      <td>1.0</td>\n",
       "    </tr>\n",
       "    <tr>\n",
       "      <th>372</th>\n",
       "      <td>- No, I don't.\\n</td>\n",
       "      <td>- नहीं, मैं नहीं.\\n</td>\n",
       "      <td>[no, i, do, not]</td>\n",
       "      <td>4</td>\n",
       "      <td>[&lt;begin&gt;, नहीं, मैं, नहीं, &lt;end&gt;]</td>\n",
       "      <td>3</td>\n",
       "      <td>[0, 0, 0, 0, 23, 22, 73, 20]</td>\n",
       "      <td>[1, 22, 81, 22, 6, 0, 0, 0, 0, 0, 0, 0, 0, 0, ...</td>\n",
       "      <td>[22, 81, 22, 6, 0, 0, 0, 0, 0, 0, 0, 0, 0, 0, ...</td>\n",
       "      <td>[&lt;begin&gt;, नहीं, मैं, नहीं, &lt;end&gt;]</td>\n",
       "      <td>1.0</td>\n",
       "    </tr>\n",
       "    <tr>\n",
       "      <th>87924</th>\n",
       "      <td>- What are you doing?\\n</td>\n",
       "      <td>- तुम क्या कर रहे हो?\\n</td>\n",
       "      <td>[what, are, you, doing]</td>\n",
       "      <td>4</td>\n",
       "      <td>[&lt;begin&gt;, तुम, क्या, कर, रहे, हो, &lt;end&gt;]</td>\n",
       "      <td>5</td>\n",
       "      <td>[0, 0, 0, 0, 37, 21, 95, 90]</td>\n",
       "      <td>[1, 30, 176, 45, 190, 36, 6, 0, 0, 0, 0, 0, 0,...</td>\n",
       "      <td>[30, 176, 45, 190, 36, 6, 0, 0, 0, 0, 0, 0, 0,...</td>\n",
       "      <td>[&lt;begin&gt;, तुम, क्या, कर, रहे, हो, &lt;end&gt;]</td>\n",
       "      <td>1.0</td>\n",
       "    </tr>\n",
       "    <tr>\n",
       "      <th>30644</th>\n",
       "      <td>man speaking native language:\\n</td>\n",
       "      <td>पुरुष अपनी मातृभाषा में बोल रहा है:\\n</td>\n",
       "      <td>[man, speaking, native, language]</td>\n",
       "      <td>4</td>\n",
       "      <td>[&lt;begin&gt;, पुरुष, अपनी, मातृभाषा, में, बोल, रहा...</td>\n",
       "      <td>7</td>\n",
       "      <td>[0, 0, 0, 0, 748, 747, 746, 4]</td>\n",
       "      <td>[1, 1072, 82, 849, 28, 555, 46, 5, 6, 0, 0, 0,...</td>\n",
       "      <td>[1072, 82, 849, 28, 555, 46, 5, 6, 0, 0, 0, 0,...</td>\n",
       "      <td>[&lt;begin&gt;, पुरुष, अपनी, मातृभाषा, में, बोल, रहा...</td>\n",
       "      <td>1.0</td>\n",
       "    </tr>\n",
       "    <tr>\n",
       "      <th>34126</th>\n",
       "      <td>- What is it?\\n</td>\n",
       "      <td>- यह क्या है?\\n</td>\n",
       "      <td>[what, is, it]</td>\n",
       "      <td>3</td>\n",
       "      <td>[&lt;begin&gt;, यह, क्या, है, &lt;end&gt;]</td>\n",
       "      <td>3</td>\n",
       "      <td>[0, 0, 0, 0, 0, 43, 2, 90]</td>\n",
       "      <td>[1, 41, 176, 5, 6, 0, 0, 0, 0, 0, 0, 0, 0, 0, ...</td>\n",
       "      <td>[41, 176, 5, 6, 0, 0, 0, 0, 0, 0, 0, 0, 0, 0, ...</td>\n",
       "      <td>[&lt;begin&gt;, यह, क्या, है, &lt;end&gt;]</td>\n",
       "      <td>1.0</td>\n",
       "    </tr>\n",
       "    <tr>\n",
       "      <th>44196</th>\n",
       "      <td>- What are you doing?\\n</td>\n",
       "      <td>- तुम क्या कर रहे हो?\\n</td>\n",
       "      <td>[what, are, you, doing]</td>\n",
       "      <td>4</td>\n",
       "      <td>[&lt;begin&gt;, तुम, क्या, कर, रहे, हो, &lt;end&gt;]</td>\n",
       "      <td>5</td>\n",
       "      <td>[0, 0, 0, 0, 37, 21, 95, 90]</td>\n",
       "      <td>[1, 30, 176, 45, 190, 36, 6, 0, 0, 0, 0, 0, 0,...</td>\n",
       "      <td>[30, 176, 45, 190, 36, 6, 0, 0, 0, 0, 0, 0, 0,...</td>\n",
       "      <td>[&lt;begin&gt;, तुम, क्या, कर, रहे, हो, &lt;end&gt;]</td>\n",
       "      <td>1.0</td>\n",
       "    </tr>\n",
       "    <tr>\n",
       "      <th>26009</th>\n",
       "      <td>- No, I'm not.\\n</td>\n",
       "      <td>- नहीं, मैं नहीं हूँ.\\n</td>\n",
       "      <td>[no, i, am, not]</td>\n",
       "      <td>4</td>\n",
       "      <td>[&lt;begin&gt;, नहीं, मैं, नहीं, हूँ, &lt;end&gt;]</td>\n",
       "      <td>4</td>\n",
       "      <td>[0, 0, 0, 0, 23, 74, 73, 20]</td>\n",
       "      <td>[1, 22, 81, 22, 86, 6, 0, 0, 0, 0, 0, 0, 0, 0,...</td>\n",
       "      <td>[22, 81, 22, 86, 6, 0, 0, 0, 0, 0, 0, 0, 0, 0,...</td>\n",
       "      <td>[&lt;begin&gt;, नहीं, मैं, नहीं, हूँ, &lt;end&gt;]</td>\n",
       "      <td>1.0</td>\n",
       "    </tr>\n",
       "  </tbody>\n",
       "</table>\n",
       "</div>"
      ],
      "text/plain": [
       "                               english                                  hindi  \\\n",
       "56225                  - Oh, my God.\\n                    - ओह, मेरे भगवान.\\n   \n",
       "78317           No, no, no... ma'am.\\n                 नहीं, नहीं, नहीं ...\\n   \n",
       "30614  man speaking native language:\\n  पुरुष अपनी मातृभाषा में बोल रहा है:\\n   \n",
       "30715  man speaking native language:\\n  पुरुष अपनी मातृभाषा में बोल रहा है:\\n   \n",
       "46357              We gotta get out.\\n                   हम बाहर जाना होगा.\\n   \n",
       "75487          - What are you doing?\\n                - तुम क्या कर रहे हो?\\n   \n",
       "11420             Are you all right?\\n                          तुम ठीक हो?\\n   \n",
       "372                   - No, I don't.\\n                    - नहीं, मैं नहीं.\\n   \n",
       "87924          - What are you doing?\\n                - तुम क्या कर रहे हो?\\n   \n",
       "30644  man speaking native language:\\n  पुरुष अपनी मातृभाषा में बोल रहा है:\\n   \n",
       "34126                  - What is it?\\n                        - यह क्या है?\\n   \n",
       "44196          - What are you doing?\\n                - तुम क्या कर रहे हो?\\n   \n",
       "26009                 - No, I'm not.\\n                - नहीं, मैं नहीं हूँ.\\n   \n",
       "\n",
       "                         cleaned_english  english_len  \\\n",
       "56225                      [oh, my, god]            3   \n",
       "78317                [no, no, no, ma'am]            4   \n",
       "30614  [man, speaking, native, language]            4   \n",
       "30715  [man, speaking, native, language]            4   \n",
       "46357              [we, gotta, get, out]            4   \n",
       "75487            [what, are, you, doing]            4   \n",
       "11420             [are, you, all, right]            4   \n",
       "372                     [no, i, do, not]            4   \n",
       "87924            [what, are, you, doing]            4   \n",
       "30644  [man, speaking, native, language]            4   \n",
       "34126                     [what, is, it]            3   \n",
       "44196            [what, are, you, doing]            4   \n",
       "26009                   [no, i, am, not]            4   \n",
       "\n",
       "                                           cleaned_hindi  hindi_len  \\\n",
       "56225                  [<begin>, ओह, मेरे, भगवान, <end>]          3   \n",
       "78317                 [<begin>, नहीं, नहीं, नहीं, <end>]          3   \n",
       "30614  [<begin>, पुरुष, अपनी, मातृभाषा, में, बोल, रहा...          7   \n",
       "30715  [<begin>, पुरुष, अपनी, मातृभाषा, में, बोल, रहा...          7   \n",
       "46357             [<begin>, हम, बाहर, जाना, होगा, <end>]          4   \n",
       "75487           [<begin>, तुम, क्या, कर, रहे, हो, <end>]          5   \n",
       "11420                     [<begin>, तुम, ठीक, हो, <end>]          3   \n",
       "372                    [<begin>, नहीं, मैं, नहीं, <end>]          3   \n",
       "87924           [<begin>, तुम, क्या, कर, रहे, हो, <end>]          5   \n",
       "30644  [<begin>, पुरुष, अपनी, मातृभाषा, में, बोल, रहा...          7   \n",
       "34126                     [<begin>, यह, क्या, है, <end>]          3   \n",
       "44196           [<begin>, तुम, क्या, कर, रहे, हो, <end>]          5   \n",
       "26009             [<begin>, नहीं, मैं, नहीं, हूँ, <end>]          4   \n",
       "\n",
       "                          encoder_input  \\\n",
       "56225     [0, 0, 0, 0, 0, 185, 76, 184]   \n",
       "78317     [0, 0, 0, 0, 106, 20, 20, 20]   \n",
       "30614    [0, 0, 0, 0, 748, 747, 746, 4]   \n",
       "30715    [0, 0, 0, 0, 748, 747, 746, 4]   \n",
       "46357  [0, 0, 0, 0, 234, 167, 704, 134]   \n",
       "75487      [0, 0, 0, 0, 37, 21, 95, 90]   \n",
       "11420    [0, 0, 0, 0, 274, 309, 21, 95]   \n",
       "372        [0, 0, 0, 0, 23, 22, 73, 20]   \n",
       "87924      [0, 0, 0, 0, 37, 21, 95, 90]   \n",
       "30644    [0, 0, 0, 0, 748, 747, 746, 4]   \n",
       "34126        [0, 0, 0, 0, 0, 43, 2, 90]   \n",
       "44196      [0, 0, 0, 0, 37, 21, 95, 90]   \n",
       "26009      [0, 0, 0, 0, 23, 74, 73, 20]   \n",
       "\n",
       "                                           decoder_input  \\\n",
       "56225  [1, 216, 99, 217, 6, 0, 0, 0, 0, 0, 0, 0, 0, 0...   \n",
       "78317  [1, 22, 22, 22, 6, 0, 0, 0, 0, 0, 0, 0, 0, 0, ...   \n",
       "30614  [1, 1072, 82, 849, 28, 555, 46, 5, 6, 0, 0, 0,...   \n",
       "30715  [1, 1072, 82, 849, 28, 555, 46, 5, 6, 0, 0, 0,...   \n",
       "46357  [1, 161, 185, 804, 203, 6, 0, 0, 0, 0, 0, 0, 0...   \n",
       "75487  [1, 30, 176, 45, 190, 36, 6, 0, 0, 0, 0, 0, 0,...   \n",
       "11420  [1, 30, 98, 36, 6, 0, 0, 0, 0, 0, 0, 0, 0, 0, ...   \n",
       "372    [1, 22, 81, 22, 6, 0, 0, 0, 0, 0, 0, 0, 0, 0, ...   \n",
       "87924  [1, 30, 176, 45, 190, 36, 6, 0, 0, 0, 0, 0, 0,...   \n",
       "30644  [1, 1072, 82, 849, 28, 555, 46, 5, 6, 0, 0, 0,...   \n",
       "34126  [1, 41, 176, 5, 6, 0, 0, 0, 0, 0, 0, 0, 0, 0, ...   \n",
       "44196  [1, 30, 176, 45, 190, 36, 6, 0, 0, 0, 0, 0, 0,...   \n",
       "26009  [1, 22, 81, 22, 86, 6, 0, 0, 0, 0, 0, 0, 0, 0,...   \n",
       "\n",
       "                                          decoder_output  \\\n",
       "56225  [216, 99, 217, 6, 0, 0, 0, 0, 0, 0, 0, 0, 0, 0...   \n",
       "78317  [22, 22, 22, 6, 0, 0, 0, 0, 0, 0, 0, 0, 0, 0, ...   \n",
       "30614  [1072, 82, 849, 28, 555, 46, 5, 6, 0, 0, 0, 0,...   \n",
       "30715  [1072, 82, 849, 28, 555, 46, 5, 6, 0, 0, 0, 0,...   \n",
       "46357  [161, 185, 804, 203, 6, 0, 0, 0, 0, 0, 0, 0, 0...   \n",
       "75487  [30, 176, 45, 190, 36, 6, 0, 0, 0, 0, 0, 0, 0,...   \n",
       "11420  [30, 98, 36, 6, 0, 0, 0, 0, 0, 0, 0, 0, 0, 0, ...   \n",
       "372    [22, 81, 22, 6, 0, 0, 0, 0, 0, 0, 0, 0, 0, 0, ...   \n",
       "87924  [30, 176, 45, 190, 36, 6, 0, 0, 0, 0, 0, 0, 0,...   \n",
       "30644  [1072, 82, 849, 28, 555, 46, 5, 6, 0, 0, 0, 0,...   \n",
       "34126  [41, 176, 5, 6, 0, 0, 0, 0, 0, 0, 0, 0, 0, 0, ...   \n",
       "44196  [30, 176, 45, 190, 36, 6, 0, 0, 0, 0, 0, 0, 0,...   \n",
       "26009  [22, 81, 22, 86, 6, 0, 0, 0, 0, 0, 0, 0, 0, 0,...   \n",
       "\n",
       "                                   generated_translation  bleu_score  \n",
       "56225                  [<begin>, ओह, मेरे, भगवान, <end>]         1.0  \n",
       "78317                 [<begin>, नहीं, नहीं, नहीं, <end>]         1.0  \n",
       "30614  [<begin>, पुरुष, अपनी, मातृभाषा, में, बोल, रहा...         1.0  \n",
       "30715  [<begin>, पुरुष, अपनी, मातृभाषा, में, बोल, रहा...         1.0  \n",
       "46357             [<begin>, हम, बाहर, जाना, होगा, <end>]         1.0  \n",
       "75487           [<begin>, तुम, क्या, कर, रहे, हो, <end>]         1.0  \n",
       "11420                     [<begin>, तुम, ठीक, हो, <end>]         1.0  \n",
       "372                    [<begin>, नहीं, मैं, नहीं, <end>]         1.0  \n",
       "87924           [<begin>, तुम, क्या, कर, रहे, हो, <end>]         1.0  \n",
       "30644  [<begin>, पुरुष, अपनी, मातृभाषा, में, बोल, रहा...         1.0  \n",
       "34126                     [<begin>, यह, क्या, है, <end>]         1.0  \n",
       "44196           [<begin>, तुम, क्या, कर, रहे, हो, <end>]         1.0  \n",
       "26009             [<begin>, नहीं, मैं, नहीं, हूँ, <end>]         1.0  "
      ]
     },
     "execution_count": 48,
     "metadata": {},
     "output_type": "execute_result"
    }
   ],
   "source": [
    "test[test['bleu_score']>0.9]"
   ]
  },
  {
   "cell_type": "code",
   "execution_count": 49,
   "metadata": {},
   "outputs": [
    {
     "data": {
      "text/html": [
       "<div>\n",
       "<style scoped>\n",
       "    .dataframe tbody tr th:only-of-type {\n",
       "        vertical-align: middle;\n",
       "    }\n",
       "\n",
       "    .dataframe tbody tr th {\n",
       "        vertical-align: top;\n",
       "    }\n",
       "\n",
       "    .dataframe thead th {\n",
       "        text-align: right;\n",
       "    }\n",
       "</style>\n",
       "<table border=\"1\" class=\"dataframe\">\n",
       "  <thead>\n",
       "    <tr style=\"text-align: right;\">\n",
       "      <th></th>\n",
       "      <th>english_len</th>\n",
       "      <th>hindi_len</th>\n",
       "      <th>bleu_score</th>\n",
       "    </tr>\n",
       "  </thead>\n",
       "  <tbody>\n",
       "    <tr>\n",
       "      <th>count</th>\n",
       "      <td>2000.000000</td>\n",
       "      <td>2000.000000</td>\n",
       "      <td>2.000000e+03</td>\n",
       "    </tr>\n",
       "    <tr>\n",
       "      <th>mean</th>\n",
       "      <td>4.652500</td>\n",
       "      <td>5.072000</td>\n",
       "      <td>2.033225e-01</td>\n",
       "    </tr>\n",
       "    <tr>\n",
       "      <th>std</th>\n",
       "      <td>0.860299</td>\n",
       "      <td>1.877652</td>\n",
       "      <td>2.004191e-01</td>\n",
       "    </tr>\n",
       "    <tr>\n",
       "      <th>min</th>\n",
       "      <td>1.000000</td>\n",
       "      <td>1.000000</td>\n",
       "      <td>0.000000e+00</td>\n",
       "    </tr>\n",
       "    <tr>\n",
       "      <th>25%</th>\n",
       "      <td>4.000000</td>\n",
       "      <td>4.000000</td>\n",
       "      <td>2.405452e-78</td>\n",
       "    </tr>\n",
       "    <tr>\n",
       "      <th>50%</th>\n",
       "      <td>5.000000</td>\n",
       "      <td>5.000000</td>\n",
       "      <td>1.787681e-01</td>\n",
       "    </tr>\n",
       "    <tr>\n",
       "      <th>75%</th>\n",
       "      <td>5.000000</td>\n",
       "      <td>6.000000</td>\n",
       "      <td>3.311098e-01</td>\n",
       "    </tr>\n",
       "    <tr>\n",
       "      <th>max</th>\n",
       "      <td>8.000000</td>\n",
       "      <td>28.000000</td>\n",
       "      <td>1.000000e+00</td>\n",
       "    </tr>\n",
       "  </tbody>\n",
       "</table>\n",
       "</div>"
      ],
      "text/plain": [
       "       english_len    hindi_len    bleu_score\n",
       "count  2000.000000  2000.000000  2.000000e+03\n",
       "mean      4.652500     5.072000  2.033225e-01\n",
       "std       0.860299     1.877652  2.004191e-01\n",
       "min       1.000000     1.000000  0.000000e+00\n",
       "25%       4.000000     4.000000  2.405452e-78\n",
       "50%       5.000000     5.000000  1.787681e-01\n",
       "75%       5.000000     6.000000  3.311098e-01\n",
       "max       8.000000    28.000000  1.000000e+00"
      ]
     },
     "execution_count": 49,
     "metadata": {},
     "output_type": "execute_result"
    }
   ],
   "source": [
    "test.describe()"
   ]
  },
  {
   "cell_type": "code",
   "execution_count": 50,
   "metadata": {},
   "outputs": [],
   "source": [
    "test.to_pickle('results/test_seq2seq.pickle')"
   ]
  }
 ],
 "metadata": {
  "kernelspec": {
   "display_name": "Python 3",
   "language": "python",
   "name": "python3"
  },
  "language_info": {
   "codemirror_mode": {
    "name": "ipython",
    "version": 3
   },
   "file_extension": ".py",
   "mimetype": "text/x-python",
   "name": "python",
   "nbconvert_exporter": "python",
   "pygments_lexer": "ipython3",
   "version": "3.8.5"
  }
 },
 "nbformat": 4,
 "nbformat_minor": 4
}
